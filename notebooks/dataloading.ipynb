{
 "cells": [
  {
   "cell_type": "code",
   "execution_count": 1,
   "metadata": {},
   "outputs": [
    {
     "name": "stdout",
     "output_type": "stream",
     "text": [
      "/home/marco/contrast-gan-3D\n"
     ]
    }
   ],
   "source": [
    "%cd ..\n",
    "\n",
    "%config InlineBackend.figure_format = \"retina\""
   ]
  },
  {
   "cell_type": "code",
   "execution_count": 2,
   "metadata": {},
   "outputs": [],
   "source": [
    "import numpy as np\n",
    "from torch.optim import Adam\n",
    "from torch.optim.lr_scheduler import MultiStepLR\n",
    "\n",
    "from contrast_gan_3D.constants import TRAIN_PATCH_SIZE\n",
    "from contrast_gan_3D.data import utils as dset_utils\n",
    "from contrast_gan_3D.data.CCTADataset import CCTADataset\n",
    "from contrast_gan_3D.model.discriminator import NLayerDiscriminator\n",
    "from contrast_gan_3D.model.generator import ResnetGenerator\n",
    "from contrast_gan_3D.trainer import utils as train_utils\n",
    "from contrast_gan_3D.trainer.Reloader import Reloader\n",
    "from contrast_gan_3D.trainer.Trainer import Trainer"
   ]
  },
  {
   "cell_type": "code",
   "execution_count": 3,
   "metadata": {},
   "outputs": [],
   "source": [
    "train_folds, val_folds = train_utils.crossval_paths(\"/home/marco/data/ostia_final.xlsx\")\n",
    "\n",
    "train_by_lab = [train_utils.divide_scans_in_fold(f) for f in train_folds]\n",
    "val_by_lab = [train_utils.divide_scans_in_fold(f) for f in val_folds]\n",
    "\n",
    "rng = np.random.default_rng(42)\n",
    "train_transforms = dset_utils.make_train_transforms()\n",
    "\n",
    "# iterate over whole cross-validation dataset\n",
    "for i, (train, val) in enumerate(zip(train_by_lab, val_by_lab)):\n",
    "    train_loaders = {}\n",
    "    for label, paths in train.items():\n",
    "        train_loaders[label] = Reloader(\n",
    "            CCTADataset(\n",
    "                paths,\n",
    "                [label] * len(paths),\n",
    "                TRAIN_PATCH_SIZE,\n",
    "                rng=rng,\n",
    "                transform=train_transforms,\n",
    "            ),\n",
    "            reload=True,\n",
    "            batch_size=1,\n",
    "            shuffle=True,\n",
    "        )\n",
    "\n",
    "    val_loaders = {}\n",
    "    for label, paths in val.items():\n",
    "        val_loaders[label] = Reloader(\n",
    "            # CCTADataset(paths, [label] * len(paths), -1, rng=rng),\n",
    "            CCTADataset(paths, [label] * len(paths), TRAIN_PATCH_SIZE, rng=rng),\n",
    "            reload=False,\n",
    "            batch_size=1,\n",
    "            shuffle=False,\n",
    "        )\n",
    "\n",
    "    # #########  TEST TRAIN\n",
    "    # for j in range(5):\n",
    "    #     print(j)\n",
    "    #     batch = next(train_loaders[ScanType.LOW.value])\n",
    "    #     print(batch[\"meta\"][\"path\"])\n",
    "    #     print(batch[\"data\"].shape)\n",
    "\n",
    "    # #########  TEST VAL\n",
    "    # print(len(val_loaders[ScanType.HIGH.value].dataset))\n",
    "    # for j, batch in enumerate(val_loaders[ScanType.HIGH.value]):\n",
    "    #     print(j)\n",
    "    #     print(batch[\"data\"].shape)\n",
    "    #     print(batch[\"meta\"][\"path\"])\n",
    "\n",
    "    # # only do one cross validation\n",
    "    # if i == 0:\n",
    "    #     break"
   ]
  },
  {
   "cell_type": "code",
   "execution_count": 4,
   "metadata": {},
   "outputs": [],
   "source": [
    "lr = 2e-4\n",
    "b1 = 5e-1\n",
    "b2 = 0.999\n",
    "milestones = [3, 7]\n",
    "lr_gamma = 0.1\n",
    "train_generator_every = 2\n",
    "hu_loss_kwargs = {\"bias\": -1024, \"factor\": 600, \"min_HU\": 350, \"max_HU\": 450}\n",
    "train_iterations = 10\n",
    "\n",
    "generator = ResnetGenerator(6, 2, 64)\n",
    "generator_optim = Adam(generator.parameters(), lr=lr, betas=(b1, b2))\n",
    "generator_lr_scheduler = MultiStepLR(\n",
    "    generator_optim, milestones=milestones, gamma=lr_gamma\n",
    ")\n",
    "\n",
    "discriminator = NLayerDiscriminator(1, 1, 3, 64)\n",
    "discriminator_optim = Adam(discriminator.parameters(), lr=lr, betas=(b1, b2))\n",
    "discriminator_lr_scheduler = MultiStepLR(\n",
    "    discriminator_optim, milestones=milestones, gamma=lr_gamma\n",
    ")\n",
    "\n",
    "trainer = Trainer(\n",
    "    generator,\n",
    "    discriminator,\n",
    "    generator_optim,\n",
    "    discriminator_optim,\n",
    "    train_generator_every,\n",
    "    generator_lr_scheduler=generator_lr_scheduler,\n",
    "    discriminator_lr_scheduler=discriminator_lr_scheduler,\n",
    "    device_num=4,\n",
    "    **hu_loss_kwargs\n",
    ")"
   ]
  },
  {
   "cell_type": "code",
   "execution_count": 5,
   "metadata": {},
   "outputs": [
    {
     "data": {
      "application/vnd.jupyter.widget-view+json": {
       "model_id": "b2966b680c4846cf9d31161179e788dc",
       "version_major": 2,
       "version_minor": 0
      },
      "text/plain": [
       "  0%|          | 0/12 [00:00<?, ?it/s]"
      ]
     },
     "metadata": {},
     "output_type": "display_data"
    },
    {
     "name": "stdout",
     "output_type": "stream",
     "text": [
      "\u001b[1mtrain\u001b[0m iteration 0 loss:\n",
      "\tD: -0.013175791129469872\n",
      "\tG: 62133.02734375\n",
      "\tadversarial: 0.006100583355873823\n",
      "\tsimilarity: -0.999999463558197\n",
      "\tHU: 62134.01953125\n",
      "\n",
      "\u001b[1mvalidation\u001b[0m iteration 1 loss:\n",
      "\tn_opt: 13\n",
      "\tn_subopt: 11\n",
      "\tD: 0.006461285054683685\n",
      "\tadversarial_real: 0.003233474213629961\n",
      "\tsimilarity: -0.9999995665116743\n",
      "\tadversarial_fake: -0.0032339888540181246\n",
      "\tadversarial: 0.0032339888540181246\n",
      "\n",
      "\u001b[1mtrain\u001b[0m iteration 2 loss:\n",
      "\tD: 0.013791349716484547\n",
      "\tG: 94563.0546875\n",
      "\tadversarial: -0.001969830831512809\n",
      "\tsimilarity: -0.9999997019767761\n",
      "\tHU: 94564.0546875\n",
      "\n",
      "\u001b[1mvalidation\u001b[0m iteration 3 loss:\n",
      "\tn_opt: 13\n",
      "\tn_subopt: 11\n",
      "\tD: 0.0\n",
      "\tadversarial_real: 0.0\n",
      "\tsimilarity: 0.0\n",
      "\tadversarial_fake: 0.0\n",
      "\tadversarial: 0.0\n",
      "\n",
      "\u001b[1mtrain\u001b[0m iteration 4 loss:\n",
      "\tD: -0.007481778040528297\n",
      "\tG: 278065.3125\n",
      "\tadversarial: 0.007585951127111912\n",
      "\tsimilarity: -0.9999997019767761\n",
      "\tHU: 278066.3125\n",
      "\n",
      "\u001b[1mvalidation\u001b[0m iteration 5 loss:\n",
      "\tn_opt: 13\n",
      "\tn_subopt: 11\n",
      "\tD: 0.0\n",
      "\tadversarial_real: 0.0\n",
      "\tsimilarity: 0.0\n",
      "\tadversarial_fake: 0.0\n",
      "\tadversarial: 0.0\n",
      "\n",
      "\u001b[1mtrain\u001b[0m iteration 6 loss:\n",
      "\tD: -0.0036250643897801638\n",
      "\tG: 30906.474609375\n",
      "\tadversarial: 0.004523340612649918\n",
      "\tsimilarity: -0.9999997019767761\n",
      "\tHU: 30907.470703125\n",
      "\n",
      "\u001b[1mvalidation\u001b[0m iteration 7 loss:\n",
      "\tn_opt: 13\n",
      "\tn_subopt: 11\n",
      "\tD: 0.0\n",
      "\tadversarial_real: 0.0\n",
      "\tsimilarity: 0.0\n",
      "\tadversarial_fake: 0.0\n",
      "\tadversarial: 0.0\n",
      "\n"
     ]
    },
    {
     "ename": "KeyboardInterrupt",
     "evalue": "",
     "output_type": "error",
     "traceback": [
      "\u001b[0;31m---------------------------------------------------------------------------\u001b[0m",
      "\u001b[0;31mKeyboardInterrupt\u001b[0m                         Traceback (most recent call last)",
      "Cell \u001b[0;32mIn[5], line 1\u001b[0m\n\u001b[0;32m----> 1\u001b[0m \u001b[43mtrainer\u001b[49m\u001b[38;5;241;43m.\u001b[39;49m\u001b[43mfit\u001b[49m\u001b[43m(\u001b[49m\u001b[38;5;241;43m12\u001b[39;49m\u001b[43m,\u001b[49m\u001b[43m \u001b[49m\u001b[43mtrain_loaders\u001b[49m\u001b[43m,\u001b[49m\u001b[43m \u001b[49m\u001b[43mval_loaders\u001b[49m\u001b[43m)\u001b[49m\n",
      "File \u001b[0;32m~/contrast-gan-3D/contrast_gan_3D/trainer/Trainer.py:133\u001b[0m, in \u001b[0;36mTrainer.fit\u001b[0;34m(self, train_iterations, train_loaders, val_loaders)\u001b[0m\n\u001b[1;32m    130\u001b[0m subopt \u001b[38;5;241m=\u001b[39m torch\u001b[38;5;241m.\u001b[39mcat([low[\u001b[38;5;124m\"\u001b[39m\u001b[38;5;124mdata\u001b[39m\u001b[38;5;124m\"\u001b[39m], high[\u001b[38;5;124m\"\u001b[39m\u001b[38;5;124mdata\u001b[39m\u001b[38;5;124m\"\u001b[39m]])\n\u001b[1;32m    131\u001b[0m subopt_mask \u001b[38;5;241m=\u001b[39m torch\u001b[38;5;241m.\u001b[39mcat([low[\u001b[38;5;124m\"\u001b[39m\u001b[38;5;124mseg\u001b[39m\u001b[38;5;124m\"\u001b[39m], high[\u001b[38;5;124m\"\u001b[39m\u001b[38;5;124mseg\u001b[39m\u001b[38;5;124m\"\u001b[39m]])\n\u001b[0;32m--> 133\u001b[0m train_loss \u001b[38;5;241m=\u001b[39m \u001b[38;5;28;43mself\u001b[39;49m\u001b[38;5;241;43m.\u001b[39;49m\u001b[43mtrain_step\u001b[49m\u001b[43m(\u001b[49m\u001b[43mopt\u001b[49m\u001b[43m[\u001b[49m\u001b[38;5;124;43m\"\u001b[39;49m\u001b[38;5;124;43mdata\u001b[39;49m\u001b[38;5;124;43m\"\u001b[39;49m\u001b[43m]\u001b[49m\u001b[43m,\u001b[49m\u001b[43m \u001b[49m\u001b[43msubopt\u001b[49m\u001b[43m,\u001b[49m\u001b[43m \u001b[49m\u001b[43msubopt_mask\u001b[49m\u001b[43m,\u001b[49m\u001b[43m \u001b[49m\u001b[43miteration\u001b[49m\u001b[43m)\u001b[49m\n\u001b[1;32m    135\u001b[0m \u001b[38;5;66;03m# if iteration % 100 == 0:\u001b[39;00m\n\u001b[1;32m    136\u001b[0m \u001b[38;5;28;01mif\u001b[39;00m iteration \u001b[38;5;241m%\u001b[39m \u001b[38;5;241m2\u001b[39m \u001b[38;5;241m==\u001b[39m \u001b[38;5;241m0\u001b[39m:\n",
      "File \u001b[0;32m~/contrast-gan-3D/contrast_gan_3D/trainer/Trainer.py:101\u001b[0m, in \u001b[0;36mTrainer.train_step\u001b[0;34m(self, opt, subopt, subopt_mask, iteration)\u001b[0m\n\u001b[1;32m     95\u001b[0m     \u001b[38;5;28mself\u001b[39m\u001b[38;5;241m.\u001b[39moptimizer_G\u001b[38;5;241m.\u001b[39mstep()\n\u001b[1;32m     97\u001b[0m     \u001b[38;5;28;01mfor\u001b[39;00m k, v \u001b[38;5;129;01min\u001b[39;00m \u001b[38;5;28mzip\u001b[39m(\n\u001b[1;32m     98\u001b[0m         [\u001b[38;5;124m\"\u001b[39m\u001b[38;5;124mG\u001b[39m\u001b[38;5;124m\"\u001b[39m, \u001b[38;5;124m\"\u001b[39m\u001b[38;5;124madversarial\u001b[39m\u001b[38;5;124m\"\u001b[39m, \u001b[38;5;124m\"\u001b[39m\u001b[38;5;124msimilarity\u001b[39m\u001b[38;5;124m\"\u001b[39m, \u001b[38;5;124m\"\u001b[39m\u001b[38;5;124mHU\u001b[39m\u001b[38;5;124m\"\u001b[39m],\n\u001b[1;32m     99\u001b[0m         [loss_G, loss_a, loss_i, loss_hu],\n\u001b[1;32m    100\u001b[0m     ):\n\u001b[0;32m--> 101\u001b[0m         ret[k] \u001b[38;5;241m=\u001b[39m \u001b[43mv\u001b[49m\u001b[38;5;241;43m.\u001b[39;49m\u001b[43mcpu\u001b[49m\u001b[43m(\u001b[49m\u001b[43m)\u001b[49m\u001b[38;5;241m.\u001b[39mitem()\n\u001b[1;32m    103\u001b[0m \u001b[38;5;66;03m# update learning rate schedulers, if any\u001b[39;00m\n\u001b[1;32m    104\u001b[0m \u001b[38;5;28;01mfor\u001b[39;00m tag \u001b[38;5;129;01min\u001b[39;00m \u001b[38;5;28mlist\u001b[39m(\u001b[38;5;124m\"\u001b[39m\u001b[38;5;124mGD\u001b[39m\u001b[38;5;124m\"\u001b[39m):\n",
      "\u001b[0;31mKeyboardInterrupt\u001b[0m: "
     ]
    }
   ],
   "source": [
    "trainer.fit(12, train_loaders, val_loaders)"
   ]
  }
 ],
 "metadata": {
  "kernelspec": {
   "display_name": "Python 3",
   "language": "python",
   "name": "python3"
  },
  "language_info": {
   "codemirror_mode": {
    "name": "ipython",
    "version": 3
   },
   "file_extension": ".py",
   "mimetype": "text/x-python",
   "name": "python",
   "nbconvert_exporter": "python",
   "pygments_lexer": "ipython3",
   "version": "3.11.7"
  }
 },
 "nbformat": 4,
 "nbformat_minor": 2
}
