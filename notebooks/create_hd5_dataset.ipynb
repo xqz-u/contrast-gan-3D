{
 "cells": [
  {
   "cell_type": "markdown",
   "metadata": {},
   "source": [
    "# Automatic Centerlines Extraction"
   ]
  },
  {
   "cell_type": "markdown",
   "metadata": {},
   "source": [
    "\n",
    "First, extract the coronary artery centerlines from your dataset using the method described in \n",
    "[Coronary artery centerline extraction in cardiac CT angiography using a CNN-based orientation classifier (Wolternik et al., 2019b)](https://www.sciencedirect.com/science/article/pii/S1361841518308491). For now, CCTA scans from `<dataset_dir>` are matched with the patterns `*.mhd`\n",
    "and `*_image.nii.gz`. "
   ]
  },
  {
   "cell_type": "markdown",
   "metadata": {},
   "source": [
    "```bash\n",
    "source scripts/centerlines_autoextract.sh <dataset_dir> <output_dir>\n",
    "```"
   ]
  },
  {
   "cell_type": "markdown",
   "metadata": {},
   "source": [
    "For every `datapoint_X` in `<dataset_dir>`, this command creates files `<output_dir>/<datapoint_X>/vessel0.txt`,\n",
    "`<output_dir>/<datapoint_X>/vessel1.txt` etc., where each `vessel<N>.txt` file corresponds to a discovered coranary \n",
    "artery vessel and it contains an array of 4D points (3D XYZ coordinates + artery lumen radius estimate)."
   ]
  },
  {
   "cell_type": "markdown",
   "metadata": {},
   "source": [
    "## Create the HD5-encoded Dataset"
   ]
  },
  {
   "cell_type": "markdown",
   "metadata": {},
   "source": [
    "The HD5 file type allows on-the-fly loading of big datasets, without the need to load entire arrays in memory -- \n",
    "relevant parts are loaded as needed, reducing memory footprint. \n",
    "\n",
    "For more inforamation, refer to the \n",
    "[HD5 Python documentation](https://docs.h5py.org/en/stable/)."
   ]
  },
  {
   "cell_type": "code",
   "execution_count": null,
   "metadata": {},
   "outputs": [
    {
     "name": "stdout",
     "output_type": "stream",
     "text": [
      "/home/marco/contrast-gan-3D\n"
     ]
    }
   ],
   "source": [
    "%cd ../"
   ]
  },
  {
   "cell_type": "markdown",
   "metadata": {},
   "source": [
    "Adjust the variables in the following cell to match your setup:"
   ]
  },
  {
   "cell_type": "code",
   "execution_count": null,
   "metadata": {},
   "outputs": [
    {
     "name": "stdout",
     "output_type": "stream",
     "text": [
      "/home/marco/data/ASOCA_Philips/images\n",
      "/home/marco/data/ASOCA_Philips/images/auto_centerlines\n",
      "None\n",
      "False\n"
     ]
    }
   ],
   "source": [
    "from pathlib import Path\n",
    "\n",
    "DATASET_DIR = Path(\"/home/marco/data/ASOCA_Philips/images\")\n",
    "\n",
    "OUTPUT_DIR = DATASET_DIR / \"auto_centerlines\"\n",
    "\n",
    "REORIENT_RPS = \"MMWHS\" in str(DATASET_DIR)\n",
    "\n",
    "# By default, .h5 converted files are saved inside `datset_dir`; set this\n",
    "# variable if you want to save them somewhere else\n",
    "H5_OUTPUT_DIR = None\n",
    "\n",
    "print(str(DATASET_DIR))\n",
    "print(str(OUTPUT_DIR))\n",
    "print(str(H5_OUTPUT_DIR))\n",
    "print(REORIENT_RPS)"
   ]
  },
  {
   "cell_type": "code",
   "execution_count": null,
   "metadata": {},
   "outputs": [
    {
     "name": "stdout",
     "output_type": "stream",
     "text": [
      "Found 60 CCTAs with 60 centerlines\n",
      "[(PosixPath('/home/marco/data/ASOCA_Philips/images/ASOCA-000.mhd'),\n",
      "  PosixPath('/home/marco/data/ASOCA_Philips/images/auto_centerlines/ASOCA-000')),\n",
      " (PosixPath('/home/marco/data/ASOCA_Philips/images/ASOCA-001.mhd'),\n",
      "  PosixPath('/home/marco/data/ASOCA_Philips/images/auto_centerlines/ASOCA-001')),\n",
      " (PosixPath('/home/marco/data/ASOCA_Philips/images/ASOCA-002.mhd'),\n",
      "  PosixPath('/home/marco/data/ASOCA_Philips/images/auto_centerlines/ASOCA-002'))]\n"
     ]
    }
   ],
   "source": [
    "from pprint import pprint\n",
    "\n",
    "cctas = sorted(\n",
    "    list(DATASET_DIR.glob(\"*.mhd\")) + list(DATASET_DIR.glob(\"*_image.nii.gz\"))\n",
    ")\n",
    "centerlines = sorted([d for d in OUTPUT_DIR.glob(\"*\") if d.is_dir()])\n",
    "print(f\"Found {len(cctas)} CCTAs with {len(centerlines)} centerlines\")\n",
    "\n",
    "zipped = list(zip(cctas, centerlines))\n",
    "pprint(zipped[:3])"
   ]
  },
  {
   "cell_type": "code",
   "execution_count": null,
   "metadata": {},
   "outputs": [
    {
     "name": "stdout",
     "output_type": "stream",
     "text": [
      "contrast_gan_3D.utils.io_utils: INFO -> DEBUG\n"
     ]
    }
   ],
   "source": [
    "from contrast_gan_3D.utils import io_utils, logging_utils\n",
    "\n",
    "logging_utils.set_project_loggers_level(level=\"DEBUG\")"
   ]
  },
  {
   "cell_type": "code",
   "execution_count": null,
   "metadata": {},
   "outputs": [
    {
     "name": "stdout",
     "output_type": "stream",
     "text": [
      "[2024-01-18 10:35:41,806: DEBUG] Saved centerlines to '/home/marco/data/ASOCA_Philips/images/auto_centerlines/ASOCA-000/centerlines.npz' with key 'centerlines' (contrast_gan_3D.utils.io_utils:74)\n",
      "[2024-01-18 10:35:41,809: DEBUG] CCTA: (512, 512, 204) centerlines: (15239, 4) ostia: (2, 3) (contrast_gan_3D.utils.io_utils:130)\n",
      "[2024-01-18 10:35:41,811: DEBUG] H5 file: '/home/roel/data/ASOCA_Philips/images/ASOCA-000.h5' (contrast_gan_3D.utils.io_utils:139)\n",
      "[2024-01-18 10:35:45,604: DEBUG] Saved centerlines to '/home/marco/data/ASOCA_Philips/images/auto_centerlines/ASOCA-001/centerlines.npz' with key 'centerlines' (contrast_gan_3D.utils.io_utils:74)\n",
      "[2024-01-18 10:35:45,610: DEBUG] CCTA: (512, 512, 183) centerlines: (13193, 4) ostia: (2, 3) (contrast_gan_3D.utils.io_utils:130)\n",
      "[2024-01-18 10:35:45,611: DEBUG] H5 file: '/home/roel/data/ASOCA_Philips/images/ASOCA-001.h5' (contrast_gan_3D.utils.io_utils:139)\n",
      "[2024-01-18 10:35:50,272: DEBUG] Saved centerlines to '/home/marco/data/ASOCA_Philips/images/auto_centerlines/ASOCA-002/centerlines.npz' with key 'centerlines' (contrast_gan_3D.utils.io_utils:74)\n",
      "[2024-01-18 10:35:50,273: DEBUG] CCTA: (512, 512, 212) centerlines: (20240, 4) ostia: (2, 3) (contrast_gan_3D.utils.io_utils:130)\n",
      "[2024-01-18 10:35:50,274: DEBUG] H5 file: '/home/roel/data/ASOCA_Philips/images/ASOCA-002.h5' (contrast_gan_3D.utils.io_utils:139)\n",
      "[2024-01-18 10:35:53,969: DEBUG] Saved centerlines to '/home/marco/data/ASOCA_Philips/images/auto_centerlines/ASOCA-003/centerlines.npz' with key 'centerlines' (contrast_gan_3D.utils.io_utils:74)\n",
      "[2024-01-18 10:35:53,972: DEBUG] CCTA: (512, 512, 211) centerlines: (17428, 4) ostia: (2, 3) (contrast_gan_3D.utils.io_utils:130)\n",
      "[2024-01-18 10:35:53,976: DEBUG] H5 file: '/home/roel/data/ASOCA_Philips/images/ASOCA-003.h5' (contrast_gan_3D.utils.io_utils:139)\n",
      "[2024-01-18 10:35:58,150: DEBUG] Saved centerlines to '/home/marco/data/ASOCA_Philips/images/auto_centerlines/ASOCA-004/centerlines.npz' with key 'centerlines' (contrast_gan_3D.utils.io_utils:74)\n",
      "[2024-01-18 10:35:58,156: DEBUG] CCTA: (512, 512, 201) centerlines: (8343, 4) ostia: (2, 3) (contrast_gan_3D.utils.io_utils:130)\n",
      "[2024-01-18 10:35:58,157: DEBUG] H5 file: '/home/roel/data/ASOCA_Philips/images/ASOCA-004.h5' (contrast_gan_3D.utils.io_utils:139)\n",
      "[2024-01-18 10:36:02,193: DEBUG] Saved centerlines to '/home/marco/data/ASOCA_Philips/images/auto_centerlines/ASOCA-005/centerlines.npz' with key 'centerlines' (contrast_gan_3D.utils.io_utils:74)\n",
      "[2024-01-18 10:36:02,203: DEBUG] CCTA: (512, 512, 217) centerlines: (16552, 4) ostia: (2, 3) (contrast_gan_3D.utils.io_utils:130)\n",
      "[2024-01-18 10:36:02,207: DEBUG] H5 file: '/home/roel/data/ASOCA_Philips/images/ASOCA-005.h5' (contrast_gan_3D.utils.io_utils:139)\n",
      "[2024-01-18 10:36:06,702: DEBUG] Saved centerlines to '/home/marco/data/ASOCA_Philips/images/auto_centerlines/ASOCA-006/centerlines.npz' with key 'centerlines' (contrast_gan_3D.utils.io_utils:74)\n",
      "[2024-01-18 10:36:06,703: DEBUG] CCTA: (512, 512, 202) centerlines: (10994, 4) ostia: (2, 3) (contrast_gan_3D.utils.io_utils:130)\n",
      "[2024-01-18 10:36:06,704: DEBUG] H5 file: '/home/roel/data/ASOCA_Philips/images/ASOCA-006.h5' (contrast_gan_3D.utils.io_utils:139)\n",
      "[2024-01-18 10:36:11,524: DEBUG] Saved centerlines to '/home/marco/data/ASOCA_Philips/images/auto_centerlines/ASOCA-007/centerlines.npz' with key 'centerlines' (contrast_gan_3D.utils.io_utils:74)\n",
      "[2024-01-18 10:36:11,525: DEBUG] CCTA: (512, 512, 224) centerlines: (15006, 4) ostia: (2, 3) (contrast_gan_3D.utils.io_utils:130)\n",
      "[2024-01-18 10:36:11,526: DEBUG] H5 file: '/home/roel/data/ASOCA_Philips/images/ASOCA-007.h5' (contrast_gan_3D.utils.io_utils:139)\n",
      "[2024-01-18 10:36:15,567: DEBUG] Saved centerlines to '/home/marco/data/ASOCA_Philips/images/auto_centerlines/ASOCA-008/centerlines.npz' with key 'centerlines' (contrast_gan_3D.utils.io_utils:74)\n",
      "[2024-01-18 10:36:15,574: DEBUG] CCTA: (512, 512, 224) centerlines: (18089, 4) ostia: (2, 3) (contrast_gan_3D.utils.io_utils:130)\n",
      "[2024-01-18 10:36:15,575: DEBUG] H5 file: '/home/roel/data/ASOCA_Philips/images/ASOCA-008.h5' (contrast_gan_3D.utils.io_utils:139)\n",
      "[2024-01-18 10:36:20,520: DEBUG] Saved centerlines to '/home/marco/data/ASOCA_Philips/images/auto_centerlines/ASOCA-009/centerlines.npz' with key 'centerlines' (contrast_gan_3D.utils.io_utils:74)\n",
      "[2024-01-18 10:36:20,529: DEBUG] CCTA: (512, 512, 209) centerlines: (20984, 4) ostia: (2, 3) (contrast_gan_3D.utils.io_utils:130)\n",
      "[2024-01-18 10:36:20,530: DEBUG] H5 file: '/home/roel/data/ASOCA_Philips/images/ASOCA-009.h5' (contrast_gan_3D.utils.io_utils:139)\n",
      "[2024-01-18 10:36:25,877: DEBUG] Saved centerlines to '/home/marco/data/ASOCA_Philips/images/auto_centerlines/ASOCA-010/centerlines.npz' with key 'centerlines' (contrast_gan_3D.utils.io_utils:74)\n",
      "[2024-01-18 10:36:25,878: DEBUG] CCTA: (512, 512, 212) centerlines: (11908, 4) ostia: (2, 3) (contrast_gan_3D.utils.io_utils:130)\n",
      "[2024-01-18 10:36:25,879: DEBUG] H5 file: '/home/roel/data/ASOCA_Philips/images/ASOCA-010.h5' (contrast_gan_3D.utils.io_utils:139)\n",
      "[2024-01-18 10:36:31,154: DEBUG] Saved centerlines to '/home/marco/data/ASOCA_Philips/images/auto_centerlines/ASOCA-011/centerlines.npz' with key 'centerlines' (contrast_gan_3D.utils.io_utils:74)\n",
      "[2024-01-18 10:36:31,156: DEBUG] CCTA: (512, 512, 206) centerlines: (10605, 4) ostia: (2, 3) (contrast_gan_3D.utils.io_utils:130)\n",
      "[2024-01-18 10:36:31,158: DEBUG] H5 file: '/home/roel/data/ASOCA_Philips/images/ASOCA-011.h5' (contrast_gan_3D.utils.io_utils:139)\n",
      "[2024-01-18 10:36:35,442: DEBUG] Saved centerlines to '/home/marco/data/ASOCA_Philips/images/auto_centerlines/ASOCA-012/centerlines.npz' with key 'centerlines' (contrast_gan_3D.utils.io_utils:74)\n",
      "[2024-01-18 10:36:35,444: DEBUG] CCTA: (512, 512, 199) centerlines: (7980, 4) ostia: (2, 3) (contrast_gan_3D.utils.io_utils:130)\n",
      "[2024-01-18 10:36:35,446: DEBUG] H5 file: '/home/roel/data/ASOCA_Philips/images/ASOCA-012.h5' (contrast_gan_3D.utils.io_utils:139)\n",
      "[2024-01-18 10:36:40,421: DEBUG] Saved centerlines to '/home/marco/data/ASOCA_Philips/images/auto_centerlines/ASOCA-013/centerlines.npz' with key 'centerlines' (contrast_gan_3D.utils.io_utils:74)\n",
      "[2024-01-18 10:36:40,425: DEBUG] CCTA: (512, 512, 216) centerlines: (13576, 4) ostia: (2, 3) (contrast_gan_3D.utils.io_utils:130)\n",
      "[2024-01-18 10:36:40,427: DEBUG] H5 file: '/home/roel/data/ASOCA_Philips/images/ASOCA-013.h5' (contrast_gan_3D.utils.io_utils:139)\n",
      "[2024-01-18 10:36:44,108: DEBUG] Saved centerlines to '/home/marco/data/ASOCA_Philips/images/auto_centerlines/ASOCA-014/centerlines.npz' with key 'centerlines' (contrast_gan_3D.utils.io_utils:74)\n",
      "[2024-01-18 10:36:44,112: DEBUG] CCTA: (512, 512, 207) centerlines: (16093, 4) ostia: (2, 3) (contrast_gan_3D.utils.io_utils:130)\n",
      "[2024-01-18 10:36:44,113: DEBUG] H5 file: '/home/roel/data/ASOCA_Philips/images/ASOCA-014.h5' (contrast_gan_3D.utils.io_utils:139)\n",
      "[2024-01-18 10:36:49,448: DEBUG] Saved centerlines to '/home/marco/data/ASOCA_Philips/images/auto_centerlines/ASOCA-015/centerlines.npz' with key 'centerlines' (contrast_gan_3D.utils.io_utils:74)\n",
      "[2024-01-18 10:36:49,450: DEBUG] CCTA: (512, 512, 207) centerlines: (13003, 4) ostia: (2, 3) (contrast_gan_3D.utils.io_utils:130)\n",
      "[2024-01-18 10:36:49,451: DEBUG] H5 file: '/home/roel/data/ASOCA_Philips/images/ASOCA-015.h5' (contrast_gan_3D.utils.io_utils:139)\n",
      "[2024-01-18 10:36:54,968: DEBUG] Saved centerlines to '/home/marco/data/ASOCA_Philips/images/auto_centerlines/ASOCA-016/centerlines.npz' with key 'centerlines' (contrast_gan_3D.utils.io_utils:74)\n",
      "[2024-01-18 10:36:54,969: DEBUG] CCTA: (512, 512, 224) centerlines: (9827, 4) ostia: (2, 3) (contrast_gan_3D.utils.io_utils:130)\n",
      "[2024-01-18 10:36:54,972: DEBUG] H5 file: '/home/roel/data/ASOCA_Philips/images/ASOCA-016.h5' (contrast_gan_3D.utils.io_utils:139)\n",
      "[2024-01-18 10:36:59,511: DEBUG] Saved centerlines to '/home/marco/data/ASOCA_Philips/images/auto_centerlines/ASOCA-017/centerlines.npz' with key 'centerlines' (contrast_gan_3D.utils.io_utils:74)\n",
      "[2024-01-18 10:36:59,520: DEBUG] CCTA: (512, 512, 168) centerlines: (9649, 4) ostia: (2, 3) (contrast_gan_3D.utils.io_utils:130)\n",
      "[2024-01-18 10:36:59,521: DEBUG] H5 file: '/home/roel/data/ASOCA_Philips/images/ASOCA-017.h5' (contrast_gan_3D.utils.io_utils:139)\n",
      "[2024-01-18 10:37:03,298: DEBUG] Saved centerlines to '/home/marco/data/ASOCA_Philips/images/auto_centerlines/ASOCA-018/centerlines.npz' with key 'centerlines' (contrast_gan_3D.utils.io_utils:74)\n",
      "[2024-01-18 10:37:03,306: DEBUG] CCTA: (512, 512, 224) centerlines: (11695, 4) ostia: (2, 3) (contrast_gan_3D.utils.io_utils:130)\n",
      "[2024-01-18 10:37:03,307: DEBUG] H5 file: '/home/roel/data/ASOCA_Philips/images/ASOCA-018.h5' (contrast_gan_3D.utils.io_utils:139)\n",
      "[2024-01-18 10:37:08,242: DEBUG] Saved centerlines to '/home/marco/data/ASOCA_Philips/images/auto_centerlines/ASOCA-019/centerlines.npz' with key 'centerlines' (contrast_gan_3D.utils.io_utils:74)\n",
      "[2024-01-18 10:37:08,249: DEBUG] CCTA: (512, 512, 224) centerlines: (15734, 4) ostia: (2, 3) (contrast_gan_3D.utils.io_utils:130)\n",
      "[2024-01-18 10:37:08,250: DEBUG] H5 file: '/home/roel/data/ASOCA_Philips/images/ASOCA-019.h5' (contrast_gan_3D.utils.io_utils:139)\n",
      "[2024-01-18 10:37:12,969: DEBUG] Saved centerlines to '/home/marco/data/ASOCA_Philips/images/auto_centerlines/ASOCA-020/centerlines.npz' with key 'centerlines' (contrast_gan_3D.utils.io_utils:74)\n",
      "[2024-01-18 10:37:12,971: DEBUG] CCTA: (512, 512, 224) centerlines: (12570, 4) ostia: (2, 3) (contrast_gan_3D.utils.io_utils:130)\n",
      "[2024-01-18 10:37:12,973: DEBUG] H5 file: '/home/roel/data/ASOCA_Philips/images/ASOCA-020.h5' (contrast_gan_3D.utils.io_utils:139)\n",
      "[2024-01-18 10:37:19,384: DEBUG] Saved centerlines to '/home/marco/data/ASOCA_Philips/images/auto_centerlines/ASOCA-021/centerlines.npz' with key 'centerlines' (contrast_gan_3D.utils.io_utils:74)\n",
      "[2024-01-18 10:37:19,385: DEBUG] CCTA: (512, 512, 224) centerlines: (17330, 4) ostia: (2, 3) (contrast_gan_3D.utils.io_utils:130)\n",
      "[2024-01-18 10:37:19,386: DEBUG] H5 file: '/home/roel/data/ASOCA_Philips/images/ASOCA-021.h5' (contrast_gan_3D.utils.io_utils:139)\n",
      "[2024-01-18 10:37:25,969: DEBUG] Saved centerlines to '/home/marco/data/ASOCA_Philips/images/auto_centerlines/ASOCA-022/centerlines.npz' with key 'centerlines' (contrast_gan_3D.utils.io_utils:74)\n",
      "[2024-01-18 10:37:25,972: DEBUG] CCTA: (512, 512, 224) centerlines: (15470, 4) ostia: (2, 3) (contrast_gan_3D.utils.io_utils:130)\n",
      "[2024-01-18 10:37:25,973: DEBUG] H5 file: '/home/roel/data/ASOCA_Philips/images/ASOCA-022.h5' (contrast_gan_3D.utils.io_utils:139)\n",
      "[2024-01-18 10:37:34,196: DEBUG] Saved centerlines to '/home/marco/data/ASOCA_Philips/images/auto_centerlines/ASOCA-023/centerlines.npz' with key 'centerlines' (contrast_gan_3D.utils.io_utils:74)\n",
      "[2024-01-18 10:37:34,204: DEBUG] CCTA: (512, 512, 224) centerlines: (14084, 4) ostia: (2, 3) (contrast_gan_3D.utils.io_utils:130)\n",
      "[2024-01-18 10:37:34,205: DEBUG] H5 file: '/home/roel/data/ASOCA_Philips/images/ASOCA-023.h5' (contrast_gan_3D.utils.io_utils:139)\n",
      "[2024-01-18 10:37:38,545: DEBUG] Saved centerlines to '/home/marco/data/ASOCA_Philips/images/auto_centerlines/ASOCA-024/centerlines.npz' with key 'centerlines' (contrast_gan_3D.utils.io_utils:74)\n",
      "[2024-01-18 10:37:38,546: DEBUG] CCTA: (512, 512, 224) centerlines: (17569, 4) ostia: (2, 3) (contrast_gan_3D.utils.io_utils:130)\n",
      "[2024-01-18 10:37:38,548: DEBUG] H5 file: '/home/roel/data/ASOCA_Philips/images/ASOCA-024.h5' (contrast_gan_3D.utils.io_utils:139)\n",
      "[2024-01-18 10:37:42,933: DEBUG] CCTA: (512, 512, 224) centerlines: (0,) ostia: (2, 3) (contrast_gan_3D.utils.io_utils:130)\n",
      "[2024-01-18 10:37:42,934: DEBUG] H5 file: '/home/roel/data/ASOCA_Philips/images/ASOCA-025.h5' (contrast_gan_3D.utils.io_utils:139)\n",
      "[2024-01-18 10:37:47,920: DEBUG] Saved centerlines to '/home/marco/data/ASOCA_Philips/images/auto_centerlines/ASOCA-026/centerlines.npz' with key 'centerlines' (contrast_gan_3D.utils.io_utils:74)\n",
      "[2024-01-18 10:37:47,924: DEBUG] CCTA: (512, 512, 224) centerlines: (15646, 4) ostia: (2, 3) (contrast_gan_3D.utils.io_utils:130)\n",
      "[2024-01-18 10:37:47,932: DEBUG] H5 file: '/home/roel/data/ASOCA_Philips/images/ASOCA-026.h5' (contrast_gan_3D.utils.io_utils:139)\n",
      "[2024-01-18 10:37:51,656: DEBUG] Saved centerlines to '/home/marco/data/ASOCA_Philips/images/auto_centerlines/ASOCA-027/centerlines.npz' with key 'centerlines' (contrast_gan_3D.utils.io_utils:74)\n",
      "[2024-01-18 10:37:51,660: DEBUG] CCTA: (512, 512, 224) centerlines: (9417, 4) ostia: (2, 3) (contrast_gan_3D.utils.io_utils:130)\n",
      "[2024-01-18 10:37:51,661: DEBUG] H5 file: '/home/roel/data/ASOCA_Philips/images/ASOCA-027.h5' (contrast_gan_3D.utils.io_utils:139)\n",
      "[2024-01-18 10:37:55,373: DEBUG] Saved centerlines to '/home/marco/data/ASOCA_Philips/images/auto_centerlines/ASOCA-028/centerlines.npz' with key 'centerlines' (contrast_gan_3D.utils.io_utils:74)\n",
      "[2024-01-18 10:37:55,376: DEBUG] CCTA: (512, 512, 224) centerlines: (24459, 4) ostia: (2, 3) (contrast_gan_3D.utils.io_utils:130)\n",
      "[2024-01-18 10:37:55,377: DEBUG] H5 file: '/home/roel/data/ASOCA_Philips/images/ASOCA-028.h5' (contrast_gan_3D.utils.io_utils:139)\n",
      "[2024-01-18 10:38:00,093: DEBUG] Saved centerlines to '/home/marco/data/ASOCA_Philips/images/auto_centerlines/ASOCA-029/centerlines.npz' with key 'centerlines' (contrast_gan_3D.utils.io_utils:74)\n",
      "[2024-01-18 10:38:00,094: DEBUG] CCTA: (512, 512, 224) centerlines: (10534, 4) ostia: (2, 3) (contrast_gan_3D.utils.io_utils:130)\n",
      "[2024-01-18 10:38:00,095: DEBUG] H5 file: '/home/roel/data/ASOCA_Philips/images/ASOCA-029.h5' (contrast_gan_3D.utils.io_utils:139)\n",
      "[2024-01-18 10:38:04,484: DEBUG] Saved centerlines to '/home/marco/data/ASOCA_Philips/images/auto_centerlines/ASOCA-030/centerlines.npz' with key 'centerlines' (contrast_gan_3D.utils.io_utils:74)\n",
      "[2024-01-18 10:38:04,488: DEBUG] CCTA: (512, 512, 224) centerlines: (17329, 4) ostia: (2, 3) (contrast_gan_3D.utils.io_utils:130)\n",
      "[2024-01-18 10:38:04,496: DEBUG] H5 file: '/home/roel/data/ASOCA_Philips/images/ASOCA-030.h5' (contrast_gan_3D.utils.io_utils:139)\n",
      "[2024-01-18 10:38:09,318: DEBUG] Saved centerlines to '/home/marco/data/ASOCA_Philips/images/auto_centerlines/ASOCA-031/centerlines.npz' with key 'centerlines' (contrast_gan_3D.utils.io_utils:74)\n",
      "[2024-01-18 10:38:09,326: DEBUG] CCTA: (512, 512, 224) centerlines: (16564, 4) ostia: (2, 3) (contrast_gan_3D.utils.io_utils:130)\n",
      "[2024-01-18 10:38:09,327: DEBUG] H5 file: '/home/roel/data/ASOCA_Philips/images/ASOCA-031.h5' (contrast_gan_3D.utils.io_utils:139)\n",
      "[2024-01-18 10:38:14,698: DEBUG] Saved centerlines to '/home/marco/data/ASOCA_Philips/images/auto_centerlines/ASOCA-032/centerlines.npz' with key 'centerlines' (contrast_gan_3D.utils.io_utils:74)\n",
      "[2024-01-18 10:38:14,699: DEBUG] CCTA: (512, 512, 224) centerlines: (9367, 4) ostia: (2, 3) (contrast_gan_3D.utils.io_utils:130)\n",
      "[2024-01-18 10:38:14,700: DEBUG] H5 file: '/home/roel/data/ASOCA_Philips/images/ASOCA-032.h5' (contrast_gan_3D.utils.io_utils:139)\n",
      "[2024-01-18 10:38:19,852: DEBUG] Saved centerlines to '/home/marco/data/ASOCA_Philips/images/auto_centerlines/ASOCA-033/centerlines.npz' with key 'centerlines' (contrast_gan_3D.utils.io_utils:74)\n",
      "[2024-01-18 10:38:19,853: DEBUG] CCTA: (512, 512, 224) centerlines: (15379, 4) ostia: (2, 3) (contrast_gan_3D.utils.io_utils:130)\n",
      "[2024-01-18 10:38:19,854: DEBUG] H5 file: '/home/roel/data/ASOCA_Philips/images/ASOCA-033.h5' (contrast_gan_3D.utils.io_utils:139)\n",
      "[2024-01-18 10:38:24,944: DEBUG] Saved centerlines to '/home/marco/data/ASOCA_Philips/images/auto_centerlines/ASOCA-034/centerlines.npz' with key 'centerlines' (contrast_gan_3D.utils.io_utils:74)\n",
      "[2024-01-18 10:38:24,946: DEBUG] CCTA: (512, 512, 224) centerlines: (16566, 4) ostia: (2, 3) (contrast_gan_3D.utils.io_utils:130)\n",
      "[2024-01-18 10:38:24,947: DEBUG] H5 file: '/home/roel/data/ASOCA_Philips/images/ASOCA-034.h5' (contrast_gan_3D.utils.io_utils:139)\n",
      "[2024-01-18 10:38:27,575: DEBUG] Saved centerlines to '/home/marco/data/ASOCA_Philips/images/auto_centerlines/ASOCA-035/centerlines.npz' with key 'centerlines' (contrast_gan_3D.utils.io_utils:74)\n",
      "[2024-01-18 10:38:27,576: DEBUG] CCTA: (512, 512, 224) centerlines: (11899, 4) ostia: (2, 3) (contrast_gan_3D.utils.io_utils:130)\n",
      "[2024-01-18 10:38:27,588: DEBUG] H5 file: '/home/roel/data/ASOCA_Philips/images/ASOCA-035.h5' (contrast_gan_3D.utils.io_utils:139)\n",
      "[2024-01-18 10:38:32,573: DEBUG] Saved centerlines to '/home/marco/data/ASOCA_Philips/images/auto_centerlines/ASOCA-036/centerlines.npz' with key 'centerlines' (contrast_gan_3D.utils.io_utils:74)\n",
      "[2024-01-18 10:38:32,575: DEBUG] CCTA: (512, 512, 224) centerlines: (15140, 4) ostia: (2, 3) (contrast_gan_3D.utils.io_utils:130)\n",
      "[2024-01-18 10:38:32,584: DEBUG] H5 file: '/home/roel/data/ASOCA_Philips/images/ASOCA-036.h5' (contrast_gan_3D.utils.io_utils:139)\n",
      "[2024-01-18 10:38:36,633: DEBUG] Saved centerlines to '/home/marco/data/ASOCA_Philips/images/auto_centerlines/ASOCA-037/centerlines.npz' with key 'centerlines' (contrast_gan_3D.utils.io_utils:74)\n",
      "[2024-01-18 10:38:36,634: DEBUG] CCTA: (512, 512, 224) centerlines: (15157, 4) ostia: (2, 3) (contrast_gan_3D.utils.io_utils:130)\n",
      "[2024-01-18 10:38:36,637: DEBUG] H5 file: '/home/roel/data/ASOCA_Philips/images/ASOCA-037.h5' (contrast_gan_3D.utils.io_utils:139)\n",
      "[2024-01-18 10:38:41,691: DEBUG] Saved centerlines to '/home/marco/data/ASOCA_Philips/images/auto_centerlines/ASOCA-038/centerlines.npz' with key 'centerlines' (contrast_gan_3D.utils.io_utils:74)\n",
      "[2024-01-18 10:38:41,693: DEBUG] CCTA: (512, 512, 168) centerlines: (13907, 4) ostia: (2, 3) (contrast_gan_3D.utils.io_utils:130)\n",
      "[2024-01-18 10:38:41,694: DEBUG] H5 file: '/home/roel/data/ASOCA_Philips/images/ASOCA-038.h5' (contrast_gan_3D.utils.io_utils:139)\n",
      "[2024-01-18 10:38:46,102: DEBUG] Saved centerlines to '/home/marco/data/ASOCA_Philips/images/auto_centerlines/ASOCA-039/centerlines.npz' with key 'centerlines' (contrast_gan_3D.utils.io_utils:74)\n",
      "[2024-01-18 10:38:46,103: DEBUG] CCTA: (512, 512, 224) centerlines: (13490, 4) ostia: (2, 3) (contrast_gan_3D.utils.io_utils:130)\n",
      "[2024-01-18 10:38:46,104: DEBUG] H5 file: '/home/roel/data/ASOCA_Philips/images/ASOCA-039.h5' (contrast_gan_3D.utils.io_utils:139)\n",
      "[2024-01-18 10:38:49,135: DEBUG] Saved centerlines to '/home/marco/data/ASOCA_Philips/images/auto_centerlines/ASOCA-040/centerlines.npz' with key 'centerlines' (contrast_gan_3D.utils.io_utils:74)\n",
      "[2024-01-18 10:38:49,137: DEBUG] CCTA: (512, 512, 185) centerlines: (12790, 4) ostia: (2, 3) (contrast_gan_3D.utils.io_utils:130)\n",
      "[2024-01-18 10:38:49,141: DEBUG] H5 file: '/home/roel/data/ASOCA_Philips/images/ASOCA-040.h5' (contrast_gan_3D.utils.io_utils:139)\n",
      "[2024-01-18 10:38:53,952: DEBUG] Saved centerlines to '/home/marco/data/ASOCA_Philips/images/auto_centerlines/ASOCA-041/centerlines.npz' with key 'centerlines' (contrast_gan_3D.utils.io_utils:74)\n",
      "[2024-01-18 10:38:53,954: DEBUG] CCTA: (512, 512, 182) centerlines: (15217, 4) ostia: (2, 3) (contrast_gan_3D.utils.io_utils:130)\n",
      "[2024-01-18 10:38:53,955: DEBUG] H5 file: '/home/roel/data/ASOCA_Philips/images/ASOCA-041.h5' (contrast_gan_3D.utils.io_utils:139)\n",
      "[2024-01-18 10:38:57,522: DEBUG] Saved centerlines to '/home/marco/data/ASOCA_Philips/images/auto_centerlines/ASOCA-042/centerlines.npz' with key 'centerlines' (contrast_gan_3D.utils.io_utils:74)\n",
      "[2024-01-18 10:38:57,524: DEBUG] CCTA: (512, 512, 191) centerlines: (13661, 4) ostia: (2, 3) (contrast_gan_3D.utils.io_utils:130)\n",
      "[2024-01-18 10:38:57,524: DEBUG] H5 file: '/home/roel/data/ASOCA_Philips/images/ASOCA-042.h5' (contrast_gan_3D.utils.io_utils:139)\n",
      "[2024-01-18 10:39:01,898: DEBUG] Saved centerlines to '/home/marco/data/ASOCA_Philips/images/auto_centerlines/ASOCA-043/centerlines.npz' with key 'centerlines' (contrast_gan_3D.utils.io_utils:74)\n",
      "[2024-01-18 10:39:01,899: DEBUG] CCTA: (512, 512, 185) centerlines: (9841, 4) ostia: (2, 3) (contrast_gan_3D.utils.io_utils:130)\n",
      "[2024-01-18 10:39:01,900: DEBUG] H5 file: '/home/roel/data/ASOCA_Philips/images/ASOCA-043.h5' (contrast_gan_3D.utils.io_utils:139)\n",
      "[2024-01-18 10:39:06,283: DEBUG] Saved centerlines to '/home/marco/data/ASOCA_Philips/images/auto_centerlines/ASOCA-044/centerlines.npz' with key 'centerlines' (contrast_gan_3D.utils.io_utils:74)\n",
      "[2024-01-18 10:39:06,290: DEBUG] CCTA: (512, 512, 173) centerlines: (10308, 4) ostia: (2, 3) (contrast_gan_3D.utils.io_utils:130)\n",
      "[2024-01-18 10:39:06,291: DEBUG] H5 file: '/home/roel/data/ASOCA_Philips/images/ASOCA-044.h5' (contrast_gan_3D.utils.io_utils:139)\n",
      "[2024-01-18 10:39:09,997: DEBUG] Saved centerlines to '/home/marco/data/ASOCA_Philips/images/auto_centerlines/ASOCA-045/centerlines.npz' with key 'centerlines' (contrast_gan_3D.utils.io_utils:74)\n",
      "[2024-01-18 10:39:10,020: DEBUG] CCTA: (512, 512, 177) centerlines: (12248, 4) ostia: (2, 3) (contrast_gan_3D.utils.io_utils:130)\n",
      "[2024-01-18 10:39:10,021: DEBUG] H5 file: '/home/roel/data/ASOCA_Philips/images/ASOCA-045.h5' (contrast_gan_3D.utils.io_utils:139)\n",
      "[2024-01-18 10:39:13,825: DEBUG] Saved centerlines to '/home/marco/data/ASOCA_Philips/images/auto_centerlines/ASOCA-046/centerlines.npz' with key 'centerlines' (contrast_gan_3D.utils.io_utils:74)\n",
      "[2024-01-18 10:39:13,826: DEBUG] CCTA: (512, 512, 207) centerlines: (10359, 4) ostia: (2, 3) (contrast_gan_3D.utils.io_utils:130)\n",
      "[2024-01-18 10:39:13,827: DEBUG] H5 file: '/home/roel/data/ASOCA_Philips/images/ASOCA-046.h5' (contrast_gan_3D.utils.io_utils:139)\n",
      "[2024-01-18 10:39:20,421: DEBUG] Saved centerlines to '/home/marco/data/ASOCA_Philips/images/auto_centerlines/ASOCA-047/centerlines.npz' with key 'centerlines' (contrast_gan_3D.utils.io_utils:74)\n",
      "[2024-01-18 10:39:20,427: DEBUG] CCTA: (512, 512, 334) centerlines: (17739, 4) ostia: (2, 3) (contrast_gan_3D.utils.io_utils:130)\n",
      "[2024-01-18 10:39:20,428: DEBUG] H5 file: '/home/roel/data/ASOCA_Philips/images/ASOCA-047.h5' (contrast_gan_3D.utils.io_utils:139)\n",
      "[2024-01-18 10:39:26,040: DEBUG] Saved centerlines to '/home/marco/data/ASOCA_Philips/images/auto_centerlines/ASOCA-048/centerlines.npz' with key 'centerlines' (contrast_gan_3D.utils.io_utils:74)\n",
      "[2024-01-18 10:39:26,049: DEBUG] CCTA: (512, 512, 196) centerlines: (17325, 4) ostia: (2, 3) (contrast_gan_3D.utils.io_utils:130)\n",
      "[2024-01-18 10:39:26,050: DEBUG] H5 file: '/home/roel/data/ASOCA_Philips/images/ASOCA-048.h5' (contrast_gan_3D.utils.io_utils:139)\n",
      "[2024-01-18 10:39:32,532: DEBUG] Saved centerlines to '/home/marco/data/ASOCA_Philips/images/auto_centerlines/ASOCA-049/centerlines.npz' with key 'centerlines' (contrast_gan_3D.utils.io_utils:74)\n",
      "[2024-01-18 10:39:32,548: DEBUG] CCTA: (512, 512, 197) centerlines: (10938, 4) ostia: (2, 3) (contrast_gan_3D.utils.io_utils:130)\n",
      "[2024-01-18 10:39:32,548: DEBUG] H5 file: '/home/roel/data/ASOCA_Philips/images/ASOCA-049.h5' (contrast_gan_3D.utils.io_utils:139)\n",
      "[2024-01-18 10:39:36,883: DEBUG] Saved centerlines to '/home/marco/data/ASOCA_Philips/images/auto_centerlines/ASOCA-050/centerlines.npz' with key 'centerlines' (contrast_gan_3D.utils.io_utils:74)\n",
      "[2024-01-18 10:39:36,887: DEBUG] CCTA: (512, 512, 224) centerlines: (12815, 4) ostia: (2, 3) (contrast_gan_3D.utils.io_utils:130)\n",
      "[2024-01-18 10:39:36,889: DEBUG] H5 file: '/home/roel/data/ASOCA_Philips/images/ASOCA-050.h5' (contrast_gan_3D.utils.io_utils:139)\n",
      "[2024-01-18 10:39:41,984: DEBUG] Saved centerlines to '/home/marco/data/ASOCA_Philips/images/auto_centerlines/ASOCA-051/centerlines.npz' with key 'centerlines' (contrast_gan_3D.utils.io_utils:74)\n",
      "[2024-01-18 10:39:41,987: DEBUG] CCTA: (512, 512, 224) centerlines: (21219, 4) ostia: (2, 3) (contrast_gan_3D.utils.io_utils:130)\n",
      "[2024-01-18 10:39:41,988: DEBUG] H5 file: '/home/roel/data/ASOCA_Philips/images/ASOCA-051.h5' (contrast_gan_3D.utils.io_utils:139)\n",
      "[2024-01-18 10:39:45,618: DEBUG] Saved centerlines to '/home/marco/data/ASOCA_Philips/images/auto_centerlines/ASOCA-052/centerlines.npz' with key 'centerlines' (contrast_gan_3D.utils.io_utils:74)\n",
      "[2024-01-18 10:39:45,620: DEBUG] CCTA: (512, 512, 224) centerlines: (15114, 4) ostia: (2, 3) (contrast_gan_3D.utils.io_utils:130)\n",
      "[2024-01-18 10:39:45,622: DEBUG] H5 file: '/home/roel/data/ASOCA_Philips/images/ASOCA-052.h5' (contrast_gan_3D.utils.io_utils:139)\n",
      "[2024-01-18 10:39:49,294: DEBUG] Saved centerlines to '/home/marco/data/ASOCA_Philips/images/auto_centerlines/ASOCA-053/centerlines.npz' with key 'centerlines' (contrast_gan_3D.utils.io_utils:74)\n",
      "[2024-01-18 10:39:49,295: DEBUG] CCTA: (512, 512, 224) centerlines: (6356, 4) ostia: (2, 3) (contrast_gan_3D.utils.io_utils:130)\n",
      "[2024-01-18 10:39:49,296: DEBUG] H5 file: '/home/roel/data/ASOCA_Philips/images/ASOCA-053.h5' (contrast_gan_3D.utils.io_utils:139)\n",
      "[2024-01-18 10:39:52,596: DEBUG] Saved centerlines to '/home/marco/data/ASOCA_Philips/images/auto_centerlines/ASOCA-054/centerlines.npz' with key 'centerlines' (contrast_gan_3D.utils.io_utils:74)\n",
      "[2024-01-18 10:39:52,604: DEBUG] CCTA: (512, 512, 224) centerlines: (15127, 4) ostia: (2, 3) (contrast_gan_3D.utils.io_utils:130)\n",
      "[2024-01-18 10:39:52,605: DEBUG] H5 file: '/home/roel/data/ASOCA_Philips/images/ASOCA-054.h5' (contrast_gan_3D.utils.io_utils:139)\n",
      "[2024-01-18 10:39:56,108: DEBUG] Saved centerlines to '/home/marco/data/ASOCA_Philips/images/auto_centerlines/ASOCA-055/centerlines.npz' with key 'centerlines' (contrast_gan_3D.utils.io_utils:74)\n",
      "[2024-01-18 10:39:56,109: DEBUG] CCTA: (512, 512, 224) centerlines: (11640, 4) ostia: (2, 3) (contrast_gan_3D.utils.io_utils:130)\n",
      "[2024-01-18 10:39:56,110: DEBUG] H5 file: '/home/roel/data/ASOCA_Philips/images/ASOCA-055.h5' (contrast_gan_3D.utils.io_utils:139)\n",
      "[2024-01-18 10:40:01,632: DEBUG] Saved centerlines to '/home/marco/data/ASOCA_Philips/images/auto_centerlines/ASOCA-056/centerlines.npz' with key 'centerlines' (contrast_gan_3D.utils.io_utils:74)\n",
      "[2024-01-18 10:40:01,634: DEBUG] CCTA: (512, 512, 224) centerlines: (16353, 4) ostia: (2, 3) (contrast_gan_3D.utils.io_utils:130)\n",
      "[2024-01-18 10:40:01,635: DEBUG] H5 file: '/home/roel/data/ASOCA_Philips/images/ASOCA-056.h5' (contrast_gan_3D.utils.io_utils:139)\n",
      "[2024-01-18 10:40:06,289: DEBUG] Saved centerlines to '/home/marco/data/ASOCA_Philips/images/auto_centerlines/ASOCA-057/centerlines.npz' with key 'centerlines' (contrast_gan_3D.utils.io_utils:74)\n",
      "[2024-01-18 10:40:06,291: DEBUG] CCTA: (512, 512, 224) centerlines: (20513, 4) ostia: (2, 3) (contrast_gan_3D.utils.io_utils:130)\n",
      "[2024-01-18 10:40:06,292: DEBUG] H5 file: '/home/roel/data/ASOCA_Philips/images/ASOCA-057.h5' (contrast_gan_3D.utils.io_utils:139)\n",
      "[2024-01-18 10:40:11,400: DEBUG] Saved centerlines to '/home/marco/data/ASOCA_Philips/images/auto_centerlines/ASOCA-058/centerlines.npz' with key 'centerlines' (contrast_gan_3D.utils.io_utils:74)\n",
      "[2024-01-18 10:40:11,403: DEBUG] CCTA: (512, 512, 224) centerlines: (7334, 4) ostia: (2, 3) (contrast_gan_3D.utils.io_utils:130)\n",
      "[2024-01-18 10:40:11,405: DEBUG] H5 file: '/home/roel/data/ASOCA_Philips/images/ASOCA-058.h5' (contrast_gan_3D.utils.io_utils:139)\n",
      "[2024-01-18 10:40:16,314: DEBUG] Saved centerlines to '/home/marco/data/ASOCA_Philips/images/auto_centerlines/ASOCA-059/centerlines.npz' with key 'centerlines' (contrast_gan_3D.utils.io_utils:74)\n",
      "[2024-01-18 10:40:16,316: DEBUG] CCTA: (512, 512, 224) centerlines: (8175, 4) ostia: (2, 3) (contrast_gan_3D.utils.io_utils:130)\n",
      "[2024-01-18 10:40:16,317: DEBUG] H5 file: '/home/roel/data/ASOCA_Philips/images/ASOCA-059.h5' (contrast_gan_3D.utils.io_utils:139)\n"
     ]
    }
   ],
   "source": [
    "for ccta, centerlines_dir in zipped:\n",
    "    if io_utils.stem(centerlines_dir) == io_utils.stem(ccta):\n",
    "        io_utils.sitk_to_h5(\n",
    "            ccta,\n",
    "            centerlines_dir,\n",
    "            centerlines_dir / \"ostia.xml\",\n",
    "            h5_output_dir=H5_OUTPUT_DIR,\n",
    "            reorient_RPS=REORIENT_RPS,\n",
    "        )\n",
    "    else:\n",
    "        print(f\"**No centerlines for {str(ccta)!r}**\")"
   ]
  }
 ],
 "metadata": {
  "kernelspec": {
   "display_name": "Python 3",
   "language": "python",
   "name": "python3"
  }
 },
 "nbformat": 4,
 "nbformat_minor": 2
}
