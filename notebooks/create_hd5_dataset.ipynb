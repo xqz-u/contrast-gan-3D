{
 "cells": [
  {
   "cell_type": "markdown",
   "metadata": {},
   "source": [
    "# Automatic Centerlines Extraction"
   ]
  },
  {
   "cell_type": "markdown",
   "metadata": {},
   "source": [
    "\n",
    "First, extract the coronary artery centerlines from your dataset using the method described in \n",
    "[Coronary artery centerline extraction in cardiac CT angiography using a CNN-based orientation classifier (Wolternik et al., 2019b)](https://www.sciencedirect.com/science/article/pii/S1361841518308491). For now, CCTA scans from `<dataset_dir>` are matched with the patterns `*.mhd`\n",
    "and `*_image.nii.gz`. "
   ]
  },
  {
   "cell_type": "markdown",
   "metadata": {},
   "source": [
    "```bash\n",
    "source scripts/centerlines_autoextract.sh <dataset_dir> <output_dir>\n",
    "```"
   ]
  },
  {
   "cell_type": "markdown",
   "metadata": {},
   "source": [
    "For every `datapoint_X` in `<dataset_dir>`, this command creates files `<output_dir>/<datapoint_X>/vessel0.txt`,\n",
    "`<output_dir>/<datapoint_X>/vessel1.txt` etc., where each `vessel<N>.txt` file corresponds to a discovered coranary \n",
    "artery vessel and it contains an array of 4D points (3D XYZ coordinates + artery lumen radius estimate)."
   ]
  },
  {
   "cell_type": "markdown",
   "metadata": {},
   "source": [
    "## Create the HD5-encoded Dataset"
   ]
  },
  {
   "cell_type": "markdown",
   "metadata": {},
   "source": [
    "The HD5 file type allows on-the-fly loading of big datasets, without the need to load entire arrays in memory -- \n",
    "relevant parts are loaded as needed, reducing memory footprint. \n",
    "\n",
    "For more inforamation, refer to the \n",
    "[HD5 Python documentation](https://docs.h5py.org/en/stable/)."
   ]
  },
  {
   "cell_type": "code",
   "execution_count": null,
   "metadata": {},
   "outputs": [
    {
     "name": "stdout",
     "output_type": "stream",
     "text": [
      "/home/marco/contrast-gan-3D\n"
     ]
    }
   ],
   "source": [
    "%cd ../"
   ]
  },
  {
   "cell_type": "markdown",
   "metadata": {},
   "source": [
    "Adjust the variables in the following cell to match your setup:"
   ]
  },
  {
   "cell_type": "code",
   "execution_count": null,
   "metadata": {},
   "outputs": [
    {
     "name": "stdout",
     "output_type": "stream",
     "text": [
      "/home/marco/data/ASOCA_Philips/images\n",
      "/home/marco/data/ASOCA_Philips/images/auto_centerlines\n",
      "None\n"
     ]
    }
   ],
   "source": [
    "from pathlib import Path\n",
    "\n",
    "DATASET_DIR = Path(\"/home/marco/data/ASOCA_Philips/images\")\n",
    "\n",
    "OUTPUT_DIR = DATASET_DIR / \"auto_centerlines\"\n",
    "\n",
    "# By default, .h5 converted files are saved inside `DATASET_DIR`; set this\n",
    "# variable if you want to save them somewhere else\n",
    "H5_OUTPUT_DIR = None\n",
    "\n",
    "print(str(DATASET_DIR))\n",
    "print(str(OUTPUT_DIR))\n",
    "print(str(H5_OUTPUT_DIR))"
   ]
  },
  {
   "cell_type": "code",
   "execution_count": null,
   "metadata": {},
   "outputs": [
    {
     "name": "stdout",
     "output_type": "stream",
     "text": [
      "Found 60 CCTAs with 60 centerlines\n",
      "[(PosixPath('/home/marco/data/ASOCA_Philips/images/ASOCA-000.mhd'),\n",
      "  PosixPath('/home/marco/data/ASOCA_Philips/images/auto_centerlines/ASOCA-000')),\n",
      " (PosixPath('/home/marco/data/ASOCA_Philips/images/ASOCA-001.mhd'),\n",
      "  PosixPath('/home/marco/data/ASOCA_Philips/images/auto_centerlines/ASOCA-001')),\n",
      " (PosixPath('/home/marco/data/ASOCA_Philips/images/ASOCA-002.mhd'),\n",
      "  PosixPath('/home/marco/data/ASOCA_Philips/images/auto_centerlines/ASOCA-002'))]\n"
     ]
    }
   ],
   "source": [
    "from pprint import pprint\n",
    "\n",
    "cctas = sorted(\n",
    "    list(DATASET_DIR.glob(\"*.mhd\")) + list(DATASET_DIR.glob(\"*_image.nii.gz\"))\n",
    ")\n",
    "centerlines = sorted([d for d in OUTPUT_DIR.glob(\"*\") if d.is_dir()])\n",
    "print(f\"Found {len(cctas)} CCTAs with {len(centerlines)} centerlines\")\n",
    "\n",
    "zipped = list(zip(cctas, centerlines))\n",
    "pprint(zipped[:3])"
   ]
  },
  {
   "cell_type": "code",
   "execution_count": null,
   "metadata": {},
   "outputs": [
    {
     "name": "stdout",
     "output_type": "stream",
     "text": [
      "contrast_gan_3D.utils.geometry: INFO -> DEBUG\n",
      "contrast_gan_3D.utils.io_utils: INFO -> DEBUG\n"
     ]
    }
   ],
   "source": [
    "from contrast_gan_3D.utils import io_utils, logging_utils\n",
    "\n",
    "logging_utils.set_project_loggers_level(level=\"DEBUG\")"
   ]
  },
  {
   "cell_type": "code",
   "execution_count": null,
   "metadata": {},
   "outputs": [
    {
     "name": "stdout",
     "output_type": "stream",
     "text": [
      "[2024-02-02 15:53:27,824: DEBUG] Original image dtype uint16 range (0, 2683) (contrast_gan_3D.utils.io_utils:89)\n",
      "[2024-02-02 15:53:28,002: DEBUG] New image dtype int16 range (-1024, 1659) (contrast_gan_3D.utils.io_utils:96)\n",
      "[2024-02-02 15:53:28,049: DEBUG] CCTA: (512, 512, 204) centerlines: (15239, 4) ostia: (2, 3) (contrast_gan_3D.utils.io_utils:130)\n",
      "[2024-02-02 15:53:28,051: DEBUG] H5 file: '/home/roel/data/ASOCA_Philips/images/ASOCA-000.h5' (contrast_gan_3D.utils.io_utils:139)\n",
      "\n"
     ]
    }
   ],
   "source": [
    "for ccta, centerlines_dir in zipped:\n",
    "    if io_utils.stem(centerlines_dir) == io_utils.stem(ccta):\n",
    "        io_utils.sitk_to_h5(\n",
    "            ccta,\n",
    "            centerlines_dir,\n",
    "            centerlines_dir / \"ostia.xml\",\n",
    "            h5_output_dir=H5_OUTPUT_DIR,\n",
    "        )\n",
    "        print()\n",
    "    else:\n",
    "        print(f\"**No centerlines for {str(ccta)!r}**\")"
   ]
  }
 ],
 "metadata": {
  "kernelspec": {
   "display_name": "Python 3",
   "language": "python",
   "name": "python3"
  }
 },
 "nbformat": 4,
 "nbformat_minor": 2
}
