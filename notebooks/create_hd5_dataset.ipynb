{
 "cells": [
  {
   "cell_type": "markdown",
   "metadata": {},
   "source": [
    "# Automatic Centerlines Extraction"
   ]
  },
  {
   "cell_type": "markdown",
   "metadata": {},
   "source": [
    "\n",
    "First, extract the coronary artery centerlines from your dataset using the method described in \n",
    "[Coronary artery centerline extraction in cardiac CT angiography using a CNN-based orientation classifier (Wolternik et al., 2019b)](https://www.sciencedirect.com/science/article/pii/S1361841518308491). For now, CCTA scans from `<dataset_dir>` are matched with the patterns `*.mhd`\n",
    "and `*_image.nii.gz`. "
   ]
  },
  {
   "cell_type": "markdown",
   "metadata": {},
   "source": [
    "```bash\n",
    "source scripts/centerlines_autoextract.sh <dataset_dir> <output_dir>\n",
    "```"
   ]
  },
  {
   "cell_type": "markdown",
   "metadata": {},
   "source": [
    "For every `datapoint_X` in `<dataset_dir>`, this command creates files `<output_dir>/<datapoint_X>/vessel0.txt`,\n",
    "`<output_dir>/<datapoint_X>/vessel1.txt` etc., where each `vessel<N>.txt` file corresponds to a discovered coranary \n",
    "artery vessel and it contains an array of 4D points (3D XYZ coordinates + artery lumen radius estimate)."
   ]
  },
  {
   "cell_type": "markdown",
   "metadata": {},
   "source": [
    "## Create the HD5-encoded Dataset"
   ]
  },
  {
   "cell_type": "markdown",
   "metadata": {},
   "source": [
    "The HD5 file type allows on-the-fly loading of big datasets, without the need to load entire arrays in memory -- \n",
    "relevant parts are loaded as needed, reducing memory footprint. \n",
    "\n",
    "For more inforamation, refer to the \n",
    "[HD5 Python documentation](https://docs.h5py.org/en/stable/)."
   ]
  },
  {
   "cell_type": "code",
   "execution_count": null,
   "metadata": {},
   "outputs": [
    {
     "name": "stdout",
     "output_type": "stream",
     "text": [
      "/home/marco/contrast-gan-3D\n"
     ]
    }
   ],
   "source": [
    "%cd ../"
   ]
  },
  {
   "cell_type": "markdown",
   "metadata": {},
   "source": [
    "Adjust the variables in the following cell to match your setup:"
   ]
  },
  {
   "cell_type": "code",
   "execution_count": null,
   "metadata": {},
   "outputs": [
    {
     "name": "stdout",
     "output_type": "stream",
     "text": [
      "/home/marco/data/MMWHS/ct_test\n",
      "/home/marco/data/MMWHS/ct_test/auto_centerlines\n",
      "None\n",
      "True\n"
     ]
    }
   ],
   "source": [
    "from pathlib import Path\n",
    "\n",
    "DATASET_DIR = Path(\"/home/marco/data/MMWHS/ct_test\")\n",
    "\n",
    "OUTPUT_DIR = DATASET_DIR / \"auto_centerlines\"\n",
    "\n",
    "REORIENT_RPS = \"MMWHS\" in str(DATASET_DIR)\n",
    "\n",
    "# By default, .h5 converted files are saved inside `datset_dir`; set this\n",
    "# variable if you want to save them somewhere else\n",
    "H5_OUTPUT_DIR = None\n",
    "\n",
    "print(str(DATASET_DIR))\n",
    "print(str(OUTPUT_DIR))\n",
    "print(str(H5_OUTPUT_DIR))\n",
    "print(REORIENT_RPS)"
   ]
  },
  {
   "cell_type": "code",
   "execution_count": null,
   "metadata": {},
   "outputs": [
    {
     "name": "stdout",
     "output_type": "stream",
     "text": [
      "Found 40 CCTAs with 40 centerlines\n",
      "[(PosixPath('/home/marco/data/MMWHS/ct_test/ct_test_2001_image.nii.gz'),\n",
      "  PosixPath('/home/marco/data/MMWHS/ct_test/auto_centerlines/ct_test_2001_image.nii.gz')),\n",
      " (PosixPath('/home/marco/data/MMWHS/ct_test/ct_test_2002_image.nii.gz'),\n",
      "  PosixPath('/home/marco/data/MMWHS/ct_test/auto_centerlines/ct_test_2002_image.nii.gz')),\n",
      " (PosixPath('/home/marco/data/MMWHS/ct_test/ct_test_2003_image.nii.gz'),\n",
      "  PosixPath('/home/marco/data/MMWHS/ct_test/auto_centerlines/ct_test_2003_image.nii.gz'))]\n"
     ]
    }
   ],
   "source": [
    "from pprint import pprint\n",
    "\n",
    "cctas = sorted(\n",
    "    list(DATASET_DIR.glob(\"*.mhd\")) + list(DATASET_DIR.glob(\"*_image.nii.gz\"))\n",
    ")\n",
    "centerlines = sorted([d for d in OUTPUT_DIR.glob(\"*\") if d.is_dir()])\n",
    "print(f\"Found {len(cctas)} CCTAs with {len(centerlines)} centerlines\")\n",
    "\n",
    "zipped = list(zip(cctas, centerlines))\n",
    "pprint(zipped[:3])"
   ]
  },
  {
   "cell_type": "code",
   "execution_count": null,
   "metadata": {},
   "outputs": [
    {
     "name": "stdout",
     "output_type": "stream",
     "text": [
      "contrast_gan_3D.utils.io_utils: INFO -> DEBUG\n"
     ]
    }
   ],
   "source": [
    "from contrast_gan_3D.utils import io_utils, logging_utils\n",
    "\n",
    "logging_utils.set_project_loggers_level(level=\"DEBUG\")"
   ]
  },
  {
   "cell_type": "code",
   "execution_count": null,
   "metadata": {},
   "outputs": [
    {
     "name": "stdout",
     "output_type": "stream",
     "text": [
      "[2024-01-18 15:44:45,200: DEBUG] dtype conversion float32->int16 (contrast_gan_3D.utils.io_utils:29)\n",
      "[2024-01-18 15:44:45,226: DEBUG] Clipped to (-1024, 3072) (contrast_gan_3D.utils.io_utils:33)\n"
     ]
    },
    {
     "name": "stderr",
     "output_type": "stream",
     "text": [
      "`data_array` is not of type `MetaTensor, assuming affine to be identity.\n"
     ]
    },
    {
     "name": "stdout",
     "output_type": "stream",
     "text": [
      "[2024-01-18 15:44:46,830: INFO] REORIENT RPS: '/home/marco/data/MMWHS/ct_test/ct_test_2001_image.nii.gz' (contrast_gan_3D.utils.io_utils:140)\n",
      "[2024-01-18 15:44:46,884: DEBUG] Saved centerlines to '/home/marco/data/MMWHS/ct_test/auto_centerlines/ct_test_2001_image.nii.gz/centerlines.npz' with key 'centerlines' (contrast_gan_3D.utils.io_utils:89)\n",
      "[2024-01-18 15:44:46,908: DEBUG] CCTA: torch.Size([512, 512, 224]) centerlines: (6030, 4) ostia: (2, 3) (contrast_gan_3D.utils.io_utils:147)\n",
      "[2024-01-18 15:44:46,909: DEBUG] H5 file: '/home/roel/data/MMWHS/ct_test/ct_test_2001_image.h5' (contrast_gan_3D.utils.io_utils:156)\n",
      "[2024-01-18 15:44:50,735: DEBUG] dtype conversion float32->int16 (contrast_gan_3D.utils.io_utils:29)\n",
      "[2024-01-18 15:44:50,754: DEBUG] Clipped to (-1024, 3072) (contrast_gan_3D.utils.io_utils:33)\n",
      "[2024-01-18 15:44:52,142: INFO] REORIENT RPS: '/home/marco/data/MMWHS/ct_test/ct_test_2002_image.nii.gz' (contrast_gan_3D.utils.io_utils:140)\n",
      "[2024-01-18 15:44:52,244: DEBUG] Saved centerlines to '/home/marco/data/MMWHS/ct_test/auto_centerlines/ct_test_2002_image.nii.gz/centerlines.npz' with key 'centerlines' (contrast_gan_3D.utils.io_utils:89)\n",
      "[2024-01-18 15:44:52,249: DEBUG] CCTA: torch.Size([512, 512, 200]) centerlines: (14964, 4) ostia: (2, 3) (contrast_gan_3D.utils.io_utils:147)\n",
      "[2024-01-18 15:44:52,250: DEBUG] H5 file: '/home/roel/data/MMWHS/ct_test/ct_test_2002_image.h5' (contrast_gan_3D.utils.io_utils:156)\n",
      "[2024-01-18 15:44:56,203: DEBUG] dtype conversion float32->int16 (contrast_gan_3D.utils.io_utils:29)\n",
      "[2024-01-18 15:44:56,236: DEBUG] Clipped to (-1024, 3072) (contrast_gan_3D.utils.io_utils:33)\n",
      "[2024-01-18 15:44:58,505: INFO] REORIENT RPS: '/home/marco/data/MMWHS/ct_test/ct_test_2003_image.nii.gz' (contrast_gan_3D.utils.io_utils:140)\n",
      "[2024-01-18 15:44:58,538: DEBUG] Saved centerlines to '/home/marco/data/MMWHS/ct_test/auto_centerlines/ct_test_2003_image.nii.gz/centerlines.npz' with key 'centerlines' (contrast_gan_3D.utils.io_utils:89)\n",
      "[2024-01-18 15:44:58,540: DEBUG] CCTA: torch.Size([512, 512, 276]) centerlines: (3866, 4) ostia: (2, 3) (contrast_gan_3D.utils.io_utils:147)\n",
      "[2024-01-18 15:44:58,542: DEBUG] H5 file: '/home/roel/data/MMWHS/ct_test/ct_test_2003_image.h5' (contrast_gan_3D.utils.io_utils:156)\n",
      "[2024-01-18 15:45:02,306: DEBUG] dtype conversion float32->int16 (contrast_gan_3D.utils.io_utils:29)\n",
      "[2024-01-18 15:45:02,325: DEBUG] Clipped to (-1024, 3072) (contrast_gan_3D.utils.io_utils:33)\n",
      "[2024-01-18 15:45:03,705: INFO] REORIENT RPS: '/home/marco/data/MMWHS/ct_test/ct_test_2004_image.nii.gz' (contrast_gan_3D.utils.io_utils:140)\n",
      "[2024-01-18 15:45:03,808: DEBUG] Saved centerlines to '/home/marco/data/MMWHS/ct_test/auto_centerlines/ct_test_2004_image.nii.gz/centerlines.npz' with key 'centerlines' (contrast_gan_3D.utils.io_utils:89)\n",
      "[2024-01-18 15:45:03,810: DEBUG] CCTA: torch.Size([512, 512, 206]) centerlines: (9842, 4) ostia: (2, 3) (contrast_gan_3D.utils.io_utils:147)\n",
      "[2024-01-18 15:45:03,811: DEBUG] H5 file: '/home/roel/data/MMWHS/ct_test/ct_test_2004_image.h5' (contrast_gan_3D.utils.io_utils:156)\n",
      "[2024-01-18 15:45:07,858: DEBUG] dtype conversion float32->int16 (contrast_gan_3D.utils.io_utils:29)\n",
      "[2024-01-18 15:45:07,881: DEBUG] Clipped to (-1024, 3072) (contrast_gan_3D.utils.io_utils:33)\n",
      "[2024-01-18 15:45:10,045: INFO] REORIENT RPS: '/home/marco/data/MMWHS/ct_test/ct_test_2005_image.nii.gz' (contrast_gan_3D.utils.io_utils:140)\n",
      "[2024-01-18 15:45:10,065: DEBUG] Saved centerlines to '/home/marco/data/MMWHS/ct_test/auto_centerlines/ct_test_2005_image.nii.gz/centerlines.npz' with key 'centerlines' (contrast_gan_3D.utils.io_utils:89)\n",
      "[2024-01-18 15:45:10,071: DEBUG] CCTA: torch.Size([512, 512, 271]) centerlines: (3174, 4) ostia: (2, 3) (contrast_gan_3D.utils.io_utils:147)\n",
      "[2024-01-18 15:45:10,072: DEBUG] H5 file: '/home/roel/data/MMWHS/ct_test/ct_test_2005_image.h5' (contrast_gan_3D.utils.io_utils:156)\n",
      "[2024-01-18 15:45:13,218: DEBUG] dtype conversion float32->int16 (contrast_gan_3D.utils.io_utils:29)\n",
      "[2024-01-18 15:45:13,238: DEBUG] Clipped to (-1024, 3072) (contrast_gan_3D.utils.io_utils:33)\n",
      "[2024-01-18 15:45:14,750: INFO] REORIENT RPS: '/home/marco/data/MMWHS/ct_test/ct_test_2006_image.nii.gz' (contrast_gan_3D.utils.io_utils:140)\n",
      "[2024-01-18 15:45:14,793: DEBUG] Saved centerlines to '/home/marco/data/MMWHS/ct_test/auto_centerlines/ct_test_2006_image.nii.gz/centerlines.npz' with key 'centerlines' (contrast_gan_3D.utils.io_utils:89)\n",
      "[2024-01-18 15:45:14,795: DEBUG] CCTA: torch.Size([512, 512, 271]) centerlines: (9552, 4) ostia: (2, 3) (contrast_gan_3D.utils.io_utils:147)\n",
      "[2024-01-18 15:45:14,797: DEBUG] H5 file: '/home/roel/data/MMWHS/ct_test/ct_test_2006_image.h5' (contrast_gan_3D.utils.io_utils:156)\n",
      "[2024-01-18 15:45:17,908: DEBUG] dtype conversion float32->int16 (contrast_gan_3D.utils.io_utils:29)\n",
      "[2024-01-18 15:45:17,930: DEBUG] Clipped to (-1024, 3072) (contrast_gan_3D.utils.io_utils:33)\n",
      "[2024-01-18 15:45:19,492: INFO] REORIENT RPS: '/home/marco/data/MMWHS/ct_test/ct_test_2007_image.nii.gz' (contrast_gan_3D.utils.io_utils:140)\n",
      "[2024-01-18 15:45:19,521: DEBUG] Saved centerlines to '/home/marco/data/MMWHS/ct_test/auto_centerlines/ct_test_2007_image.nii.gz/centerlines.npz' with key 'centerlines' (contrast_gan_3D.utils.io_utils:89)\n",
      "[2024-01-18 15:45:19,522: DEBUG] CCTA: torch.Size([512, 512, 288]) centerlines: (6884, 4) ostia: (2, 3) (contrast_gan_3D.utils.io_utils:147)\n",
      "[2024-01-18 15:45:19,523: DEBUG] H5 file: '/home/roel/data/MMWHS/ct_test/ct_test_2007_image.h5' (contrast_gan_3D.utils.io_utils:156)\n",
      "[2024-01-18 15:45:22,153: DEBUG] dtype conversion float32->int16 (contrast_gan_3D.utils.io_utils:29)\n",
      "[2024-01-18 15:45:22,173: DEBUG] Clipped to (-1024, 3072) (contrast_gan_3D.utils.io_utils:33)\n",
      "[2024-01-18 15:45:23,745: INFO] REORIENT RPS: '/home/marco/data/MMWHS/ct_test/ct_test_2008_image.nii.gz' (contrast_gan_3D.utils.io_utils:140)\n",
      "[2024-01-18 15:45:23,785: DEBUG] Saved centerlines to '/home/marco/data/MMWHS/ct_test/auto_centerlines/ct_test_2008_image.nii.gz/centerlines.npz' with key 'centerlines' (contrast_gan_3D.utils.io_utils:89)\n",
      "[2024-01-18 15:45:23,787: DEBUG] CCTA: torch.Size([512, 512, 261]) centerlines: (12047, 4) ostia: (2, 3) (contrast_gan_3D.utils.io_utils:147)\n",
      "[2024-01-18 15:45:23,788: DEBUG] H5 file: '/home/roel/data/MMWHS/ct_test/ct_test_2008_image.h5' (contrast_gan_3D.utils.io_utils:156)\n",
      "[2024-01-18 15:45:28,205: DEBUG] dtype conversion float32->int16 (contrast_gan_3D.utils.io_utils:29)\n",
      "[2024-01-18 15:45:28,235: DEBUG] Clipped to (-1024, 3072) (contrast_gan_3D.utils.io_utils:33)\n",
      "[2024-01-18 15:45:30,939: INFO] REORIENT RPS: '/home/marco/data/MMWHS/ct_test/ct_test_2009_image.nii.gz' (contrast_gan_3D.utils.io_utils:140)\n",
      "[2024-01-18 15:45:31,036: DEBUG] Saved centerlines to '/home/marco/data/MMWHS/ct_test/auto_centerlines/ct_test_2009_image.nii.gz/centerlines.npz' with key 'centerlines' (contrast_gan_3D.utils.io_utils:89)\n",
      "[2024-01-18 15:45:31,038: DEBUG] CCTA: torch.Size([512, 512, 300]) centerlines: (13231, 4) ostia: (2, 3) (contrast_gan_3D.utils.io_utils:147)\n",
      "[2024-01-18 15:45:31,039: DEBUG] H5 file: '/home/roel/data/MMWHS/ct_test/ct_test_2009_image.h5' (contrast_gan_3D.utils.io_utils:156)\n",
      "[2024-01-18 15:45:36,082: DEBUG] dtype conversion float32->int16 (contrast_gan_3D.utils.io_utils:29)\n",
      "[2024-01-18 15:45:36,114: DEBUG] Clipped to (-1024, 3072) (contrast_gan_3D.utils.io_utils:33)\n",
      "[2024-01-18 15:45:38,566: INFO] REORIENT RPS: '/home/marco/data/MMWHS/ct_test/ct_test_2010_image.nii.gz' (contrast_gan_3D.utils.io_utils:140)\n",
      "[2024-01-18 15:45:38,629: DEBUG] Saved centerlines to '/home/marco/data/MMWHS/ct_test/auto_centerlines/ct_test_2010_image.nii.gz/centerlines.npz' with key 'centerlines' (contrast_gan_3D.utils.io_utils:89)\n",
      "[2024-01-18 15:45:38,632: DEBUG] CCTA: torch.Size([512, 512, 274]) centerlines: (9212, 4) ostia: (2, 3) (contrast_gan_3D.utils.io_utils:147)\n",
      "[2024-01-18 15:45:38,633: DEBUG] H5 file: '/home/roel/data/MMWHS/ct_test/ct_test_2010_image.h5' (contrast_gan_3D.utils.io_utils:156)\n",
      "[2024-01-18 15:45:43,389: DEBUG] dtype conversion float32->int16 (contrast_gan_3D.utils.io_utils:29)\n",
      "[2024-01-18 15:45:43,435: DEBUG] Clipped to (-1024, 3072) (contrast_gan_3D.utils.io_utils:33)\n",
      "[2024-01-18 15:45:46,863: INFO] REORIENT RPS: '/home/marco/data/MMWHS/ct_test/ct_test_2011_image.nii.gz' (contrast_gan_3D.utils.io_utils:140)\n",
      "[2024-01-18 15:45:46,970: DEBUG] Saved centerlines to '/home/marco/data/MMWHS/ct_test/auto_centerlines/ct_test_2011_image.nii.gz/centerlines.npz' with key 'centerlines' (contrast_gan_3D.utils.io_utils:89)\n",
      "[2024-01-18 15:45:46,973: DEBUG] CCTA: torch.Size([512, 512, 298]) centerlines: (8295, 4) ostia: (2, 3) (contrast_gan_3D.utils.io_utils:147)\n",
      "[2024-01-18 15:45:46,977: DEBUG] H5 file: '/home/roel/data/MMWHS/ct_test/ct_test_2011_image.h5' (contrast_gan_3D.utils.io_utils:156)\n",
      "[2024-01-18 15:45:51,754: DEBUG] dtype conversion float32->int16 (contrast_gan_3D.utils.io_utils:29)\n",
      "[2024-01-18 15:45:51,786: DEBUG] Clipped to (-1024, 3072) (contrast_gan_3D.utils.io_utils:33)\n",
      "[2024-01-18 15:45:53,807: INFO] REORIENT RPS: '/home/marco/data/MMWHS/ct_test/ct_test_2012_image.nii.gz' (contrast_gan_3D.utils.io_utils:140)\n",
      "[2024-01-18 15:45:53,865: DEBUG] Saved centerlines to '/home/marco/data/MMWHS/ct_test/auto_centerlines/ct_test_2012_image.nii.gz/centerlines.npz' with key 'centerlines' (contrast_gan_3D.utils.io_utils:89)\n",
      "[2024-01-18 15:45:53,867: DEBUG] CCTA: torch.Size([512, 512, 256]) centerlines: (6675, 4) ostia: (2, 3) (contrast_gan_3D.utils.io_utils:147)\n",
      "[2024-01-18 15:45:53,868: DEBUG] H5 file: '/home/roel/data/MMWHS/ct_test/ct_test_2012_image.h5' (contrast_gan_3D.utils.io_utils:156)\n",
      "[2024-01-18 15:45:59,305: DEBUG] dtype conversion float32->int16 (contrast_gan_3D.utils.io_utils:29)\n",
      "[2024-01-18 15:45:59,342: DEBUG] Clipped to (-1024, 3072) (contrast_gan_3D.utils.io_utils:33)\n",
      "[2024-01-18 15:46:01,843: INFO] REORIENT RPS: '/home/marco/data/MMWHS/ct_test/ct_test_2013_image.nii.gz' (contrast_gan_3D.utils.io_utils:140)\n",
      "[2024-01-18 15:46:01,899: DEBUG] Saved centerlines to '/home/marco/data/MMWHS/ct_test/auto_centerlines/ct_test_2013_image.nii.gz/centerlines.npz' with key 'centerlines' (contrast_gan_3D.utils.io_utils:89)\n",
      "[2024-01-18 15:46:01,900: DEBUG] CCTA: torch.Size([512, 512, 287]) centerlines: (5248, 4) ostia: (2, 3) (contrast_gan_3D.utils.io_utils:147)\n",
      "[2024-01-18 15:46:01,901: DEBUG] H5 file: '/home/roel/data/MMWHS/ct_test/ct_test_2013_image.h5' (contrast_gan_3D.utils.io_utils:156)\n",
      "[2024-01-18 15:46:05,624: DEBUG] dtype conversion float32->int16 (contrast_gan_3D.utils.io_utils:29)\n",
      "[2024-01-18 15:46:05,665: DEBUG] Clipped to (-1024, 3072) (contrast_gan_3D.utils.io_utils:33)\n",
      "[2024-01-18 15:46:07,556: INFO] REORIENT RPS: '/home/marco/data/MMWHS/ct_test/ct_test_2014_image.nii.gz' (contrast_gan_3D.utils.io_utils:140)\n",
      "[2024-01-18 15:46:07,617: DEBUG] Saved centerlines to '/home/marco/data/MMWHS/ct_test/auto_centerlines/ct_test_2014_image.nii.gz/centerlines.npz' with key 'centerlines' (contrast_gan_3D.utils.io_utils:89)\n",
      "[2024-01-18 15:46:07,623: DEBUG] CCTA: torch.Size([512, 512, 224]) centerlines: (8380, 4) ostia: (2, 3) (contrast_gan_3D.utils.io_utils:147)\n",
      "[2024-01-18 15:46:07,626: DEBUG] H5 file: '/home/roel/data/MMWHS/ct_test/ct_test_2014_image.h5' (contrast_gan_3D.utils.io_utils:156)\n",
      "[2024-01-18 15:46:12,360: DEBUG] dtype conversion float32->int16 (contrast_gan_3D.utils.io_utils:29)\n",
      "[2024-01-18 15:46:12,384: DEBUG] Clipped to (-1024, 3072) (contrast_gan_3D.utils.io_utils:33)\n",
      "[2024-01-18 15:46:14,502: INFO] REORIENT RPS: '/home/marco/data/MMWHS/ct_test/ct_test_2015_image.nii.gz' (contrast_gan_3D.utils.io_utils:140)\n",
      "[2024-01-18 15:46:14,633: DEBUG] Saved centerlines to '/home/marco/data/MMWHS/ct_test/auto_centerlines/ct_test_2015_image.nii.gz/centerlines.npz' with key 'centerlines' (contrast_gan_3D.utils.io_utils:89)\n",
      "[2024-01-18 15:46:14,640: DEBUG] CCTA: torch.Size([512, 512, 288]) centerlines: (5711, 4) ostia: (2, 3) (contrast_gan_3D.utils.io_utils:147)\n",
      "[2024-01-18 15:46:14,643: DEBUG] H5 file: '/home/roel/data/MMWHS/ct_test/ct_test_2015_image.h5' (contrast_gan_3D.utils.io_utils:156)\n",
      "[2024-01-18 15:46:20,566: DEBUG] dtype conversion float32->int16 (contrast_gan_3D.utils.io_utils:29)\n",
      "[2024-01-18 15:46:20,598: DEBUG] Clipped to (-1024, 3072) (contrast_gan_3D.utils.io_utils:33)\n",
      "[2024-01-18 15:46:22,643: INFO] REORIENT RPS: '/home/marco/data/MMWHS/ct_test/ct_test_2016_image.nii.gz' (contrast_gan_3D.utils.io_utils:140)\n",
      "[2024-01-18 15:46:22,652: DEBUG] Saved centerlines to '/home/marco/data/MMWHS/ct_test/auto_centerlines/ct_test_2016_image.nii.gz/centerlines.npz' with key 'centerlines' (contrast_gan_3D.utils.io_utils:89)\n",
      "[2024-01-18 15:46:22,653: DEBUG] CCTA: torch.Size([512, 512, 243]) centerlines: (1955, 4) ostia: (2, 3) (contrast_gan_3D.utils.io_utils:147)\n",
      "[2024-01-18 15:46:22,653: DEBUG] H5 file: '/home/roel/data/MMWHS/ct_test/ct_test_2016_image.h5' (contrast_gan_3D.utils.io_utils:156)\n",
      "[2024-01-18 15:46:30,346: DEBUG] dtype conversion float32->int16 (contrast_gan_3D.utils.io_utils:29)\n",
      "[2024-01-18 15:46:30,383: DEBUG] Clipped to (-1024, 3072) (contrast_gan_3D.utils.io_utils:33)\n",
      "[2024-01-18 15:46:32,554: INFO] REORIENT RPS: '/home/marco/data/MMWHS/ct_test/ct_test_2017_image.nii.gz' (contrast_gan_3D.utils.io_utils:140)\n",
      "[2024-01-18 15:46:32,612: DEBUG] Saved centerlines to '/home/marco/data/MMWHS/ct_test/auto_centerlines/ct_test_2017_image.nii.gz/centerlines.npz' with key 'centerlines' (contrast_gan_3D.utils.io_utils:89)\n",
      "[2024-01-18 15:46:32,613: DEBUG] CCTA: torch.Size([512, 512, 248]) centerlines: (3829, 4) ostia: (2, 3) (contrast_gan_3D.utils.io_utils:147)\n",
      "[2024-01-18 15:46:32,615: DEBUG] H5 file: '/home/roel/data/MMWHS/ct_test/ct_test_2017_image.h5' (contrast_gan_3D.utils.io_utils:156)\n",
      "[2024-01-18 15:46:36,190: DEBUG] dtype conversion float32->int16 (contrast_gan_3D.utils.io_utils:29)\n",
      "[2024-01-18 15:46:36,238: DEBUG] Clipped to (-1024, 3072) (contrast_gan_3D.utils.io_utils:33)\n",
      "[2024-01-18 15:46:37,895: INFO] REORIENT RPS: '/home/marco/data/MMWHS/ct_test/ct_test_2018_image.nii.gz' (contrast_gan_3D.utils.io_utils:140)\n",
      "[2024-01-18 15:46:37,918: DEBUG] Saved centerlines to '/home/marco/data/MMWHS/ct_test/auto_centerlines/ct_test_2018_image.nii.gz/centerlines.npz' with key 'centerlines' (contrast_gan_3D.utils.io_utils:89)\n",
      "[2024-01-18 15:46:37,919: DEBUG] CCTA: torch.Size([512, 512, 211]) centerlines: (2350, 4) ostia: (2, 3) (contrast_gan_3D.utils.io_utils:147)\n",
      "[2024-01-18 15:46:37,919: DEBUG] H5 file: '/home/roel/data/MMWHS/ct_test/ct_test_2018_image.h5' (contrast_gan_3D.utils.io_utils:156)\n",
      "[2024-01-18 15:46:43,285: DEBUG] dtype conversion float32->int16 (contrast_gan_3D.utils.io_utils:29)\n",
      "[2024-01-18 15:46:43,348: DEBUG] Clipped to (-1024, 3072) (contrast_gan_3D.utils.io_utils:33)\n",
      "[2024-01-18 15:46:46,306: INFO] REORIENT RPS: '/home/marco/data/MMWHS/ct_test/ct_test_2019_image.nii.gz' (contrast_gan_3D.utils.io_utils:140)\n",
      "[2024-01-18 15:46:46,376: DEBUG] Saved centerlines to '/home/marco/data/MMWHS/ct_test/auto_centerlines/ct_test_2019_image.nii.gz/centerlines.npz' with key 'centerlines' (contrast_gan_3D.utils.io_utils:89)\n",
      "[2024-01-18 15:46:46,377: DEBUG] CCTA: torch.Size([512, 512, 297]) centerlines: (5888, 4) ostia: (2, 3) (contrast_gan_3D.utils.io_utils:147)\n",
      "[2024-01-18 15:46:46,379: DEBUG] H5 file: '/home/roel/data/MMWHS/ct_test/ct_test_2019_image.h5' (contrast_gan_3D.utils.io_utils:156)\n",
      "[2024-01-18 15:46:52,656: DEBUG] dtype conversion float32->int16 (contrast_gan_3D.utils.io_utils:29)\n",
      "[2024-01-18 15:46:52,683: DEBUG] Clipped to (-1024, 3072) (contrast_gan_3D.utils.io_utils:33)\n",
      "[2024-01-18 15:46:54,886: INFO] REORIENT RPS: '/home/marco/data/MMWHS/ct_test/ct_test_2020_image.nii.gz' (contrast_gan_3D.utils.io_utils:140)\n",
      "[2024-01-18 15:46:54,912: DEBUG] Saved centerlines to '/home/marco/data/MMWHS/ct_test/auto_centerlines/ct_test_2020_image.nii.gz/centerlines.npz' with key 'centerlines' (contrast_gan_3D.utils.io_utils:89)\n",
      "[2024-01-18 15:46:54,913: DEBUG] CCTA: torch.Size([512, 512, 298]) centerlines: (7596, 4) ostia: (2, 3) (contrast_gan_3D.utils.io_utils:147)\n",
      "[2024-01-18 15:46:54,914: DEBUG] H5 file: '/home/roel/data/MMWHS/ct_test/ct_test_2020_image.h5' (contrast_gan_3D.utils.io_utils:156)\n",
      "[2024-01-18 15:46:59,543: DEBUG] dtype conversion float32->int16 (contrast_gan_3D.utils.io_utils:29)\n",
      "[2024-01-18 15:46:59,584: DEBUG] Clipped to (-1024, 3072) (contrast_gan_3D.utils.io_utils:33)\n",
      "[2024-01-18 15:47:01,318: INFO] REORIENT RPS: '/home/marco/data/MMWHS/ct_test/ct_test_2021_image.nii.gz' (contrast_gan_3D.utils.io_utils:140)\n",
      "[2024-01-18 15:47:01,396: DEBUG] Saved centerlines to '/home/marco/data/MMWHS/ct_test/auto_centerlines/ct_test_2021_image.nii.gz/centerlines.npz' with key 'centerlines' (contrast_gan_3D.utils.io_utils:89)\n",
      "[2024-01-18 15:47:01,398: DEBUG] CCTA: torch.Size([512, 512, 187]) centerlines: (6297, 4) ostia: (2, 3) (contrast_gan_3D.utils.io_utils:147)\n",
      "[2024-01-18 15:47:01,400: DEBUG] H5 file: '/home/roel/data/MMWHS/ct_test/ct_test_2021_image.h5' (contrast_gan_3D.utils.io_utils:156)\n",
      "[2024-01-18 15:47:04,050: DEBUG] dtype conversion float32->int16 (contrast_gan_3D.utils.io_utils:29)\n",
      "[2024-01-18 15:47:04,067: DEBUG] Clipped to (-1024, 3072) (contrast_gan_3D.utils.io_utils:33)\n",
      "[2024-01-18 15:47:05,459: INFO] REORIENT RPS: '/home/marco/data/MMWHS/ct_test/ct_test_2022_image.nii.gz' (contrast_gan_3D.utils.io_utils:140)\n",
      "[2024-01-18 15:47:05,481: DEBUG] Saved centerlines to '/home/marco/data/MMWHS/ct_test/auto_centerlines/ct_test_2022_image.nii.gz/centerlines.npz' with key 'centerlines' (contrast_gan_3D.utils.io_utils:89)\n",
      "[2024-01-18 15:47:05,482: DEBUG] CCTA: torch.Size([512, 512, 239]) centerlines: (6198, 4) ostia: (2, 3) (contrast_gan_3D.utils.io_utils:147)\n",
      "[2024-01-18 15:47:05,482: DEBUG] H5 file: '/home/roel/data/MMWHS/ct_test/ct_test_2022_image.h5' (contrast_gan_3D.utils.io_utils:156)\n",
      "[2024-01-18 15:47:07,383: DEBUG] Clipped to (-1024, 3072) (contrast_gan_3D.utils.io_utils:33)\n",
      "[2024-01-18 15:47:08,587: INFO] REORIENT RPS: '/home/marco/data/MMWHS/ct_test/ct_test_2023_image.nii.gz' (contrast_gan_3D.utils.io_utils:140)\n",
      "[2024-01-18 15:47:08,596: DEBUG] Saved centerlines to '/home/marco/data/MMWHS/ct_test/auto_centerlines/ct_test_2023_image.nii.gz/centerlines.npz' with key 'centerlines' (contrast_gan_3D.utils.io_utils:89)\n",
      "[2024-01-18 15:47:08,596: DEBUG] CCTA: torch.Size([512, 512, 230]) centerlines: (2678, 4) ostia: (2, 3) (contrast_gan_3D.utils.io_utils:147)\n",
      "[2024-01-18 15:47:08,597: DEBUG] H5 file: '/home/roel/data/MMWHS/ct_test/ct_test_2023_image.h5' (contrast_gan_3D.utils.io_utils:156)\n",
      "[2024-01-18 15:47:11,125: DEBUG] dtype conversion float32->int16 (contrast_gan_3D.utils.io_utils:29)\n",
      "[2024-01-18 15:47:11,145: DEBUG] Clipped to (-1024, 3072) (contrast_gan_3D.utils.io_utils:33)\n",
      "[2024-01-18 15:47:12,661: INFO] REORIENT RPS: '/home/marco/data/MMWHS/ct_test/ct_test_2024_image.nii.gz' (contrast_gan_3D.utils.io_utils:140)\n",
      "[2024-01-18 15:47:12,669: DEBUG] Saved centerlines to '/home/marco/data/MMWHS/ct_test/auto_centerlines/ct_test_2024_image.nii.gz/centerlines.npz' with key 'centerlines' (contrast_gan_3D.utils.io_utils:89)\n",
      "[2024-01-18 15:47:12,671: DEBUG] CCTA: torch.Size([512, 512, 276]) centerlines: (388, 4) ostia: (2, 3) (contrast_gan_3D.utils.io_utils:147)\n",
      "[2024-01-18 15:47:12,672: DEBUG] H5 file: '/home/roel/data/MMWHS/ct_test/ct_test_2024_image.h5' (contrast_gan_3D.utils.io_utils:156)\n",
      "[2024-01-18 15:47:14,873: DEBUG] dtype conversion float32->int16 (contrast_gan_3D.utils.io_utils:29)\n",
      "[2024-01-18 15:47:14,891: DEBUG] Clipped to (-1024, 3072) (contrast_gan_3D.utils.io_utils:33)\n",
      "[2024-01-18 15:47:16,373: INFO] REORIENT RPS: '/home/marco/data/MMWHS/ct_test/ct_test_2025_image.nii.gz' (contrast_gan_3D.utils.io_utils:140)\n",
      "[2024-01-18 15:47:16,496: DEBUG] Saved centerlines to '/home/marco/data/MMWHS/ct_test/auto_centerlines/ct_test_2025_image.nii.gz/centerlines.npz' with key 'centerlines' (contrast_gan_3D.utils.io_utils:89)\n",
      "[2024-01-18 15:47:16,498: DEBUG] CCTA: torch.Size([512, 512, 206]) centerlines: (16231, 4) ostia: (2, 3) (contrast_gan_3D.utils.io_utils:147)\n",
      "[2024-01-18 15:47:16,499: DEBUG] H5 file: '/home/roel/data/MMWHS/ct_test/ct_test_2025_image.h5' (contrast_gan_3D.utils.io_utils:156)\n",
      "[2024-01-18 15:47:20,544: DEBUG] dtype conversion float32->int16 (contrast_gan_3D.utils.io_utils:29)\n",
      "[2024-01-18 15:47:20,566: DEBUG] Clipped to (-1024, 3072) (contrast_gan_3D.utils.io_utils:33)\n",
      "[2024-01-18 15:47:22,169: INFO] REORIENT RPS: '/home/marco/data/MMWHS/ct_test/ct_test_2026_image.nii.gz' (contrast_gan_3D.utils.io_utils:140)\n",
      "[2024-01-18 15:47:22,206: DEBUG] Saved centerlines to '/home/marco/data/MMWHS/ct_test/auto_centerlines/ct_test_2026_image.nii.gz/centerlines.npz' with key 'centerlines' (contrast_gan_3D.utils.io_utils:89)\n",
      "[2024-01-18 15:47:22,209: DEBUG] CCTA: torch.Size([512, 512, 247]) centerlines: (5757, 4) ostia: (2, 3) (contrast_gan_3D.utils.io_utils:147)\n",
      "[2024-01-18 15:47:22,216: DEBUG] H5 file: '/home/roel/data/MMWHS/ct_test/ct_test_2026_image.h5' (contrast_gan_3D.utils.io_utils:156)\n",
      "[2024-01-18 15:47:26,441: DEBUG] dtype conversion float32->int16 (contrast_gan_3D.utils.io_utils:29)\n",
      "[2024-01-18 15:47:26,463: DEBUG] Clipped to (-1024, 3072) (contrast_gan_3D.utils.io_utils:33)\n",
      "[2024-01-18 15:47:28,274: INFO] REORIENT RPS: '/home/marco/data/MMWHS/ct_test/ct_test_2027_image.nii.gz' (contrast_gan_3D.utils.io_utils:140)\n",
      "[2024-01-18 15:47:28,312: DEBUG] Saved centerlines to '/home/marco/data/MMWHS/ct_test/auto_centerlines/ct_test_2027_image.nii.gz/centerlines.npz' with key 'centerlines' (contrast_gan_3D.utils.io_utils:89)\n",
      "[2024-01-18 15:47:28,315: DEBUG] CCTA: torch.Size([512, 512, 239]) centerlines: (11640, 4) ostia: (2, 3) (contrast_gan_3D.utils.io_utils:147)\n",
      "[2024-01-18 15:47:28,316: DEBUG] H5 file: '/home/roel/data/MMWHS/ct_test/ct_test_2027_image.h5' (contrast_gan_3D.utils.io_utils:156)\n",
      "[2024-01-18 15:47:32,621: DEBUG] dtype conversion float32->int16 (contrast_gan_3D.utils.io_utils:29)\n",
      "[2024-01-18 15:47:32,653: DEBUG] Clipped to (-1024, 3072) (contrast_gan_3D.utils.io_utils:33)\n",
      "[2024-01-18 15:47:35,240: INFO] REORIENT RPS: '/home/marco/data/MMWHS/ct_test/ct_test_2028_image.nii.gz' (contrast_gan_3D.utils.io_utils:140)\n",
      "[2024-01-18 15:47:35,312: DEBUG] Saved centerlines to '/home/marco/data/MMWHS/ct_test/auto_centerlines/ct_test_2028_image.nii.gz/centerlines.npz' with key 'centerlines' (contrast_gan_3D.utils.io_utils:89)\n",
      "[2024-01-18 15:47:35,313: DEBUG] CCTA: torch.Size([512, 512, 358]) centerlines: (7755, 4) ostia: (2, 3) (contrast_gan_3D.utils.io_utils:147)\n",
      "[2024-01-18 15:47:35,324: DEBUG] H5 file: '/home/roel/data/MMWHS/ct_test/ct_test_2028_image.h5' (contrast_gan_3D.utils.io_utils:156)\n",
      "[2024-01-18 15:47:40,545: DEBUG] dtype conversion float32->int16 (contrast_gan_3D.utils.io_utils:29)\n",
      "[2024-01-18 15:47:40,573: DEBUG] Clipped to (-1024, 3072) (contrast_gan_3D.utils.io_utils:33)\n",
      "[2024-01-18 15:47:42,933: INFO] REORIENT RPS: '/home/marco/data/MMWHS/ct_test/ct_test_2029_image.nii.gz' (contrast_gan_3D.utils.io_utils:140)\n",
      "[2024-01-18 15:47:42,944: DEBUG] Saved centerlines to '/home/marco/data/MMWHS/ct_test/auto_centerlines/ct_test_2029_image.nii.gz/centerlines.npz' with key 'centerlines' (contrast_gan_3D.utils.io_utils:89)\n",
      "[2024-01-18 15:47:42,946: DEBUG] CCTA: torch.Size([512, 512, 298]) centerlines: (1870, 4) ostia: (2, 3) (contrast_gan_3D.utils.io_utils:147)\n",
      "[2024-01-18 15:47:42,947: DEBUG] H5 file: '/home/roel/data/MMWHS/ct_test/ct_test_2029_image.h5' (contrast_gan_3D.utils.io_utils:156)\n",
      "[2024-01-18 15:47:47,781: DEBUG] dtype conversion float32->int16 (contrast_gan_3D.utils.io_utils:29)\n",
      "[2024-01-18 15:47:47,810: DEBUG] Clipped to (-1024, 3072) (contrast_gan_3D.utils.io_utils:33)\n",
      "[2024-01-18 15:47:50,370: INFO] REORIENT RPS: '/home/marco/data/MMWHS/ct_test/ct_test_2030_image.nii.gz' (contrast_gan_3D.utils.io_utils:140)\n",
      "[2024-01-18 15:47:50,430: DEBUG] Saved centerlines to '/home/marco/data/MMWHS/ct_test/auto_centerlines/ct_test_2030_image.nii.gz/centerlines.npz' with key 'centerlines' (contrast_gan_3D.utils.io_utils:89)\n",
      "[2024-01-18 15:47:50,442: DEBUG] CCTA: torch.Size([512, 512, 293]) centerlines: (8507, 4) ostia: (2, 3) (contrast_gan_3D.utils.io_utils:147)\n",
      "[2024-01-18 15:47:50,443: DEBUG] H5 file: '/home/roel/data/MMWHS/ct_test/ct_test_2030_image.h5' (contrast_gan_3D.utils.io_utils:156)\n",
      "[2024-01-18 15:47:55,072: DEBUG] dtype conversion float32->int16 (contrast_gan_3D.utils.io_utils:29)\n",
      "[2024-01-18 15:47:55,097: DEBUG] Clipped to (-1024, 3072) (contrast_gan_3D.utils.io_utils:33)\n",
      "[2024-01-18 15:47:57,785: INFO] REORIENT RPS: '/home/marco/data/MMWHS/ct_test/ct_test_2031_image.nii.gz' (contrast_gan_3D.utils.io_utils:140)\n",
      "[2024-01-18 15:47:57,883: DEBUG] Saved centerlines to '/home/marco/data/MMWHS/ct_test/auto_centerlines/ct_test_2031_image.nii.gz/centerlines.npz' with key 'centerlines' (contrast_gan_3D.utils.io_utils:89)\n",
      "[2024-01-18 15:47:57,884: DEBUG] CCTA: torch.Size([512, 512, 287]) centerlines: (11347, 4) ostia: (2, 3) (contrast_gan_3D.utils.io_utils:147)\n",
      "[2024-01-18 15:47:57,885: DEBUG] H5 file: '/home/roel/data/MMWHS/ct_test/ct_test_2031_image.h5' (contrast_gan_3D.utils.io_utils:156)\n",
      "[2024-01-18 15:48:01,798: DEBUG] dtype conversion float32->int16 (contrast_gan_3D.utils.io_utils:29)\n",
      "[2024-01-18 15:48:01,813: DEBUG] Clipped to (-1024, 3072) (contrast_gan_3D.utils.io_utils:33)\n",
      "[2024-01-18 15:48:03,315: INFO] REORIENT RPS: '/home/marco/data/MMWHS/ct_test/ct_test_2032_image.nii.gz' (contrast_gan_3D.utils.io_utils:140)\n",
      "[2024-01-18 15:48:03,409: DEBUG] Saved centerlines to '/home/marco/data/MMWHS/ct_test/auto_centerlines/ct_test_2032_image.nii.gz/centerlines.npz' with key 'centerlines' (contrast_gan_3D.utils.io_utils:89)\n",
      "[2024-01-18 15:48:03,413: DEBUG] CCTA: torch.Size([512, 512, 177]) centerlines: (7715, 4) ostia: (2, 3) (contrast_gan_3D.utils.io_utils:147)\n",
      "[2024-01-18 15:48:03,418: DEBUG] H5 file: '/home/roel/data/MMWHS/ct_test/ct_test_2032_image.h5' (contrast_gan_3D.utils.io_utils:156)\n",
      "[2024-01-18 15:48:07,848: DEBUG] dtype conversion float32->int16 (contrast_gan_3D.utils.io_utils:29)\n",
      "[2024-01-18 15:48:07,884: DEBUG] Clipped to (-1024, 3072) (contrast_gan_3D.utils.io_utils:33)\n",
      "[2024-01-18 15:48:10,162: INFO] REORIENT RPS: '/home/marco/data/MMWHS/ct_test/ct_test_2033_image.nii.gz' (contrast_gan_3D.utils.io_utils:140)\n",
      "[2024-01-18 15:48:10,204: DEBUG] Saved centerlines to '/home/marco/data/MMWHS/ct_test/auto_centerlines/ct_test_2033_image.nii.gz/centerlines.npz' with key 'centerlines' (contrast_gan_3D.utils.io_utils:89)\n",
      "[2024-01-18 15:48:10,208: DEBUG] CCTA: torch.Size([512, 512, 222]) centerlines: (6037, 4) ostia: (2, 3) (contrast_gan_3D.utils.io_utils:147)\n",
      "[2024-01-18 15:48:10,209: DEBUG] H5 file: '/home/roel/data/MMWHS/ct_test/ct_test_2033_image.h5' (contrast_gan_3D.utils.io_utils:156)\n",
      "[2024-01-18 15:48:13,791: DEBUG] dtype conversion float32->int16 (contrast_gan_3D.utils.io_utils:29)\n",
      "[2024-01-18 15:48:13,815: DEBUG] Clipped to (-1024, 3072) (contrast_gan_3D.utils.io_utils:33)\n",
      "[2024-01-18 15:48:15,583: INFO] REORIENT RPS: '/home/marco/data/MMWHS/ct_test/ct_test_2034_image.nii.gz' (contrast_gan_3D.utils.io_utils:140)\n",
      "[2024-01-18 15:48:15,627: DEBUG] Saved centerlines to '/home/marco/data/MMWHS/ct_test/auto_centerlines/ct_test_2034_image.nii.gz/centerlines.npz' with key 'centerlines' (contrast_gan_3D.utils.io_utils:89)\n",
      "[2024-01-18 15:48:15,631: DEBUG] CCTA: torch.Size([512, 512, 247]) centerlines: (7439, 4) ostia: (2, 3) (contrast_gan_3D.utils.io_utils:147)\n",
      "[2024-01-18 15:48:15,631: DEBUG] H5 file: '/home/roel/data/MMWHS/ct_test/ct_test_2034_image.h5' (contrast_gan_3D.utils.io_utils:156)\n",
      "[2024-01-18 15:48:19,879: DEBUG] dtype conversion float32->int16 (contrast_gan_3D.utils.io_utils:29)\n",
      "[2024-01-18 15:48:19,910: DEBUG] Clipped to (-1024, 3072) (contrast_gan_3D.utils.io_utils:33)\n",
      "[2024-01-18 15:48:22,047: INFO] REORIENT RPS: '/home/marco/data/MMWHS/ct_test/ct_test_2035_image.nii.gz' (contrast_gan_3D.utils.io_utils:140)\n",
      "[2024-01-18 15:48:22,128: DEBUG] Saved centerlines to '/home/marco/data/MMWHS/ct_test/auto_centerlines/ct_test_2035_image.nii.gz/centerlines.npz' with key 'centerlines' (contrast_gan_3D.utils.io_utils:89)\n",
      "[2024-01-18 15:48:22,136: DEBUG] CCTA: torch.Size([512, 512, 256]) centerlines: (7657, 4) ostia: (2, 3) (contrast_gan_3D.utils.io_utils:147)\n",
      "[2024-01-18 15:48:22,137: DEBUG] H5 file: '/home/roel/data/MMWHS/ct_test/ct_test_2035_image.h5' (contrast_gan_3D.utils.io_utils:156)\n",
      "[2024-01-18 15:48:27,390: DEBUG] dtype conversion float32->int16 (contrast_gan_3D.utils.io_utils:29)\n",
      "[2024-01-18 15:48:27,473: DEBUG] Clipped to (-1024, 3072) (contrast_gan_3D.utils.io_utils:33)\n",
      "[2024-01-18 15:48:30,745: INFO] REORIENT RPS: '/home/marco/data/MMWHS/ct_test/ct_test_2036_image.nii.gz' (contrast_gan_3D.utils.io_utils:140)\n",
      "[2024-01-18 15:48:30,827: DEBUG] Saved centerlines to '/home/marco/data/MMWHS/ct_test/auto_centerlines/ct_test_2036_image.nii.gz/centerlines.npz' with key 'centerlines' (contrast_gan_3D.utils.io_utils:89)\n",
      "[2024-01-18 15:48:30,833: DEBUG] CCTA: torch.Size([512, 512, 333]) centerlines: (9641, 4) ostia: (2, 3) (contrast_gan_3D.utils.io_utils:147)\n",
      "[2024-01-18 15:48:30,837: DEBUG] H5 file: '/home/roel/data/MMWHS/ct_test/ct_test_2036_image.h5' (contrast_gan_3D.utils.io_utils:156)\n",
      "[2024-01-18 15:48:33,689: DEBUG] Clipped to (-1024, 3072) (contrast_gan_3D.utils.io_utils:33)\n",
      "[2024-01-18 15:48:35,482: INFO] REORIENT RPS: '/home/marco/data/MMWHS/ct_test/ct_test_2037_image.nii.gz' (contrast_gan_3D.utils.io_utils:140)\n",
      "[2024-01-18 15:48:35,490: DEBUG] Saved centerlines to '/home/marco/data/MMWHS/ct_test/auto_centerlines/ct_test_2037_image.nii.gz/centerlines.npz' with key 'centerlines' (contrast_gan_3D.utils.io_utils:89)\n",
      "[2024-01-18 15:48:35,496: DEBUG] CCTA: torch.Size([512, 512, 230]) centerlines: (596, 4) ostia: (2, 3) (contrast_gan_3D.utils.io_utils:147)\n",
      "[2024-01-18 15:48:35,498: DEBUG] H5 file: '/home/roel/data/MMWHS/ct_test/ct_test_2037_image.h5' (contrast_gan_3D.utils.io_utils:156)\n",
      "[2024-01-18 15:48:40,107: DEBUG] dtype conversion float32->int16 (contrast_gan_3D.utils.io_utils:29)\n",
      "[2024-01-18 15:48:40,153: DEBUG] Clipped to (-1024, 3072) (contrast_gan_3D.utils.io_utils:33)\n",
      "[2024-01-18 15:48:42,390: INFO] REORIENT RPS: '/home/marco/data/MMWHS/ct_test/ct_test_2038_image.nii.gz' (contrast_gan_3D.utils.io_utils:140)\n",
      "[2024-01-18 15:48:42,422: DEBUG] Saved centerlines to '/home/marco/data/MMWHS/ct_test/auto_centerlines/ct_test_2038_image.nii.gz/centerlines.npz' with key 'centerlines' (contrast_gan_3D.utils.io_utils:89)\n",
      "[2024-01-18 15:48:42,430: DEBUG] CCTA: torch.Size([512, 512, 261]) centerlines: (4328, 4) ostia: (2, 3) (contrast_gan_3D.utils.io_utils:147)\n",
      "[2024-01-18 15:48:42,431: DEBUG] H5 file: '/home/roel/data/MMWHS/ct_test/ct_test_2038_image.h5' (contrast_gan_3D.utils.io_utils:156)\n",
      "[2024-01-18 15:48:44,555: DEBUG] dtype conversion float32->int16 (contrast_gan_3D.utils.io_utils:29)\n",
      "[2024-01-18 15:48:44,576: DEBUG] Clipped to (-1024, 3072) (contrast_gan_3D.utils.io_utils:33)\n",
      "[2024-01-18 15:48:45,487: INFO] REORIENT RPS: '/home/marco/data/MMWHS/ct_test/ct_test_2039_image.nii.gz' (contrast_gan_3D.utils.io_utils:140)\n",
      "[2024-01-18 15:48:45,587: DEBUG] Saved centerlines to '/home/marco/data/MMWHS/ct_test/auto_centerlines/ct_test_2039_image.nii.gz/centerlines.npz' with key 'centerlines' (contrast_gan_3D.utils.io_utils:89)\n",
      "[2024-01-18 15:48:45,614: DEBUG] CCTA: torch.Size([512, 512, 177]) centerlines: (7544, 4) ostia: (2, 3) (contrast_gan_3D.utils.io_utils:147)\n",
      "[2024-01-18 15:48:45,624: DEBUG] H5 file: '/home/roel/data/MMWHS/ct_test/ct_test_2039_image.h5' (contrast_gan_3D.utils.io_utils:156)\n",
      "[2024-01-18 15:48:48,413: DEBUG] dtype conversion float32->int16 (contrast_gan_3D.utils.io_utils:29)\n",
      "[2024-01-18 15:48:48,447: DEBUG] Clipped to (-1024, 3072) (contrast_gan_3D.utils.io_utils:33)\n",
      "[2024-01-18 15:48:49,967: INFO] REORIENT RPS: '/home/marco/data/MMWHS/ct_test/ct_test_2040_image.nii.gz' (contrast_gan_3D.utils.io_utils:140)\n",
      "[2024-01-18 15:48:50,128: DEBUG] Saved centerlines to '/home/marco/data/MMWHS/ct_test/auto_centerlines/ct_test_2040_image.nii.gz/centerlines.npz' with key 'centerlines' (contrast_gan_3D.utils.io_utils:89)\n",
      "[2024-01-18 15:48:50,130: DEBUG] CCTA: torch.Size([512, 512, 283]) centerlines: (6334, 4) ostia: (2, 3) (contrast_gan_3D.utils.io_utils:147)\n",
      "[2024-01-18 15:48:50,131: DEBUG] H5 file: '/home/roel/data/MMWHS/ct_test/ct_test_2040_image.h5' (contrast_gan_3D.utils.io_utils:156)\n"
     ]
    }
   ],
   "source": [
    "for ccta, centerlines_dir in zipped:\n",
    "    if io_utils.stem(centerlines_dir) == io_utils.stem(ccta):\n",
    "        io_utils.sitk_to_h5(\n",
    "            ccta,\n",
    "            centerlines_dir,\n",
    "            centerlines_dir / \"ostia.xml\",\n",
    "            h5_output_dir=H5_OUTPUT_DIR,\n",
    "            reorient_RPS=REORIENT_RPS,\n",
    "        )\n",
    "    else:\n",
    "        print(f\"**No centerlines for {str(ccta)!r}**\")"
   ]
  }
 ],
 "metadata": {
  "kernelspec": {
   "display_name": "Python 3",
   "language": "python",
   "name": "python3"
  },
  "language_info": {
   "name": "python",
   "version": "3.11.7"
  }
 },
 "nbformat": 4,
 "nbformat_minor": 2
}
