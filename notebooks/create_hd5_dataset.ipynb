{
 "cells": [
  {
   "cell_type": "markdown",
   "metadata": {},
   "source": [
    "# Automatic Centerlines Extraction"
   ]
  },
  {
   "cell_type": "markdown",
   "metadata": {},
   "source": [
    "\n",
    "First, extract the coronary artery centerlines from your dataset using the method described in \n",
    "[Coronary artery centerline extraction in cardiac CT angiography using a CNN-based orientation classifier (Walternik et al., 2019)](https://www.sciencedirect.com/science/article/pii/S1361841518308491). For now, CCTA scans from `<dataset_dir>` are matched with the patterns `*.mhd`\n",
    "and `*_image.nii.gz`. "
   ]
  },
  {
   "cell_type": "markdown",
   "metadata": {},
   "source": [
    "```bash\n",
    "source scripts/centerlines_autoextract.sh <dataset_dir> <output_dir>\n",
    "```"
   ]
  },
  {
   "cell_type": "markdown",
   "metadata": {},
   "source": [
    "For every `datapoint_X` in `<dataset_dir>`, this command creates files `<output_dir>/<datapoint_X>/vessel0.txt`,\n",
    "`<output_dir>/<datapoint_X>/vessel1.txt` etc., where each `vessel<N>.txt` file corresponds to a discovered coranary \n",
    "artery vessel and it contains an array of 4D points (3D XYZ coordinates + artery lumen radius estimate)."
   ]
  },
  {
   "cell_type": "markdown",
   "metadata": {},
   "source": [
    "## Create the HD5-encoded Dataset"
   ]
  },
  {
   "cell_type": "markdown",
   "metadata": {},
   "source": [
    "The HD5 file type allows on-the-fly loading of big datasets, without the need to load entire arrays in memory -- \n",
    "relevant parts are loaded as needed, reducing memory footprint. \n",
    "\n",
    "For more inforamation, refer to the \n",
    "[HD5 Python documentation](https://docs.h5py.org/en/stable/)."
   ]
  },
  {
   "cell_type": "code",
   "execution_count": null,
   "metadata": {},
   "outputs": [
    {
     "name": "stdout",
     "output_type": "stream",
     "text": [
      "/home/marco/contrast-gan-3D\n"
     ]
    }
   ],
   "source": [
    "%cd ../"
   ]
  },
  {
   "cell_type": "markdown",
   "metadata": {},
   "source": [
    "Adjust the variables in the following cell to match your setup:"
   ]
  },
  {
   "cell_type": "code",
   "execution_count": null,
   "metadata": {},
   "outputs": [
    {
     "name": "stdout",
     "output_type": "stream",
     "text": [
      "/home/marco/data/MMWHS/ct_test\n",
      "/home/marco/data/MMWHS/ct_test/auto_centerlines\n",
      "None\n"
     ]
    }
   ],
   "source": [
    "from pathlib import Path\n",
    "\n",
    "DATASET_DIR = Path(\"/home/marco/data/MMWHS/ct_test\")\n",
    "\n",
    "OUTPUT_DIR = DATASET_DIR / \"auto_centerlines\"\n",
    "\n",
    "# By default, .h5 converted files are saved inside `datset_dir`; set this\n",
    "# variable if you want to save them somewhere else\n",
    "H5_OUTPUT_DIR = None\n",
    "\n",
    "print(str(DATASET_DIR))\n",
    "print(str(OUTPUT_DIR))\n",
    "print(str(H5_OUTPUT_DIR))"
   ]
  },
  {
   "cell_type": "code",
   "execution_count": null,
   "metadata": {},
   "outputs": [
    {
     "name": "stdout",
     "output_type": "stream",
     "text": [
      "Found 40 CCTAs with 40 centerlines\n",
      "[(PosixPath('/home/marco/data/MMWHS/ct_test/ct_test_2001_image.nii.gz'),\n",
      "  PosixPath('/home/marco/data/MMWHS/ct_test/auto_centerlines/ct_test_2001_image.nii.gz')),\n",
      " (PosixPath('/home/marco/data/MMWHS/ct_test/ct_test_2002_image.nii.gz'),\n",
      "  PosixPath('/home/marco/data/MMWHS/ct_test/auto_centerlines/ct_test_2002_image.nii.gz')),\n",
      " (PosixPath('/home/marco/data/MMWHS/ct_test/ct_test_2003_image.nii.gz'),\n",
      "  PosixPath('/home/marco/data/MMWHS/ct_test/auto_centerlines/ct_test_2003_image.nii.gz'))]\n"
     ]
    }
   ],
   "source": [
    "from pprint import pprint\n",
    "\n",
    "cctas = sorted(\n",
    "    list(DATASET_DIR.glob(\"*.mhd\")) + list(DATASET_DIR.glob(\"*_image.nii.gz\"))\n",
    ")\n",
    "centerlines = sorted([d for d in OUTPUT_DIR.glob(\"*\") if d.is_dir()])\n",
    "print(f\"Found {len(cctas)} CCTAs with {len(centerlines)} centerlines\")\n",
    "\n",
    "zipped = list(zip(cctas, centerlines))\n",
    "pprint(zipped[:3])"
   ]
  },
  {
   "cell_type": "code",
   "execution_count": null,
   "metadata": {},
   "outputs": [
    {
     "name": "stdout",
     "output_type": "stream",
     "text": [
      "contrast_gan_3D.utils.io_utils: INFO -> DEBUG\n"
     ]
    }
   ],
   "source": [
    "from contrast_gan_3D.utils import io_utils, logging_utils\n",
    "\n",
    "logging_utils.set_project_loggers_level(level=\"DEBUG\")"
   ]
  },
  {
   "cell_type": "code",
   "execution_count": null,
   "metadata": {},
   "outputs": [
    {
     "name": "stdout",
     "output_type": "stream",
     "text": [
      "[2024-01-12 15:03:32,228: DEBUG] Saved centerlines to '/home/marco/data/MMWHS/ct_test/auto_centerlines/ct_test_2001_image.nii.gz/centerlines.npz' with key 'centerlines' (contrast_gan_3D.utils.io_utils:61)\n",
      "[2024-01-12 15:03:32,228: DEBUG] CCTA: (512, 512, 224) centerlines: (756, 4) (contrast_gan_3D.utils.io_utils:86)\n",
      "[2024-01-12 15:03:32,229: DEBUG] H5 file: '/home/roel/data/MMWHS/ct_test/ct_test_2001_image.h5' (contrast_gan_3D.utils.io_utils:91)\n",
      "[2024-01-12 15:03:34,619: DEBUG] Saved centerlines to '/home/marco/data/MMWHS/ct_test/auto_centerlines/ct_test_2002_image.nii.gz/centerlines.npz' with key 'centerlines' (contrast_gan_3D.utils.io_utils:61)\n",
      "[2024-01-12 15:03:34,621: DEBUG] CCTA: (512, 512, 200) centerlines: (10132, 4) (contrast_gan_3D.utils.io_utils:86)\n",
      "[2024-01-12 15:03:34,622: DEBUG] H5 file: '/home/roel/data/MMWHS/ct_test/ct_test_2002_image.h5' (contrast_gan_3D.utils.io_utils:91)\n",
      "[2024-01-12 15:03:37,205: DEBUG] Saved centerlines to '/home/marco/data/MMWHS/ct_test/auto_centerlines/ct_test_2003_image.nii.gz/centerlines.npz' with key 'centerlines' (contrast_gan_3D.utils.io_utils:61)\n",
      "[2024-01-12 15:03:37,208: DEBUG] CCTA: (512, 512, 276) centerlines: (767, 4) (contrast_gan_3D.utils.io_utils:86)\n",
      "[2024-01-12 15:03:37,209: DEBUG] H5 file: '/home/roel/data/MMWHS/ct_test/ct_test_2003_image.h5' (contrast_gan_3D.utils.io_utils:91)\n",
      "[2024-01-12 15:03:41,077: DEBUG] Saved centerlines to '/home/marco/data/MMWHS/ct_test/auto_centerlines/ct_test_2004_image.nii.gz/centerlines.npz' with key 'centerlines' (contrast_gan_3D.utils.io_utils:61)\n",
      "[2024-01-12 15:03:41,079: DEBUG] CCTA: (512, 512, 206) centerlines: (3356, 4) (contrast_gan_3D.utils.io_utils:86)\n",
      "[2024-01-12 15:03:41,081: DEBUG] H5 file: '/home/roel/data/MMWHS/ct_test/ct_test_2004_image.h5' (contrast_gan_3D.utils.io_utils:91)\n",
      "[2024-01-12 15:03:45,022: DEBUG] Saved centerlines to '/home/marco/data/MMWHS/ct_test/auto_centerlines/ct_test_2005_image.nii.gz/centerlines.npz' with key 'centerlines' (contrast_gan_3D.utils.io_utils:61)\n",
      "[2024-01-12 15:03:45,024: DEBUG] CCTA: (512, 512, 271) centerlines: (2417, 4) (contrast_gan_3D.utils.io_utils:86)\n",
      "[2024-01-12 15:03:45,025: DEBUG] H5 file: '/home/roel/data/MMWHS/ct_test/ct_test_2005_image.h5' (contrast_gan_3D.utils.io_utils:91)\n",
      "[2024-01-12 15:03:49,726: DEBUG] Saved centerlines to '/home/marco/data/MMWHS/ct_test/auto_centerlines/ct_test_2006_image.nii.gz/centerlines.npz' with key 'centerlines' (contrast_gan_3D.utils.io_utils:61)\n",
      "[2024-01-12 15:03:49,733: DEBUG] CCTA: (512, 512, 271) centerlines: (2479, 4) (contrast_gan_3D.utils.io_utils:86)\n",
      "[2024-01-12 15:03:49,734: DEBUG] H5 file: '/home/roel/data/MMWHS/ct_test/ct_test_2006_image.h5' (contrast_gan_3D.utils.io_utils:91)\n",
      "[2024-01-12 15:03:54,884: DEBUG] Saved centerlines to '/home/marco/data/MMWHS/ct_test/auto_centerlines/ct_test_2007_image.nii.gz/centerlines.npz' with key 'centerlines' (contrast_gan_3D.utils.io_utils:61)\n",
      "[2024-01-12 15:03:54,886: DEBUG] CCTA: (512, 512, 288) centerlines: (634, 4) (contrast_gan_3D.utils.io_utils:86)\n",
      "[2024-01-12 15:03:54,887: DEBUG] H5 file: '/home/roel/data/MMWHS/ct_test/ct_test_2007_image.h5' (contrast_gan_3D.utils.io_utils:91)\n",
      "[2024-01-12 15:03:59,673: DEBUG] Saved centerlines to '/home/marco/data/MMWHS/ct_test/auto_centerlines/ct_test_2008_image.nii.gz/centerlines.npz' with key 'centerlines' (contrast_gan_3D.utils.io_utils:61)\n",
      "[2024-01-12 15:03:59,675: DEBUG] CCTA: (512, 512, 261) centerlines: (7690, 4) (contrast_gan_3D.utils.io_utils:86)\n",
      "[2024-01-12 15:03:59,676: DEBUG] H5 file: '/home/roel/data/MMWHS/ct_test/ct_test_2008_image.h5' (contrast_gan_3D.utils.io_utils:91)\n",
      "[2024-01-12 15:04:04,125: DEBUG] Saved centerlines to '/home/marco/data/MMWHS/ct_test/auto_centerlines/ct_test_2009_image.nii.gz/centerlines.npz' with key 'centerlines' (contrast_gan_3D.utils.io_utils:61)\n",
      "[2024-01-12 15:04:04,127: DEBUG] CCTA: (512, 512, 300) centerlines: (3190, 4) (contrast_gan_3D.utils.io_utils:86)\n",
      "[2024-01-12 15:04:04,128: DEBUG] H5 file: '/home/roel/data/MMWHS/ct_test/ct_test_2009_image.h5' (contrast_gan_3D.utils.io_utils:91)\n",
      "[2024-01-12 15:04:08,771: DEBUG] Saved centerlines to '/home/marco/data/MMWHS/ct_test/auto_centerlines/ct_test_2010_image.nii.gz/centerlines.npz' with key 'centerlines' (contrast_gan_3D.utils.io_utils:61)\n",
      "[2024-01-12 15:04:08,772: DEBUG] CCTA: (512, 512, 274) centerlines: (6526, 4) (contrast_gan_3D.utils.io_utils:86)\n",
      "[2024-01-12 15:04:08,773: DEBUG] H5 file: '/home/roel/data/MMWHS/ct_test/ct_test_2010_image.h5' (contrast_gan_3D.utils.io_utils:91)\n",
      "[2024-01-12 15:04:13,667: DEBUG] Saved centerlines to '/home/marco/data/MMWHS/ct_test/auto_centerlines/ct_test_2011_image.nii.gz/centerlines.npz' with key 'centerlines' (contrast_gan_3D.utils.io_utils:61)\n",
      "[2024-01-12 15:04:13,669: DEBUG] CCTA: (512, 512, 298) centerlines: (3940, 4) (contrast_gan_3D.utils.io_utils:86)\n",
      "[2024-01-12 15:04:13,670: DEBUG] H5 file: '/home/roel/data/MMWHS/ct_test/ct_test_2011_image.h5' (contrast_gan_3D.utils.io_utils:91)\n",
      "[2024-01-12 15:04:18,400: DEBUG] Saved centerlines to '/home/marco/data/MMWHS/ct_test/auto_centerlines/ct_test_2012_image.nii.gz/centerlines.npz' with key 'centerlines' (contrast_gan_3D.utils.io_utils:61)\n",
      "[2024-01-12 15:04:18,401: DEBUG] CCTA: (512, 512, 256) centerlines: (5143, 4) (contrast_gan_3D.utils.io_utils:86)\n",
      "[2024-01-12 15:04:18,402: DEBUG] H5 file: '/home/roel/data/MMWHS/ct_test/ct_test_2012_image.h5' (contrast_gan_3D.utils.io_utils:91)\n",
      "[2024-01-12 15:04:22,615: DEBUG] Saved centerlines to '/home/marco/data/MMWHS/ct_test/auto_centerlines/ct_test_2013_image.nii.gz/centerlines.npz' with key 'centerlines' (contrast_gan_3D.utils.io_utils:61)\n",
      "[2024-01-12 15:04:22,617: DEBUG] CCTA: (512, 512, 287) centerlines: (7162, 4) (contrast_gan_3D.utils.io_utils:86)\n",
      "[2024-01-12 15:04:22,618: DEBUG] H5 file: '/home/roel/data/MMWHS/ct_test/ct_test_2013_image.h5' (contrast_gan_3D.utils.io_utils:91)\n",
      "[2024-01-12 15:04:26,805: DEBUG] Saved centerlines to '/home/marco/data/MMWHS/ct_test/auto_centerlines/ct_test_2014_image.nii.gz/centerlines.npz' with key 'centerlines' (contrast_gan_3D.utils.io_utils:61)\n",
      "[2024-01-12 15:04:26,806: DEBUG] CCTA: (512, 512, 224) centerlines: (824, 4) (contrast_gan_3D.utils.io_utils:86)\n",
      "[2024-01-12 15:04:26,807: DEBUG] H5 file: '/home/roel/data/MMWHS/ct_test/ct_test_2014_image.h5' (contrast_gan_3D.utils.io_utils:91)\n",
      "[2024-01-12 15:04:30,605: DEBUG] Saved centerlines to '/home/marco/data/MMWHS/ct_test/auto_centerlines/ct_test_2015_image.nii.gz/centerlines.npz' with key 'centerlines' (contrast_gan_3D.utils.io_utils:61)\n",
      "[2024-01-12 15:04:30,606: DEBUG] CCTA: (512, 512, 288) centerlines: (393, 4) (contrast_gan_3D.utils.io_utils:86)\n",
      "[2024-01-12 15:04:30,606: DEBUG] H5 file: '/home/roel/data/MMWHS/ct_test/ct_test_2015_image.h5' (contrast_gan_3D.utils.io_utils:91)\n",
      "[2024-01-12 15:04:33,490: DEBUG] Saved centerlines to '/home/marco/data/MMWHS/ct_test/auto_centerlines/ct_test_2016_image.nii.gz/centerlines.npz' with key 'centerlines' (contrast_gan_3D.utils.io_utils:61)\n",
      "[2024-01-12 15:04:33,492: DEBUG] CCTA: (512, 512, 243) centerlines: (28, 4) (contrast_gan_3D.utils.io_utils:86)\n",
      "[2024-01-12 15:04:33,493: DEBUG] H5 file: '/home/roel/data/MMWHS/ct_test/ct_test_2016_image.h5' (contrast_gan_3D.utils.io_utils:91)\n",
      "[2024-01-12 15:04:36,555: DEBUG] Saved centerlines to '/home/marco/data/MMWHS/ct_test/auto_centerlines/ct_test_2017_image.nii.gz/centerlines.npz' with key 'centerlines' (contrast_gan_3D.utils.io_utils:61)\n",
      "[2024-01-12 15:04:36,557: DEBUG] CCTA: (512, 512, 248) centerlines: (29, 4) (contrast_gan_3D.utils.io_utils:86)\n",
      "[2024-01-12 15:04:36,558: DEBUG] H5 file: '/home/roel/data/MMWHS/ct_test/ct_test_2017_image.h5' (contrast_gan_3D.utils.io_utils:91)\n",
      "[2024-01-12 15:04:39,818: DEBUG] Saved centerlines to '/home/marco/data/MMWHS/ct_test/auto_centerlines/ct_test_2018_image.nii.gz/centerlines.npz' with key 'centerlines' (contrast_gan_3D.utils.io_utils:61)\n",
      "[2024-01-12 15:04:39,819: DEBUG] CCTA: (512, 512, 211) centerlines: (274, 4) (contrast_gan_3D.utils.io_utils:86)\n",
      "[2024-01-12 15:04:39,820: DEBUG] H5 file: '/home/roel/data/MMWHS/ct_test/ct_test_2018_image.h5' (contrast_gan_3D.utils.io_utils:91)\n",
      "[2024-01-12 15:04:43,564: DEBUG] CCTA: (512, 512, 297) centerlines: (0,) (contrast_gan_3D.utils.io_utils:86)\n",
      "[2024-01-12 15:04:43,567: DEBUG] H5 file: '/home/roel/data/MMWHS/ct_test/ct_test_2019_image.h5' (contrast_gan_3D.utils.io_utils:91)\n",
      "[2024-01-12 15:04:48,604: DEBUG] Saved centerlines to '/home/marco/data/MMWHS/ct_test/auto_centerlines/ct_test_2020_image.nii.gz/centerlines.npz' with key 'centerlines' (contrast_gan_3D.utils.io_utils:61)\n",
      "[2024-01-12 15:04:48,606: DEBUG] CCTA: (512, 512, 298) centerlines: (6651, 4) (contrast_gan_3D.utils.io_utils:86)\n",
      "[2024-01-12 15:04:48,607: DEBUG] H5 file: '/home/roel/data/MMWHS/ct_test/ct_test_2020_image.h5' (contrast_gan_3D.utils.io_utils:91)\n",
      "[2024-01-12 15:04:52,736: DEBUG] Saved centerlines to '/home/marco/data/MMWHS/ct_test/auto_centerlines/ct_test_2021_image.nii.gz/centerlines.npz' with key 'centerlines' (contrast_gan_3D.utils.io_utils:61)\n",
      "[2024-01-12 15:04:52,739: DEBUG] CCTA: (512, 512, 187) centerlines: (3926, 4) (contrast_gan_3D.utils.io_utils:86)\n",
      "[2024-01-12 15:04:52,740: DEBUG] H5 file: '/home/roel/data/MMWHS/ct_test/ct_test_2021_image.h5' (contrast_gan_3D.utils.io_utils:91)\n",
      "[2024-01-12 15:04:55,682: DEBUG] Saved centerlines to '/home/marco/data/MMWHS/ct_test/auto_centerlines/ct_test_2022_image.nii.gz/centerlines.npz' with key 'centerlines' (contrast_gan_3D.utils.io_utils:61)\n",
      "[2024-01-12 15:04:55,683: DEBUG] CCTA: (512, 512, 239) centerlines: (5040, 4) (contrast_gan_3D.utils.io_utils:86)\n",
      "[2024-01-12 15:04:55,683: DEBUG] H5 file: '/home/roel/data/MMWHS/ct_test/ct_test_2022_image.h5' (contrast_gan_3D.utils.io_utils:91)\n",
      "[2024-01-12 15:04:59,039: DEBUG] Saved centerlines to '/home/marco/data/MMWHS/ct_test/auto_centerlines/ct_test_2023_image.nii.gz/centerlines.npz' with key 'centerlines' (contrast_gan_3D.utils.io_utils:61)\n",
      "[2024-01-12 15:04:59,041: DEBUG] CCTA: (512, 512, 230) centerlines: (839, 4) (contrast_gan_3D.utils.io_utils:86)\n",
      "[2024-01-12 15:04:59,042: DEBUG] H5 file: '/home/roel/data/MMWHS/ct_test/ct_test_2023_image.h5' (contrast_gan_3D.utils.io_utils:91)\n",
      "[2024-01-12 15:05:03,033: DEBUG] Saved centerlines to '/home/marco/data/MMWHS/ct_test/auto_centerlines/ct_test_2024_image.nii.gz/centerlines.npz' with key 'centerlines' (contrast_gan_3D.utils.io_utils:61)\n",
      "[2024-01-12 15:05:03,035: DEBUG] CCTA: (512, 512, 276) centerlines: (556, 4) (contrast_gan_3D.utils.io_utils:86)\n",
      "[2024-01-12 15:05:03,036: DEBUG] H5 file: '/home/roel/data/MMWHS/ct_test/ct_test_2024_image.h5' (contrast_gan_3D.utils.io_utils:91)\n",
      "[2024-01-12 15:05:07,112: DEBUG] Saved centerlines to '/home/marco/data/MMWHS/ct_test/auto_centerlines/ct_test_2025_image.nii.gz/centerlines.npz' with key 'centerlines' (contrast_gan_3D.utils.io_utils:61)\n",
      "[2024-01-12 15:05:07,114: DEBUG] CCTA: (512, 512, 206) centerlines: (3758, 4) (contrast_gan_3D.utils.io_utils:86)\n",
      "[2024-01-12 15:05:07,115: DEBUG] H5 file: '/home/roel/data/MMWHS/ct_test/ct_test_2025_image.h5' (contrast_gan_3D.utils.io_utils:91)\n",
      "[2024-01-12 15:05:10,716: DEBUG] Saved centerlines to '/home/marco/data/MMWHS/ct_test/auto_centerlines/ct_test_2026_image.nii.gz/centerlines.npz' with key 'centerlines' (contrast_gan_3D.utils.io_utils:61)\n",
      "[2024-01-12 15:05:10,719: DEBUG] CCTA: (512, 512, 247) centerlines: (155, 4) (contrast_gan_3D.utils.io_utils:86)\n",
      "[2024-01-12 15:05:10,720: DEBUG] H5 file: '/home/roel/data/MMWHS/ct_test/ct_test_2026_image.h5' (contrast_gan_3D.utils.io_utils:91)\n",
      "[2024-01-12 15:05:14,607: DEBUG] Saved centerlines to '/home/marco/data/MMWHS/ct_test/auto_centerlines/ct_test_2027_image.nii.gz/centerlines.npz' with key 'centerlines' (contrast_gan_3D.utils.io_utils:61)\n",
      "[2024-01-12 15:05:14,608: DEBUG] CCTA: (512, 512, 239) centerlines: (2444, 4) (contrast_gan_3D.utils.io_utils:86)\n",
      "[2024-01-12 15:05:14,610: DEBUG] H5 file: '/home/roel/data/MMWHS/ct_test/ct_test_2027_image.h5' (contrast_gan_3D.utils.io_utils:91)\n",
      "[2024-01-12 15:05:19,557: DEBUG] Saved centerlines to '/home/marco/data/MMWHS/ct_test/auto_centerlines/ct_test_2028_image.nii.gz/centerlines.npz' with key 'centerlines' (contrast_gan_3D.utils.io_utils:61)\n",
      "[2024-01-12 15:05:19,559: DEBUG] CCTA: (512, 512, 358) centerlines: (4031, 4) (contrast_gan_3D.utils.io_utils:86)\n",
      "[2024-01-12 15:05:19,561: DEBUG] H5 file: '/home/roel/data/MMWHS/ct_test/ct_test_2028_image.h5' (contrast_gan_3D.utils.io_utils:91)\n",
      "[2024-01-12 15:05:24,815: DEBUG] Saved centerlines to '/home/marco/data/MMWHS/ct_test/auto_centerlines/ct_test_2029_image.nii.gz/centerlines.npz' with key 'centerlines' (contrast_gan_3D.utils.io_utils:61)\n",
      "[2024-01-12 15:05:24,817: DEBUG] CCTA: (512, 512, 298) centerlines: (3186, 4) (contrast_gan_3D.utils.io_utils:86)\n",
      "[2024-01-12 15:05:24,818: DEBUG] H5 file: '/home/roel/data/MMWHS/ct_test/ct_test_2029_image.h5' (contrast_gan_3D.utils.io_utils:91)\n",
      "[2024-01-12 15:05:28,766: DEBUG] Saved centerlines to '/home/marco/data/MMWHS/ct_test/auto_centerlines/ct_test_2030_image.nii.gz/centerlines.npz' with key 'centerlines' (contrast_gan_3D.utils.io_utils:61)\n",
      "[2024-01-12 15:05:28,766: DEBUG] CCTA: (512, 512, 293) centerlines: (5295, 4) (contrast_gan_3D.utils.io_utils:86)\n",
      "[2024-01-12 15:05:28,767: DEBUG] H5 file: '/home/roel/data/MMWHS/ct_test/ct_test_2030_image.h5' (contrast_gan_3D.utils.io_utils:91)\n",
      "[2024-01-12 15:05:31,898: DEBUG] Saved centerlines to '/home/marco/data/MMWHS/ct_test/auto_centerlines/ct_test_2031_image.nii.gz/centerlines.npz' with key 'centerlines' (contrast_gan_3D.utils.io_utils:61)\n",
      "[2024-01-12 15:05:31,900: DEBUG] CCTA: (512, 512, 287) centerlines: (6081, 4) (contrast_gan_3D.utils.io_utils:86)\n",
      "[2024-01-12 15:05:31,901: DEBUG] H5 file: '/home/roel/data/MMWHS/ct_test/ct_test_2031_image.h5' (contrast_gan_3D.utils.io_utils:91)\n",
      "[2024-01-12 15:05:35,606: DEBUG] Saved centerlines to '/home/marco/data/MMWHS/ct_test/auto_centerlines/ct_test_2032_image.nii.gz/centerlines.npz' with key 'centerlines' (contrast_gan_3D.utils.io_utils:61)\n",
      "[2024-01-12 15:05:35,607: DEBUG] CCTA: (512, 512, 177) centerlines: (3600, 4) (contrast_gan_3D.utils.io_utils:86)\n",
      "[2024-01-12 15:05:35,609: DEBUG] H5 file: '/home/roel/data/MMWHS/ct_test/ct_test_2032_image.h5' (contrast_gan_3D.utils.io_utils:91)\n",
      "[2024-01-12 15:05:38,767: DEBUG] Saved centerlines to '/home/marco/data/MMWHS/ct_test/auto_centerlines/ct_test_2033_image.nii.gz/centerlines.npz' with key 'centerlines' (contrast_gan_3D.utils.io_utils:61)\n",
      "[2024-01-12 15:05:38,769: DEBUG] CCTA: (512, 512, 222) centerlines: (348, 4) (contrast_gan_3D.utils.io_utils:86)\n",
      "[2024-01-12 15:05:38,771: DEBUG] H5 file: '/home/roel/data/MMWHS/ct_test/ct_test_2033_image.h5' (contrast_gan_3D.utils.io_utils:91)\n",
      "[2024-01-12 15:05:42,814: DEBUG] Saved centerlines to '/home/marco/data/MMWHS/ct_test/auto_centerlines/ct_test_2034_image.nii.gz/centerlines.npz' with key 'centerlines' (contrast_gan_3D.utils.io_utils:61)\n",
      "[2024-01-12 15:05:42,815: DEBUG] CCTA: (512, 512, 247) centerlines: (23, 4) (contrast_gan_3D.utils.io_utils:86)\n",
      "[2024-01-12 15:05:42,816: DEBUG] H5 file: '/home/roel/data/MMWHS/ct_test/ct_test_2034_image.h5' (contrast_gan_3D.utils.io_utils:91)\n",
      "[2024-01-12 15:05:47,606: DEBUG] Saved centerlines to '/home/marco/data/MMWHS/ct_test/auto_centerlines/ct_test_2035_image.nii.gz/centerlines.npz' with key 'centerlines' (contrast_gan_3D.utils.io_utils:61)\n",
      "[2024-01-12 15:05:47,610: DEBUG] CCTA: (512, 512, 256) centerlines: (4529, 4) (contrast_gan_3D.utils.io_utils:86)\n",
      "[2024-01-12 15:05:47,612: DEBUG] H5 file: '/home/roel/data/MMWHS/ct_test/ct_test_2035_image.h5' (contrast_gan_3D.utils.io_utils:91)\n",
      "[2024-01-12 15:05:52,928: DEBUG] Saved centerlines to '/home/marco/data/MMWHS/ct_test/auto_centerlines/ct_test_2036_image.nii.gz/centerlines.npz' with key 'centerlines' (contrast_gan_3D.utils.io_utils:61)\n",
      "[2024-01-12 15:05:52,929: DEBUG] CCTA: (512, 512, 333) centerlines: (5593, 4) (contrast_gan_3D.utils.io_utils:86)\n",
      "[2024-01-12 15:05:52,930: DEBUG] H5 file: '/home/roel/data/MMWHS/ct_test/ct_test_2036_image.h5' (contrast_gan_3D.utils.io_utils:91)\n",
      "[2024-01-12 15:05:57,434: DEBUG] Saved centerlines to '/home/marco/data/MMWHS/ct_test/auto_centerlines/ct_test_2037_image.nii.gz/centerlines.npz' with key 'centerlines' (contrast_gan_3D.utils.io_utils:61)\n",
      "[2024-01-12 15:05:57,435: DEBUG] CCTA: (512, 512, 230) centerlines: (1332, 4) (contrast_gan_3D.utils.io_utils:86)\n",
      "[2024-01-12 15:05:57,436: DEBUG] H5 file: '/home/roel/data/MMWHS/ct_test/ct_test_2037_image.h5' (contrast_gan_3D.utils.io_utils:91)\n",
      "[2024-01-12 15:06:01,016: DEBUG] CCTA: (512, 512, 261) centerlines: (0,) (contrast_gan_3D.utils.io_utils:86)\n",
      "[2024-01-12 15:06:01,018: DEBUG] H5 file: '/home/roel/data/MMWHS/ct_test/ct_test_2038_image.h5' (contrast_gan_3D.utils.io_utils:91)\n",
      "[2024-01-12 15:06:05,961: DEBUG] Saved centerlines to '/home/marco/data/MMWHS/ct_test/auto_centerlines/ct_test_2039_image.nii.gz/centerlines.npz' with key 'centerlines' (contrast_gan_3D.utils.io_utils:61)\n",
      "[2024-01-12 15:06:05,963: DEBUG] CCTA: (512, 512, 177) centerlines: (357, 4) (contrast_gan_3D.utils.io_utils:86)\n",
      "[2024-01-12 15:06:05,964: DEBUG] H5 file: '/home/roel/data/MMWHS/ct_test/ct_test_2039_image.h5' (contrast_gan_3D.utils.io_utils:91)\n",
      "[2024-01-12 15:06:09,730: DEBUG] Saved centerlines to '/home/marco/data/MMWHS/ct_test/auto_centerlines/ct_test_2040_image.nii.gz/centerlines.npz' with key 'centerlines' (contrast_gan_3D.utils.io_utils:61)\n",
      "[2024-01-12 15:06:09,731: DEBUG] CCTA: (512, 512, 283) centerlines: (5373, 4) (contrast_gan_3D.utils.io_utils:86)\n",
      "[2024-01-12 15:06:09,733: DEBUG] H5 file: '/home/roel/data/MMWHS/ct_test/ct_test_2040_image.h5' (contrast_gan_3D.utils.io_utils:91)\n"
     ]
    }
   ],
   "source": [
    "for ccta, centerlines_dir in zipped:\n",
    "    if str(centerlines_dir).split(\"/\")[-1] == str(ccta).split(\"/\")[-1]:\n",
    "        io_utils.sitk_to_h5(ccta, centerlines_dir, h5_output_dir=H5_OUTPUT_DIR)\n",
    "    else:\n",
    "        print(f\"**No centerlines for {str(ccta)!r}**\")"
   ]
  }
 ],
 "metadata": {
  "kernelspec": {
   "display_name": "Python 3",
   "language": "python",
   "name": "python3"
  },
  "language_info": {
   "name": "python",
   "version": "3.11.7"
  }
 },
 "nbformat": 4,
 "nbformat_minor": 2
}
