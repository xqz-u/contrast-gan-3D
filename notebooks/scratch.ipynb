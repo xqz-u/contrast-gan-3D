{
 "cells": [
  {
   "cell_type": "code",
   "execution_count": 1,
   "metadata": {},
   "outputs": [
    {
     "name": "stdout",
     "output_type": "stream",
     "text": [
      "/home/marco/contrast-gan-3D\n"
     ]
    }
   ],
   "source": [
    "%cd .."
   ]
  },
  {
   "cell_type": "code",
   "execution_count": 2,
   "metadata": {},
   "outputs": [],
   "source": [
    "from contrast_gan_3D.data.CCTADataLoader import CCTADataLoader\n",
    "from contrast_gan_3D.experiments.conf_2D import *\n",
    "\n",
    "loader = CCTADataLoader(\n",
    "    [\"/home/marco/data/ASOCA_Philips/images/ASOCA-000.h5\"],\n",
    "    train_patch_size,\n",
    "    train_batch_size,\n",
    "    rng,\n",
    "    scaler=scaler,\n",
    ")"
   ]
  },
  {
   "cell_type": "code",
   "execution_count": 4,
   "metadata": {},
   "outputs": [
    {
     "name": "stdout",
     "output_type": "stream",
     "text": [
      "(6, 1, 128, 128)\n"
     ]
    }
   ],
   "source": [
    "batch = loader.generate_train_batch()\n",
    "print(batch[\"data\"].shape)"
   ]
  },
  {
   "cell_type": "code",
   "execution_count": null,
   "metadata": {},
   "outputs": [],
   "source": [
    "import os\n",
    "\n",
    "# https://discuss.pytorch.org/t/gpu-device-ordering/60785/2\n",
    "os.environ[\"CUDA_DEVICE_ORDER\"] = \"PCI_BUS_ID\"\n",
    "\n",
    "\n",
    "import numpy as np\n",
    "import torch\n",
    "\n",
    "from contrast_gan_3D.alias import ScanType\n",
    "from contrast_gan_3D.config import CHECKPOINTS_DIR\n",
    "\n",
    "from contrast_gan_3D.experiments.gradient_penalty_conf import *\n",
    "from contrast_gan_3D.model.loss import HULoss\n",
    "from contrast_gan_3D.trainer.Trainer import Trainer\n",
    "from contrast_gan_3D.trainer.utils import create_dataloaders, cval_paths\n",
    "from contrast_gan_3D.utils import set_GPU"
   ]
  },
  {
   "cell_type": "code",
   "execution_count": null,
   "metadata": {},
   "outputs": [],
   "source": [
    "profiler_dir = None\n",
    "run_id = \"pippo\"\n",
    "fold_idx = 0\n",
    "\n",
    "train_folds, val_folds = cval_paths(n_cval_folds, \"/home/marco/data/ostia_final.xlsx\")\n",
    "\n",
    "scaled_HU_bounds = scaler(np.array(desired_HU_bounds))\n",
    "print(scaled_HU_bounds)\n",
    "\n",
    "val_batch_size = 2\n",
    "train_loaders, val_loaders = create_dataloaders(\n",
    "    train_folds[fold_idx],\n",
    "    val_folds[fold_idx],\n",
    "    train_patch_size,\n",
    "    val_patch_size,\n",
    "    train_batch_size,\n",
    "    val_batch_size,\n",
    "    rng,\n",
    "    scaler,\n",
    "    train_transform=train_transform,\n",
    ")"
   ]
  },
  {
   "cell_type": "code",
   "execution_count": null,
   "metadata": {},
   "outputs": [],
   "source": [
    "from matplotlib import pyplot as plt\n",
    "\n",
    "from contrast_gan_3D.alias import ScanType\n",
    "from contrast_gan_3D.data.HD5Scan import HD5Scan\n",
    "\n",
    "centerlines_pixels = {k: np.array([]) for k in ScanType}\n",
    "for sc in centerlines_pixels:\n",
    "    print(sc)\n",
    "    arr = centerlines_pixels[sc]\n",
    "    val_load = val_loaders[sc.value]\n",
    "    for p in val_load.generator._data:\n",
    "        print(p)\n",
    "        with HD5Scan(p) as scan:\n",
    "            arr = np.append(arr, scan.ccta[scan.labelmap[::].astype(bool)])\n",
    "    centerlines_pixels[sc] = arr\n",
    "\n",
    "\n",
    "[len(c) for c in centerlines_pixels.values()]"
   ]
  },
  {
   "cell_type": "code",
   "execution_count": null,
   "metadata": {},
   "outputs": [],
   "source": [
    "fig, ax = plt.subplots()\n",
    "\n",
    "for sc, v in centerlines_pixels.items():\n",
    "    ax.hist(v, bins=80, alpha=0.5, density=True, label=sc.name)\n",
    "fig.legend()\n",
    "fig.suptitle(\"Arteries centerlines HU distribution\")\n",
    "fig.tight_layout()\n",
    "plt.show()\n",
    "plt.close(fig)"
   ]
  },
  {
   "cell_type": "code",
   "execution_count": null,
   "metadata": {},
   "outputs": [],
   "source": [
    "from pathlib import Path\n",
    "from typing import List\n",
    "\n",
    "\n",
    "# NOTE need some form of patch aggregation\n",
    "def compute_histograms(paths: List[Path]):\n",
    "    ...\n",
    "\n",
    "def plot_histograms():\n",
    "    ..."
   ]
  },
  {
   "cell_type": "code",
   "execution_count": null,
   "metadata": {},
   "outputs": [],
   "source": [
    "from contrast_gan_3D.trainer.logger.LoggerInterface import SingleThreadedLogger\n",
    "\n",
    "logger_interface = SingleThreadedLogger(logger_interface.logger)\n",
    "\n",
    "device = set_GPU(3)\n",
    "\n",
    "trainer = Trainer(\n",
    "    train_iterations,\n",
    "    val_iterations,\n",
    "    validate_every,\n",
    "    train_generator_every,\n",
    "    log_every,\n",
    "    log_images_every,\n",
    "    generator_class,\n",
    "    critic_class,\n",
    "    generator_optim_class,\n",
    "    critic_optim_class,\n",
    "    HULoss(*scaled_HU_bounds, (val_batch_size, 1, *val_patch_size)),\n",
    "    # HULoss(*scaled_HU_bounds, (train_batch_size * 2, 1, *train_patch_size)),\n",
    "    logger_interface,\n",
    "    CHECKPOINTS_DIR / f\"{run_id}.pt\",\n",
    "    weight_clip=weight_clip,\n",
    "    generator_lr_scheduler_class=generator_lr_scheduler_class,\n",
    "    critic_lr_scheduler_class=critic_lr_scheduler_class,\n",
    "    device=device,\n",
    "    checkpoint_every=checkpoint_every,\n",
    ")\n",
    "# trainer.load_checkpoint(\n",
    "#     # \"/home/marco/contrast-gan-3D/logs/model_checkpoints/9hnh7gto.pt\"\n",
    "#     \"/home/marco/contrast-gan-3D/logs/model_checkpoints/07qiygyk.pt\"\n",
    "# )"
   ]
  },
  {
   "cell_type": "code",
   "execution_count": null,
   "metadata": {},
   "outputs": [],
   "source": [
    "from contrast_gan_3D.model import utils as model_utils\n",
    "\n",
    "print(model_utils.count_parameters(trainer.critic))\n",
    "print(model_utils.count_parameters(trainer.generator))"
   ]
  },
  {
   "cell_type": "code",
   "execution_count": null,
   "metadata": {},
   "outputs": [],
   "source": [
    "print(trainer.critic)\n",
    "print(\"-----------\")\n",
    "print(trainer.generator)"
   ]
  },
  {
   "cell_type": "code",
   "execution_count": null,
   "metadata": {},
   "outputs": [],
   "source": [
    "patches = [next(train_loaders[scan_type.value]) for scan_type in ScanType]\n",
    "opt, low, high = patches\n",
    "opt = opt[\"data\"].to(trainer.device, non_blocking=True)\n",
    "subopt = torch.cat([low[\"data\"], high[\"data\"]])\n",
    "subopt = subopt.to(trainer.device, non_blocking=True)"
   ]
  },
  {
   "cell_type": "code",
   "execution_count": null,
   "metadata": {},
   "outputs": [],
   "source": [
    "model_utils.print_convolution_filters_shape(trainer.critic, opt.shape[1:])\n",
    "print(\"----\")\n",
    "model_utils.print_convolution_filters_shape(trainer.generator, opt.shape[1:])"
   ]
  },
  {
   "cell_type": "code",
   "execution_count": null,
   "metadata": {},
   "outputs": [],
   "source": [
    "from torch import nn\n",
    "\n",
    "# idea of 1D convolution: bottleneck!\n",
    "inp_shape = (256, 128, 128, 128)\n",
    "model_utils.print_convolution_filters_shape(nn.Conv3d(256, 64, 1, 1, 0), inp_shape)\n",
    "model_utils.print_convolution_filters_shape(nn.Conv3d(64, 64, 3, 1, 1), inp_shape)\n",
    "model_utils.print_convolution_filters_shape(nn.Conv3d(64, 256, 1, 1, 0), inp_shape)\n",
    "print('------')\n",
    "model_utils.print_convolution_filters_shape(nn.Conv3d(256, 256, 3, 1, 1), inp_shape)"
   ]
  },
  {
   "cell_type": "code",
   "execution_count": null,
   "metadata": {},
   "outputs": [],
   "source": [
    "attenuations = trainer.generator(subopt)\n",
    "recon = subopt - attenuations\n",
    "\n",
    "print(attenuations[1].min(), attenuations[1].max())\n",
    "\n",
    "D_real  = trainer.critic(opt)\n",
    "D_fake = trainer.critic(recon.detach())"
   ]
  },
  {
   "cell_type": "code",
   "execution_count": null,
   "metadata": {},
   "outputs": [],
   "source": [
    "from torchviz import make_dot\n",
    "\n",
    "from contrast_gan_3D.model.utils import wgan_gradient_penalty\n",
    "\n",
    "loss_D = trainer.loss_GAN(D_fake, D_real)\n",
    "gp = wgan_gradient_penalty(\n",
    "    opt.repeat((2,) + (1,) * len(opt.shape[1:])),\n",
    "    recon,\n",
    "    trainer.critic,\n",
    "    trainer.device,\n",
    ")\n",
    "if False:\n",
    "    loss_D += gp\n",
    "\n",
    "\n",
    "# loss_D.backward()\n",
    "\n",
    "loss_G = -trainer.loss_GAN(trainer.critic(recon))\n",
    "# loss_G.backward()"
   ]
  },
  {
   "cell_type": "code",
   "execution_count": null,
   "metadata": {},
   "outputs": [],
   "source": [
    "make_dot(gp)"
   ]
  },
  {
   "cell_type": "code",
   "execution_count": null,
   "metadata": {},
   "outputs": [],
   "source": [
    "# trainer.logger_interface([sample], [recon], [attenuations], 0, \"train\")"
   ]
  },
  {
   "cell_type": "code",
   "execution_count": null,
   "metadata": {},
   "outputs": [],
   "source": [
    "# EXAMPLE TO CREATE SITK IMAGES TO IMPORT INTO ITK-SNAP\n",
    "from pathlib import Path\n",
    "\n",
    "from contrast_gan_3D.data.HD5Scan import HD5Scan\n",
    "from contrast_gan_3D.utils import io_utils\n",
    "\n",
    "test_folder = Path(\"/home/marco/data/after_preproc\")\n",
    "test_folder.mkdir(exist_ok=True)\n",
    "\n",
    "p = Path(\"/home/marco/data/MMWHS/ct_test/ct_test_2035_image.h5\")\n",
    "print(p)\n",
    "\n",
    "if False:\n",
    "    with HD5Scan(p) as scan:\n",
    "        pprint(scan.meta)\n",
    "        print(scan.ccta.shape)\n",
    "\n",
    "        # HWD -> DHW (xyz->zyx, numpy to sitk convention)\n",
    "        ccta = scan.ccta[::].transpose(2, 0, 1)\n",
    "        io_utils.to_itksnap_volume(\n",
    "            ccta,\n",
    "            scan.meta[\"offset\"],\n",
    "            scan.meta[\"spacing\"],\n",
    "            test_folder / f\"{p.stem}.mhd\",\n",
    "        )"
   ]
  }
 ],
 "metadata": {
  "kernelspec": {
   "display_name": "Python 3",
   "language": "python",
   "name": "python3"
  },
  "language_info": {
   "codemirror_mode": {
    "name": "ipython",
    "version": 3
   },
   "file_extension": ".py",
   "mimetype": "text/x-python",
   "name": "python",
   "nbconvert_exporter": "python",
   "pygments_lexer": "ipython3",
   "version": "3.11.7"
  }
 },
 "nbformat": 4,
 "nbformat_minor": 2
}
