{
 "cells": [
  {
   "cell_type": "code",
   "execution_count": 1,
   "metadata": {},
   "outputs": [
    {
     "name": "stdout",
     "output_type": "stream",
     "text": [
      "/home/marco/contrast-gan-3D\n"
     ]
    }
   ],
   "source": [
    "%cd .."
   ]
  },
  {
   "cell_type": "code",
   "execution_count": 2,
   "metadata": {},
   "outputs": [],
   "source": [
    "import os\n",
    "\n",
    "# https://discuss.pytorch.org/t/gpu-device-ordering/60785/2\n",
    "os.environ[\"CUDA_DEVICE_ORDER\"] = \"PCI_BUS_ID\"\n",
    "\n",
    "\n",
    "import numpy as np\n",
    "import torch\n",
    "\n",
    "from contrast_gan_3D.alias import ScanType\n",
    "from contrast_gan_3D.config import CHECKPOINTS_DIR\n",
    "\n",
    "from contrast_gan_3D.experiments.test_conf import *\n",
    "# from contrast_gan_3D.experiments.gradient_penalty_conf import *\n",
    "from contrast_gan_3D.model.loss import HULoss\n",
    "from contrast_gan_3D.trainer.Trainer import Trainer\n",
    "from contrast_gan_3D.trainer.utils import create_dataloaders, cval_paths\n",
    "from contrast_gan_3D.utils import set_GPU"
   ]
  },
  {
   "cell_type": "code",
   "execution_count": 3,
   "metadata": {},
   "outputs": [
    {
     "name": "stdout",
     "output_type": "stream",
     "text": [
      "[0.18666667 0.35333333]\n"
     ]
    }
   ],
   "source": [
    "profiler_dir = None\n",
    "run_id = \"pippo\"\n",
    "fold_idx = 0\n",
    "\n",
    "train_folds, val_folds = cval_paths(cval_folds, \"/home/marco/data/ostia_final.xlsx\")\n",
    "\n",
    "scaled_HU_bounds = scaler(np.array(desired_HU_bounds))\n",
    "print(scaled_HU_bounds)\n",
    "\n",
    "val_batch_size = 2\n",
    "train_loaders, val_loaders = create_dataloaders(\n",
    "    train_folds[fold_idx],\n",
    "    val_folds[fold_idx],\n",
    "    train_patch_size,\n",
    "    val_patch_size,\n",
    "    train_batch_size,\n",
    "    val_batch_size,\n",
    "    scaler=scaler,\n",
    "    train_transform=train_transform,\n",
    ")"
   ]
  },
  {
   "cell_type": "code",
   "execution_count": 4,
   "metadata": {},
   "outputs": [
    {
     "name": "stdout",
     "output_type": "stream",
     "text": [
      "[2024-04-12 13:47:37,522: INFO] Using device: cuda:3 (contrast_gan_3D.trainer.Trainer:65)\n",
      "[2024-04-12 13:47:37,617: INFO] Starting from iteration 0 (contrast_gan_3D.trainer.Trainer:321)\n"
     ]
    }
   ],
   "source": [
    "from contrast_gan_3D.trainer.logger.LoggerInterface import SingleThreadedLogger\n",
    "\n",
    "logger_interface = SingleThreadedLogger(logger_interface.logger)\n",
    "\n",
    "device = set_GPU(3)\n",
    "\n",
    "trainer = Trainer(\n",
    "    train_iterations,\n",
    "    val_iterations,\n",
    "    validate_every,\n",
    "    train_generator_every,\n",
    "    log_every,\n",
    "    log_images_every,\n",
    "    generator_class,\n",
    "    critic_class,\n",
    "    generator_optim_class,\n",
    "    critic_optim_class,\n",
    "    HULoss(*scaled_HU_bounds, (val_batch_size, 1, *val_patch_size)),\n",
    "    # HULoss(*scaled_HU_bounds, (train_batch_size * 2, 1, *train_patch_size)),\n",
    "    logger_interface,\n",
    "    CHECKPOINTS_DIR / f\"{run_id}.pt\",\n",
    "    weight_clip=weight_clip,\n",
    "    generator_lr_scheduler_class=generator_lr_scheduler_class,\n",
    "    critic_lr_scheduler_class=critic_lr_scheduler_class,\n",
    "    device=device,\n",
    "    checkpoint_every=checkpoint_every,\n",
    ")\n",
    "# trainer.load_checkpoint(\n",
    "#     # \"/home/marco/contrast-gan-3D/logs/model_checkpoints/9hnh7gto.pt\"\n",
    "#     \"/home/marco/contrast-gan-3D/logs/model_checkpoints/07qiygyk.pt\"\n",
    "# )"
   ]
  },
  {
   "cell_type": "code",
   "execution_count": 5,
   "metadata": {},
   "outputs": [
    {
     "name": "stdout",
     "output_type": "stream",
     "text": [
      "697809\n",
      "1035297\n"
     ]
    }
   ],
   "source": [
    "from contrast_gan_3D.model import utils as model_utils\n",
    "\n",
    "print(model_utils.count_parameters(trainer.critic))\n",
    "print(model_utils.count_parameters(trainer.generator))"
   ]
  },
  {
   "cell_type": "code",
   "execution_count": 6,
   "metadata": {},
   "outputs": [
    {
     "name": "stdout",
     "output_type": "stream",
     "text": [
      "PatchGANDiscriminator(\n",
      "  (model): Sequential(\n",
      "    (first): ConvBlock3D(\n",
      "      (conv): Conv3d(1, 16, kernel_size=(4, 4, 4), stride=(2, 2, 2), padding=(1, 1, 1))\n",
      "      (normalization): Identity()\n",
      "      (activation_fn): LeakyReLU(negative_slope=0.2, inplace=True)\n",
      "    )\n",
      "    (middle): Sequential(\n",
      "      (0): ConvBlock3D(\n",
      "        (conv): Conv3d(16, 32, kernel_size=(4, 4, 4), stride=(2, 2, 2), padding=(1, 1, 1), bias=False)\n",
      "        (normalization): BatchNorm3d(32, eps=1e-05, momentum=0.1, affine=True, track_running_stats=True)\n",
      "        (activation_fn): LeakyReLU(negative_slope=0.2, inplace=True)\n",
      "      )\n",
      "      (1): ConvBlock3D(\n",
      "        (conv): Conv3d(32, 64, kernel_size=(4, 4, 4), stride=(2, 2, 2), padding=(1, 1, 1), bias=False)\n",
      "        (normalization): BatchNorm3d(64, eps=1e-05, momentum=0.1, affine=True, track_running_stats=True)\n",
      "        (activation_fn): LeakyReLU(negative_slope=0.2, inplace=True)\n",
      "      )\n",
      "      (2): ConvBlock3D(\n",
      "        (conv): Conv3d(64, 128, kernel_size=(4, 4, 4), stride=(2, 2, 2), padding=(1, 1, 1), bias=False)\n",
      "        (normalization): BatchNorm3d(128, eps=1e-05, momentum=0.1, affine=True, track_running_stats=True)\n",
      "        (activation_fn): LeakyReLU(negative_slope=0.2, inplace=True)\n",
      "      )\n",
      "    )\n",
      "    (last): Conv3d(128, 1, kernel_size=(4, 4, 4), stride=(1, 1, 1), padding=(1, 1, 1))\n",
      "  )\n",
      ")\n",
      "-----------\n",
      "ResnetGenerator(\n",
      "  (model): Sequential(\n",
      "    (first): ConvBlock3D(\n",
      "      (conv): Conv3d(1, 16, kernel_size=(7, 7, 7), stride=(1, 1, 1), padding=(3, 3, 3), bias=False, padding_mode=reflect)\n",
      "      (normalization): BatchNorm3d(16, eps=1e-05, momentum=0.1, affine=True, track_running_stats=True)\n",
      "      (activation_fn): ReLU(inplace=True)\n",
      "    )\n",
      "    (downsampling): Sequential(\n",
      "      (0): ConvBlock3D(\n",
      "        (conv): Conv3d(16, 32, kernel_size=(3, 3, 3), stride=(2, 2, 2), padding=(1, 1, 1), bias=False)\n",
      "        (normalization): BatchNorm3d(32, eps=1e-05, momentum=0.1, affine=True, track_running_stats=True)\n",
      "        (activation_fn): ReLU(inplace=True)\n",
      "      )\n",
      "      (1): ConvBlock3D(\n",
      "        (conv): Conv3d(32, 64, kernel_size=(3, 3, 3), stride=(2, 2, 2), padding=(1, 1, 1), bias=False)\n",
      "        (normalization): BatchNorm3d(64, eps=1e-05, momentum=0.1, affine=True, track_running_stats=True)\n",
      "        (activation_fn): ReLU(inplace=True)\n",
      "      )\n",
      "    )\n",
      "    (resnet_backbone): Sequential(\n",
      "      (0): ResNetBlock3D(\n",
      "        (block0): ConvBlock3D(\n",
      "          (conv): Conv3d(64, 64, kernel_size=(3, 3, 3), stride=(1, 1, 1), padding=(1, 1, 1), bias=False)\n",
      "          (normalization): BatchNorm3d(64, eps=1e-05, momentum=0.1, affine=True, track_running_stats=True)\n",
      "          (activation_fn): Identity()\n",
      "        )\n",
      "        (dropout): Identity()\n",
      "        (block1): ConvBlock3D(\n",
      "          (conv): Conv3d(64, 64, kernel_size=(3, 3, 3), stride=(1, 1, 1), padding=(1, 1, 1), bias=False)\n",
      "          (normalization): BatchNorm3d(64, eps=1e-05, momentum=0.1, affine=True, track_running_stats=True)\n",
      "          (activation_fn): ReLU(inplace=True)\n",
      "        )\n",
      "      )\n",
      "      (1): ResNetBlock3D(\n",
      "        (block0): ConvBlock3D(\n",
      "          (conv): Conv3d(64, 64, kernel_size=(3, 3, 3), stride=(1, 1, 1), padding=(1, 1, 1), bias=False)\n",
      "          (normalization): BatchNorm3d(64, eps=1e-05, momentum=0.1, affine=True, track_running_stats=True)\n",
      "          (activation_fn): Identity()\n",
      "        )\n",
      "        (dropout): Identity()\n",
      "        (block1): ConvBlock3D(\n",
      "          (conv): Conv3d(64, 64, kernel_size=(3, 3, 3), stride=(1, 1, 1), padding=(1, 1, 1), bias=False)\n",
      "          (normalization): BatchNorm3d(64, eps=1e-05, momentum=0.1, affine=True, track_running_stats=True)\n",
      "          (activation_fn): ReLU(inplace=True)\n",
      "        )\n",
      "      )\n",
      "      (2): ResNetBlock3D(\n",
      "        (block0): ConvBlock3D(\n",
      "          (conv): Conv3d(64, 64, kernel_size=(3, 3, 3), stride=(1, 1, 1), padding=(1, 1, 1), bias=False)\n",
      "          (normalization): BatchNorm3d(64, eps=1e-05, momentum=0.1, affine=True, track_running_stats=True)\n",
      "          (activation_fn): Identity()\n",
      "        )\n",
      "        (dropout): Identity()\n",
      "        (block1): ConvBlock3D(\n",
      "          (conv): Conv3d(64, 64, kernel_size=(3, 3, 3), stride=(1, 1, 1), padding=(1, 1, 1), bias=False)\n",
      "          (normalization): BatchNorm3d(64, eps=1e-05, momentum=0.1, affine=True, track_running_stats=True)\n",
      "          (activation_fn): ReLU(inplace=True)\n",
      "        )\n",
      "      )\n",
      "      (3): ResNetBlock3D(\n",
      "        (block0): ConvBlock3D(\n",
      "          (conv): Conv3d(64, 64, kernel_size=(3, 3, 3), stride=(1, 1, 1), padding=(1, 1, 1), bias=False)\n",
      "          (normalization): BatchNorm3d(64, eps=1e-05, momentum=0.1, affine=True, track_running_stats=True)\n",
      "          (activation_fn): Identity()\n",
      "        )\n",
      "        (dropout): Identity()\n",
      "        (block1): ConvBlock3D(\n",
      "          (conv): Conv3d(64, 64, kernel_size=(3, 3, 3), stride=(1, 1, 1), padding=(1, 1, 1), bias=False)\n",
      "          (normalization): BatchNorm3d(64, eps=1e-05, momentum=0.1, affine=True, track_running_stats=True)\n",
      "          (activation_fn): ReLU(inplace=True)\n",
      "        )\n",
      "      )\n",
      "    )\n",
      "    (upsampling): Sequential(\n",
      "      (0): ConvBlock3D(\n",
      "        (conv): ConvTranspose3d(64, 32, kernel_size=(3, 3, 3), stride=(2, 2, 2), padding=(1, 1, 1), output_padding=(1, 1, 1), bias=False)\n",
      "        (normalization): BatchNorm3d(32, eps=1e-05, momentum=0.1, affine=True, track_running_stats=True)\n",
      "        (activation_fn): ReLU(inplace=True)\n",
      "      )\n",
      "      (1): ConvBlock3D(\n",
      "        (conv): ConvTranspose3d(32, 16, kernel_size=(3, 3, 3), stride=(2, 2, 2), padding=(1, 1, 1), output_padding=(1, 1, 1), bias=False)\n",
      "        (normalization): BatchNorm3d(16, eps=1e-05, momentum=0.1, affine=True, track_running_stats=True)\n",
      "        (activation_fn): ReLU(inplace=True)\n",
      "      )\n",
      "    )\n",
      "    (last_conv): Conv3d(16, 1, kernel_size=(7, 7, 7), stride=(1, 1, 1), padding=(3, 3, 3), padding_mode=reflect)\n",
      "    (tanh): Tanh()\n",
      "  )\n",
      ")\n"
     ]
    }
   ],
   "source": [
    "print(trainer.critic)\n",
    "print(\"-----------\")\n",
    "print(trainer.generator)"
   ]
  },
  {
   "cell_type": "code",
   "execution_count": 7,
   "metadata": {},
   "outputs": [
    {
     "name": "stdout",
     "output_type": "stream",
     "text": [
      "using pin_memory on device 3\n",
      "using pin_memory on device 3\n",
      "using pin_memory on device 3\n"
     ]
    }
   ],
   "source": [
    "patches = [next(train_loaders[scan_type.value]) for scan_type in ScanType]\n",
    "opt, low, high = patches\n",
    "opt = opt[\"data\"].to(trainer.device, non_blocking=True)\n",
    "subopt = torch.cat([low[\"data\"], high[\"data\"]])\n",
    "subopt = subopt.to(trainer.device, non_blocking=True)"
   ]
  },
  {
   "cell_type": "code",
   "execution_count": 8,
   "metadata": {},
   "outputs": [
    {
     "name": "stdout",
     "output_type": "stream",
     "text": [
      "Input shape: [1, 128, 128, 128]\n",
      "model.first.conv                         -> [16, 64, 64, 64]       # params: 1040       weight: [16, 1, 4, 4, 4]     bias: [16]\n",
      "model.middle.0.conv                      -> [32, 32, 32, 32]       # params: 32768      weight: [32, 16, 4, 4, 4]   \n",
      "model.middle.1.conv                      -> [64, 16, 16, 16]       # params: 131072     weight: [64, 32, 4, 4, 4]   \n",
      "model.middle.2.conv                      -> [128, 8, 8, 8]         # params: 524288     weight: [128, 64, 4, 4, 4]  \n",
      "model.last                               -> [1, 7, 7, 7]           # params: 8193       weight: [1, 128, 4, 4, 4]    bias: [1]\n",
      "----\n",
      "Input shape: [1, 128, 128, 128]\n",
      "model.first.conv                         -> [16, 128, 128, 128]    # params: 5488       weight: [16, 1, 7, 7, 7]    \n",
      "model.downsampling.0.conv                -> [32, 64, 64, 64]       # params: 13824      weight: [32, 16, 3, 3, 3]   \n",
      "model.downsampling.1.conv                -> [64, 32, 32, 32]       # params: 55296      weight: [64, 32, 3, 3, 3]   \n",
      "model.resnet_backbone.0.block0.conv      -> [64, 32, 32, 32]       # params: 110592     weight: [64, 64, 3, 3, 3]   \n",
      "model.resnet_backbone.0.block1.conv      -> [64, 32, 32, 32]       # params: 110592     weight: [64, 64, 3, 3, 3]   \n",
      "model.resnet_backbone.1.block0.conv      -> [64, 32, 32, 32]       # params: 110592     weight: [64, 64, 3, 3, 3]   \n",
      "model.resnet_backbone.1.block1.conv      -> [64, 32, 32, 32]       # params: 110592     weight: [64, 64, 3, 3, 3]   \n",
      "model.resnet_backbone.2.block0.conv      -> [64, 32, 32, 32]       # params: 110592     weight: [64, 64, 3, 3, 3]   \n",
      "model.resnet_backbone.2.block1.conv      -> [64, 32, 32, 32]       # params: 110592     weight: [64, 64, 3, 3, 3]   \n",
      "model.resnet_backbone.3.block0.conv      -> [64, 32, 32, 32]       # params: 110592     weight: [64, 64, 3, 3, 3]   \n",
      "model.resnet_backbone.3.block1.conv      -> [64, 32, 32, 32]       # params: 110592     weight: [64, 64, 3, 3, 3]   \n",
      "model.upsampling.0.conv                  -> [32, 64, 64, 64]       # params: 55296      weight: [64, 32, 3, 3, 3]   \n",
      "model.upsampling.1.conv                  -> [16, 128, 128, 128]    # params: 13824      weight: [32, 16, 3, 3, 3]   \n",
      "model.last_conv                          -> [1, 128, 128, 128]     # params: 5489       weight: [1, 16, 7, 7, 7]     bias: [1]\n"
     ]
    }
   ],
   "source": [
    "model_utils.print_convolution_filters_shape(trainer.critic, opt.shape[1:])\n",
    "print(\"----\")\n",
    "model_utils.print_convolution_filters_shape(trainer.generator, opt.shape[1:])"
   ]
  },
  {
   "cell_type": "code",
   "execution_count": 14,
   "metadata": {},
   "outputs": [
    {
     "name": "stdout",
     "output_type": "stream",
     "text": [
      "Input shape: [256, 128, 128, 128]\n",
      "                                         -> [64, 128, 128, 128]    # params: 16448      weight: [64, 256, 1, 1, 1]   bias: [64]\n",
      "Input shape: [256, 128, 128, 128]\n",
      "                                         -> [64, 128, 128, 128]    # params: 110656     weight: [64, 64, 3, 3, 3]    bias: [64]\n",
      "Input shape: [256, 128, 128, 128]\n",
      "                                         -> [256, 128, 128, 128]   # params: 16640      weight: [256, 64, 1, 1, 1]   bias: [256]\n",
      "------\n",
      "Input shape: [256, 128, 128, 128]\n",
      "                                         -> [256, 128, 128, 128]   # params: 1769728    weight: [256, 256, 3, 3, 3]  bias: [256]\n"
     ]
    }
   ],
   "source": [
    "from torch import nn\n",
    "\n",
    "# idea of 1D convolution: bottleneck!\n",
    "inp_shape = (256, 128, 128, 128)\n",
    "model_utils.print_convolution_filters_shape(nn.Conv3d(256, 64, 1, 1, 0), inp_shape)\n",
    "model_utils.print_convolution_filters_shape(nn.Conv3d(64, 64, 3, 1, 1), inp_shape)\n",
    "model_utils.print_convolution_filters_shape(nn.Conv3d(64, 256, 1, 1, 0), inp_shape)\n",
    "print('------')\n",
    "model_utils.print_convolution_filters_shape(nn.Conv3d(256, 256, 3, 1, 1), inp_shape)"
   ]
  },
  {
   "cell_type": "code",
   "execution_count": 22,
   "metadata": {},
   "outputs": [
    {
     "name": "stdout",
     "output_type": "stream",
     "text": [
      "tensor(-0.9999, device='cuda:3', grad_fn=<MinBackward1>) tensor(0.9673, device='cuda:3', grad_fn=<MaxBackward1>)\n"
     ]
    }
   ],
   "source": [
    "attenuations = trainer.generator(subopt)\n",
    "recon = subopt - attenuations\n",
    "\n",
    "print(attenuations[1].min(), attenuations[1].max())\n",
    "\n",
    "D_real  = trainer.critic(opt)\n",
    "D_fake = trainer.critic(recon.detach())"
   ]
  },
  {
   "cell_type": "code",
   "execution_count": null,
   "metadata": {},
   "outputs": [],
   "source": [
    "from torchviz import make_dot\n",
    "\n",
    "from contrast_gan_3D.model.utils import wgan_gradient_penalty\n",
    "\n",
    "loss_D = trainer.loss_GAN(D_fake, D_real)\n",
    "gp = wgan_gradient_penalty(\n",
    "    opt.repeat((2,) + (1,) * len(opt.shape[1:])),\n",
    "    recon,\n",
    "    trainer.critic,\n",
    "    trainer.device,\n",
    ")\n",
    "if False:\n",
    "    loss_D += gp\n",
    "\n",
    "\n",
    "# loss_D.backward()\n",
    "\n",
    "loss_G = -trainer.loss_GAN(trainer.critic(recon))\n",
    "# loss_G.backward()"
   ]
  },
  {
   "cell_type": "code",
   "execution_count": null,
   "metadata": {},
   "outputs": [],
   "source": [
    "make_dot(gp)"
   ]
  },
  {
   "cell_type": "code",
   "execution_count": null,
   "metadata": {},
   "outputs": [],
   "source": [
    "# trainer.logger_interface([sample], [recon], [attenuations], 0, \"train\")"
   ]
  },
  {
   "cell_type": "code",
   "execution_count": null,
   "metadata": {},
   "outputs": [],
   "source": [
    "# EXAMPLE TO CREATE SITK IMAGES TO IMPORT INTO ITK-SNAP\n",
    "from pathlib import Path\n",
    "\n",
    "from contrast_gan_3D.data.HD5Scan import HD5Scan\n",
    "from contrast_gan_3D.utils import io_utils\n",
    "\n",
    "test_folder = Path(\"/home/marco/data/after_preproc\")\n",
    "test_folder.mkdir(exist_ok=True)\n",
    "\n",
    "p = Path(\"/home/marco/data/MMWHS/ct_test/ct_test_2035_image.h5\")\n",
    "print(p)\n",
    "\n",
    "if False:\n",
    "    with HD5Scan(p) as scan:\n",
    "        pprint(scan.meta)\n",
    "        print(scan.ccta.shape)\n",
    "\n",
    "        # HWD -> DHW (xyz->zyx, numpy to sitk convention)\n",
    "        ccta = scan.ccta[::].transpose(2, 0, 1)\n",
    "        io_utils.to_itksnap_volume(\n",
    "            ccta,\n",
    "            scan.meta[\"offset\"],\n",
    "            scan.meta[\"spacing\"],\n",
    "            test_folder / f\"{p.stem}.mhd\",\n",
    "        )"
   ]
  }
 ],
 "metadata": {
  "kernelspec": {
   "display_name": "Python 3",
   "language": "python",
   "name": "python3"
  },
  "language_info": {
   "codemirror_mode": {
    "name": "ipython",
    "version": 3
   },
   "file_extension": ".py",
   "mimetype": "text/x-python",
   "name": "python",
   "nbconvert_exporter": "python",
   "pygments_lexer": "ipython3",
   "version": "3.11.7"
  }
 },
 "nbformat": 4,
 "nbformat_minor": 2
}
