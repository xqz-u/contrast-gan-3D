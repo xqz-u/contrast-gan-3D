{
 "cells": [
  {
   "cell_type": "code",
   "execution_count": 1,
   "metadata": {},
   "outputs": [
    {
     "name": "stdout",
     "output_type": "stream",
     "text": [
      "/home/marco/contrast-gan-3D\n"
     ]
    }
   ],
   "source": [
    "%cd .."
   ]
  },
  {
   "cell_type": "code",
   "execution_count": 2,
   "metadata": {},
   "outputs": [],
   "source": [
    "import os\n",
    "\n",
    "# https://discuss.pytorch.org/t/gpu-device-ordering/60785/2\n",
    "os.environ[\"CUDA_DEVICE_ORDER\"] = \"PCI_BUS_ID\"\n",
    "\n",
    "\n",
    "import numpy as np\n",
    "import torch\n",
    "\n",
    "from contrast_gan_3D.alias import ScanType\n",
    "from contrast_gan_3D.config import CHECKPOINTS_DIR\n",
    "\n",
    "from contrast_gan_3D.experiments.gradient_penalty_conf import *\n",
    "from contrast_gan_3D.model.loss import HULoss\n",
    "from contrast_gan_3D.trainer.Trainer import Trainer\n",
    "from contrast_gan_3D.trainer.utils import create_dataloaders, cval_paths\n",
    "from contrast_gan_3D.utils import set_GPU"
   ]
  },
  {
   "cell_type": "code",
   "execution_count": 3,
   "metadata": {},
   "outputs": [
    {
     "name": "stdout",
     "output_type": "stream",
     "text": [
      "[0.18666667 0.35333333]\n"
     ]
    }
   ],
   "source": [
    "profiler_dir = None\n",
    "run_id = \"pippo\"\n",
    "fold_idx = 0\n",
    "\n",
    "train_folds, val_folds = cval_paths(cval_folds, \"/home/marco/data/ostia_final.xlsx\")\n",
    "\n",
    "scaled_HU_bounds = scaler(np.array(desired_HU_bounds))\n",
    "print(scaled_HU_bounds)\n",
    "\n",
    "val_batch_size = 2\n",
    "train_loaders, val_loaders = create_dataloaders(\n",
    "    train_folds[fold_idx],\n",
    "    val_folds[fold_idx],\n",
    "    train_patch_size,\n",
    "    val_patch_size,\n",
    "    train_batch_size,\n",
    "    val_batch_size,\n",
    "    scaler=scaler,\n",
    "    train_transform=train_transform,\n",
    ")"
   ]
  },
  {
   "cell_type": "code",
   "execution_count": 9,
   "metadata": {},
   "outputs": [
    {
     "data": {
      "text/html": [
       "wandb version 0.16.6 is available!  To upgrade, please run:\n",
       " $ pip install wandb --upgrade"
      ],
      "text/plain": [
       "<IPython.core.display.HTML object>"
      ]
     },
     "metadata": {},
     "output_type": "display_data"
    },
    {
     "data": {
      "text/html": [
       "Tracking run with wandb version 0.16.5"
      ],
      "text/plain": [
       "<IPython.core.display.HTML object>"
      ]
     },
     "metadata": {},
     "output_type": "display_data"
    },
    {
     "data": {
      "text/html": [
       "Run data is saved locally in <code>/home/marco/contrast-gan-3D/wandb/run-20240416_162928-iskcscpk</code>"
      ],
      "text/plain": [
       "<IPython.core.display.HTML object>"
      ]
     },
     "metadata": {},
     "output_type": "display_data"
    },
    {
     "data": {
      "text/html": [
       "Syncing run <strong><a href='https://wandb.ai/xqz-u/test_project/runs/iskcscpk/workspace' target=\"_blank\">dazzling-resonance-196</a></strong> to <a href='https://wandb.ai/xqz-u/test_project' target=\"_blank\">Weights & Biases</a> (<a href='https://wandb.me/run' target=\"_blank\">docs</a>)<br/>"
      ],
      "text/plain": [
       "<IPython.core.display.HTML object>"
      ]
     },
     "metadata": {},
     "output_type": "display_data"
    },
    {
     "data": {
      "text/html": [
       " View project at <a href='https://wandb.ai/xqz-u/test_project' target=\"_blank\">https://wandb.ai/xqz-u/test_project</a>"
      ],
      "text/plain": [
       "<IPython.core.display.HTML object>"
      ]
     },
     "metadata": {},
     "output_type": "display_data"
    },
    {
     "data": {
      "text/html": [
       " View run at <a href='https://wandb.ai/xqz-u/test_project/runs/iskcscpk/workspace' target=\"_blank\">https://wandb.ai/xqz-u/test_project/runs/iskcscpk/workspace</a>"
      ],
      "text/plain": [
       "<IPython.core.display.HTML object>"
      ]
     },
     "metadata": {},
     "output_type": "display_data"
    },
    {
     "data": {
      "application/vnd.jupyter.widget-view+json": {
       "model_id": "4bcb7eb62db848f982a26d6914ade08e",
       "version_major": 2,
       "version_minor": 0
      },
      "text/plain": [
       "VBox(children=(Label(value='0.024 MB of 0.024 MB uploaded\\r'), FloatProgress(value=1.0, max=1.0)))"
      ]
     },
     "metadata": {},
     "output_type": "display_data"
    },
    {
     "data": {
      "text/html": [
       " View run <strong style=\"color:#cdcd00\">dazzling-resonance-196</strong> at: <a href='https://wandb.ai/xqz-u/test_project/runs/iskcscpk/workspace' target=\"_blank\">https://wandb.ai/xqz-u/test_project/runs/iskcscpk/workspace</a><br/>Synced 5 W&B file(s), 0 media file(s), 0 artifact file(s) and 1 other file(s)"
      ],
      "text/plain": [
       "<IPython.core.display.HTML object>"
      ]
     },
     "metadata": {},
     "output_type": "display_data"
    },
    {
     "data": {
      "text/html": [
       "Find logs at: <code>./wandb/run-20240416_162928-iskcscpk/logs</code>"
      ],
      "text/plain": [
       "<IPython.core.display.HTML object>"
      ]
     },
     "metadata": {},
     "output_type": "display_data"
    }
   ],
   "source": [
    "import pprint\n",
    "\n",
    "import wandb\n",
    "\n",
    "with wandb.init(project='test_project', config={\"train_folds\": train_folds, \"val_folds\": val_folds}, resume=\"allow\") as run:\n",
    "    ..."
   ]
  },
  {
   "cell_type": "code",
   "execution_count": 10,
   "metadata": {},
   "outputs": [
    {
     "data": {
      "text/html": [
       "wandb version 0.16.6 is available!  To upgrade, please run:\n",
       " $ pip install wandb --upgrade"
      ],
      "text/plain": [
       "<IPython.core.display.HTML object>"
      ]
     },
     "metadata": {},
     "output_type": "display_data"
    },
    {
     "data": {
      "text/html": [
       "Tracking run with wandb version 0.16.5"
      ],
      "text/plain": [
       "<IPython.core.display.HTML object>"
      ]
     },
     "metadata": {},
     "output_type": "display_data"
    },
    {
     "data": {
      "text/html": [
       "Run data is saved locally in <code>/home/marco/contrast-gan-3D/wandb/run-20240416_163152-iskcscpk</code>"
      ],
      "text/plain": [
       "<IPython.core.display.HTML object>"
      ]
     },
     "metadata": {},
     "output_type": "display_data"
    },
    {
     "data": {
      "text/html": [
       "Resuming run <strong><a href='https://wandb.ai/xqz-u/test_project/runs/iskcscpk/workspace' target=\"_blank\">dazzling-resonance-196</a></strong> to <a href='https://wandb.ai/xqz-u/test_project' target=\"_blank\">Weights & Biases</a> (<a href='https://wandb.me/run' target=\"_blank\">docs</a>)<br/>"
      ],
      "text/plain": [
       "<IPython.core.display.HTML object>"
      ]
     },
     "metadata": {},
     "output_type": "display_data"
    },
    {
     "data": {
      "text/html": [
       " View project at <a href='https://wandb.ai/xqz-u/test_project' target=\"_blank\">https://wandb.ai/xqz-u/test_project</a>"
      ],
      "text/plain": [
       "<IPython.core.display.HTML object>"
      ]
     },
     "metadata": {},
     "output_type": "display_data"
    },
    {
     "data": {
      "text/html": [
       " View run at <a href='https://wandb.ai/xqz-u/test_project/runs/iskcscpk/workspace' target=\"_blank\">https://wandb.ai/xqz-u/test_project/runs/iskcscpk/workspace</a>"
      ],
      "text/plain": [
       "<IPython.core.display.HTML object>"
      ]
     },
     "metadata": {},
     "output_type": "display_data"
    },
    {
     "name": "stdout",
     "output_type": "stream",
     "text": [
      "{'val_folds': [[['/home/marco/data/ASOCA_Philips/images/ASOCA-001.h5', 0], ['/home/marco/data/ASOCA_Philips/images/ASOCA-004.h5', 1], ['/home/marco/data/ASOCA_Philips/images/ASOCA-017.h5', 1], ['/home/marco/data/ASOCA_Philips/images/ASOCA-023.h5', 1], ['/home/marco/data/ASOCA_Philips/images/ASOCA-030.h5', -1], ['/home/marco/data/ASOCA_Philips/images/ASOCA-033.h5', 0], ['/home/marco/data/ASOCA_Philips/images/ASOCA-038.h5', 0], ['/home/marco/data/ASOCA_Philips/images/ASOCA-040.h5', 1], ['/home/marco/data/ASOCA_Philips/images/ASOCA-041.h5', 1], ['/home/marco/data/ASOCA_Philips/images/ASOCA-050.h5', 1], ['/home/marco/data/ASOCA_Philips/images/ASOCA-053.h5', 0], ['/home/marco/data/ASOCA_Philips/images/ASOCA-055.h5', 0], ['/home/marco/data/MMWHS/ct_test/ct_test_2003_image.h5', -1], ['/home/marco/data/MMWHS/ct_test/ct_test_2006_image.h5', 0], ['/home/marco/data/MMWHS/ct_test/ct_test_2014_image.h5', 0], ['/home/marco/data/MMWHS/ct_test/ct_test_2018_image.h5', 0], ['/home/marco/data/MMWHS/ct_test/ct_test_2021_image.h5', 1], ['/home/marco/data/MMWHS/ct_test/ct_test_2023_image.h5', 1], ['/home/marco/data/MMWHS/ct_test/ct_test_2025_image.h5', 0], ['/home/marco/data/MMWHS/ct_test/ct_test_2037_image.h5', 0], ['/home/marco/data/MMWHS/ct_test/ct_test_2038_image.h5', 0], ['/home/marco/data/MMWHS/ct_train/ct_train_1006_image.h5', 0], ['/home/marco/data/MMWHS/ct_train/ct_train_1007_image.h5', 0], ['/home/marco/data/MMWHS/ct_train/ct_train_1015_image.h5', 0]], [['/home/marco/data/ASOCA_Philips/images/ASOCA-005.h5', 0], ['/home/marco/data/ASOCA_Philips/images/ASOCA-010.h5', 1], ['/home/marco/data/ASOCA_Philips/images/ASOCA-018.h5', 0], ['/home/marco/data/ASOCA_Philips/images/ASOCA-026.h5', 0], ['/home/marco/data/ASOCA_Philips/images/ASOCA-029.h5', -1], ['/home/marco/data/ASOCA_Philips/images/ASOCA-032.h5', 0], ['/home/marco/data/ASOCA_Philips/images/ASOCA-043.h5', 1], ['/home/marco/data/ASOCA_Philips/images/ASOCA-045.h5', 1], ['/home/marco/data/ASOCA_Philips/images/ASOCA-058.h5', 0], ['/home/marco/data/MMWHS/ct_test/ct_test_2005_image.h5', 0], ['/home/marco/data/MMWHS/ct_test/ct_test_2008_image.h5', 0], ['/home/marco/data/MMWHS/ct_test/ct_test_2009_image.h5', 0], ['/home/marco/data/MMWHS/ct_test/ct_test_2010_image.h5', 0], ['/home/marco/data/MMWHS/ct_test/ct_test_2011_image.h5', 0], ['/home/marco/data/MMWHS/ct_test/ct_test_2012_image.h5', 0], ['/home/marco/data/MMWHS/ct_test/ct_test_2013_image.h5', 1], ['/home/marco/data/MMWHS/ct_test/ct_test_2030_image.h5', 0], ['/home/marco/data/MMWHS/ct_test/ct_test_2033_image.h5', 1], ['/home/marco/data/MMWHS/ct_test/ct_test_2039_image.h5', 1], ['/home/marco/data/MMWHS/ct_test/ct_test_2040_image.h5', 0], ['/home/marco/data/MMWHS/ct_train/ct_train_1004_image.h5', 1], ['/home/marco/data/MMWHS/ct_train/ct_train_1005_image.h5', 0], ['/home/marco/data/MMWHS/ct_train/ct_train_1019_image.h5', -1], ['/home/marco/data/MMWHS/ct_train/ct_train_1020_image.h5', 1]], [['/home/marco/data/ASOCA_Philips/images/ASOCA-000.h5', 0], ['/home/marco/data/ASOCA_Philips/images/ASOCA-011.h5', 1], ['/home/marco/data/ASOCA_Philips/images/ASOCA-015.h5', 1], ['/home/marco/data/ASOCA_Philips/images/ASOCA-028.h5', 0], ['/home/marco/data/ASOCA_Philips/images/ASOCA-034.h5', -1], ['/home/marco/data/ASOCA_Philips/images/ASOCA-035.h5', 0], ['/home/marco/data/ASOCA_Philips/images/ASOCA-039.h5', 0], ['/home/marco/data/ASOCA_Philips/images/ASOCA-042.h5', 0], ['/home/marco/data/ASOCA_Philips/images/ASOCA-047.h5', -1], ['/home/marco/data/ASOCA_Philips/images/ASOCA-051.h5', 1], ['/home/marco/data/ASOCA_Philips/images/ASOCA-054.h5', 0], ['/home/marco/data/ASOCA_Philips/images/ASOCA-056.h5', 0], ['/home/marco/data/MMWHS/ct_test/ct_test_2002_image.h5', 1], ['/home/marco/data/MMWHS/ct_test/ct_test_2015_image.h5', 1], ['/home/marco/data/MMWHS/ct_test/ct_test_2016_image.h5', 1], ['/home/marco/data/MMWHS/ct_test/ct_test_2022_image.h5', 1], ['/home/marco/data/MMWHS/ct_test/ct_test_2026_image.h5', 0], ['/home/marco/data/MMWHS/ct_test/ct_test_2028_image.h5', 0], ['/home/marco/data/MMWHS/ct_test/ct_test_2031_image.h5', 0], ['/home/marco/data/MMWHS/ct_test/ct_test_2034_image.h5', 0], ['/home/marco/data/MMWHS/ct_test/ct_test_2035_image.h5', 0], ['/home/marco/data/MMWHS/ct_train/ct_train_1011_image.h5', 1], ['/home/marco/data/MMWHS/ct_train/ct_train_1012_image.h5', 0], ['/home/marco/data/MMWHS/ct_train/ct_train_1017_image.h5', 0]], [['/home/marco/data/ASOCA_Philips/images/ASOCA-002.h5', 1], ['/home/marco/data/ASOCA_Philips/images/ASOCA-006.h5', 1], ['/home/marco/data/ASOCA_Philips/images/ASOCA-007.h5', 0], ['/home/marco/data/ASOCA_Philips/images/ASOCA-009.h5', 0], ['/home/marco/data/ASOCA_Philips/images/ASOCA-016.h5', 1], ['/home/marco/data/ASOCA_Philips/images/ASOCA-019.h5', 0], ['/home/marco/data/ASOCA_Philips/images/ASOCA-021.h5', 0], ['/home/marco/data/ASOCA_Philips/images/ASOCA-022.h5', 0], ['/home/marco/data/ASOCA_Philips/images/ASOCA-036.h5', 1], ['/home/marco/data/ASOCA_Philips/images/ASOCA-044.h5', 1], ['/home/marco/data/ASOCA_Philips/images/ASOCA-046.h5', 1], ['/home/marco/data/ASOCA_Philips/images/ASOCA-048.h5', 1], ['/home/marco/data/ASOCA_Philips/images/ASOCA-057.h5', 0], ['/home/marco/data/ASOCA_Philips/images/ASOCA-059.h5', -1], ['/home/marco/data/MMWHS/ct_test/ct_test_2004_image.h5', 0], ['/home/marco/data/MMWHS/ct_test/ct_test_2017_image.h5', 0], ['/home/marco/data/MMWHS/ct_test/ct_test_2019_image.h5', -1], ['/home/marco/data/MMWHS/ct_test/ct_test_2029_image.h5', 0], ['/home/marco/data/MMWHS/ct_test/ct_test_2032_image.h5', 0], ['/home/marco/data/MMWHS/ct_train/ct_train_1002_image.h5', 1], ['/home/marco/data/MMWHS/ct_train/ct_train_1010_image.h5', 0], ['/home/marco/data/MMWHS/ct_train/ct_train_1014_image.h5', 0], ['/home/marco/data/MMWHS/ct_train/ct_train_1016_image.h5', 0], ['/home/marco/data/MMWHS/ct_train/ct_train_1018_image.h5', 1]], [['/home/marco/data/ASOCA_Philips/images/ASOCA-003.h5', 1], ['/home/marco/data/ASOCA_Philips/images/ASOCA-008.h5', 0], ['/home/marco/data/ASOCA_Philips/images/ASOCA-012.h5', 1], ['/home/marco/data/ASOCA_Philips/images/ASOCA-013.h5', 1], ['/home/marco/data/ASOCA_Philips/images/ASOCA-014.h5', 0], ['/home/marco/data/ASOCA_Philips/images/ASOCA-020.h5', 0], ['/home/marco/data/ASOCA_Philips/images/ASOCA-024.h5', 0], ['/home/marco/data/ASOCA_Philips/images/ASOCA-025.h5', 0], ['/home/marco/data/ASOCA_Philips/images/ASOCA-027.h5', 0], ['/home/marco/data/ASOCA_Philips/images/ASOCA-031.h5', 0], ['/home/marco/data/ASOCA_Philips/images/ASOCA-037.h5', 0], ['/home/marco/data/ASOCA_Philips/images/ASOCA-049.h5', 1], ['/home/marco/data/ASOCA_Philips/images/ASOCA-052.h5', -1], ['/home/marco/data/MMWHS/ct_test/ct_test_2001_image.h5', 0], ['/home/marco/data/MMWHS/ct_test/ct_test_2007_image.h5', 1], ['/home/marco/data/MMWHS/ct_test/ct_test_2020_image.h5', 0], ['/home/marco/data/MMWHS/ct_test/ct_test_2024_image.h5', -1], ['/home/marco/data/MMWHS/ct_test/ct_test_2027_image.h5', 1], ['/home/marco/data/MMWHS/ct_test/ct_test_2036_image.h5', 1], ['/home/marco/data/MMWHS/ct_train/ct_train_1001_image.h5', 1], ['/home/marco/data/MMWHS/ct_train/ct_train_1003_image.h5', 0], ['/home/marco/data/MMWHS/ct_train/ct_train_1008_image.h5', 1], ['/home/marco/data/MMWHS/ct_train/ct_train_1009_image.h5', 0], ['/home/marco/data/MMWHS/ct_train/ct_train_1013_image.h5', 0]]], 'train_folds': [[['/home/marco/data/ASOCA_Philips/images/ASOCA-000.h5', 0], ['/home/marco/data/ASOCA_Philips/images/ASOCA-002.h5', 1], ['/home/marco/data/ASOCA_Philips/images/ASOCA-003.h5', 1], ['/home/marco/data/ASOCA_Philips/images/ASOCA-005.h5', 0], ['/home/marco/data/ASOCA_Philips/images/ASOCA-006.h5', 1], ['/home/marco/data/ASOCA_Philips/images/ASOCA-007.h5', 0], ['/home/marco/data/ASOCA_Philips/images/ASOCA-008.h5', 0], ['/home/marco/data/ASOCA_Philips/images/ASOCA-009.h5', 0], ['/home/marco/data/ASOCA_Philips/images/ASOCA-010.h5', 1], ['/home/marco/data/ASOCA_Philips/images/ASOCA-011.h5', 1], ['/home/marco/data/ASOCA_Philips/images/ASOCA-012.h5', 1], ['/home/marco/data/ASOCA_Philips/images/ASOCA-013.h5', 1], ['/home/marco/data/ASOCA_Philips/images/ASOCA-014.h5', 0], ['/home/marco/data/ASOCA_Philips/images/ASOCA-015.h5', 1], ['/home/marco/data/ASOCA_Philips/images/ASOCA-016.h5', 1], ['/home/marco/data/ASOCA_Philips/images/ASOCA-018.h5', 0], ['/home/marco/data/ASOCA_Philips/images/ASOCA-019.h5', 0], ['/home/marco/data/ASOCA_Philips/images/ASOCA-020.h5', 0], ['/home/marco/data/ASOCA_Philips/images/ASOCA-021.h5', 0], ['/home/marco/data/ASOCA_Philips/images/ASOCA-022.h5', 0], ['/home/marco/data/ASOCA_Philips/images/ASOCA-024.h5', 0], ['/home/marco/data/ASOCA_Philips/images/ASOCA-025.h5', 0], ['/home/marco/data/ASOCA_Philips/images/ASOCA-026.h5', 0], ['/home/marco/data/ASOCA_Philips/images/ASOCA-027.h5', 0], ['/home/marco/data/ASOCA_Philips/images/ASOCA-028.h5', 0], ['/home/marco/data/ASOCA_Philips/images/ASOCA-029.h5', -1], ['/home/marco/data/ASOCA_Philips/images/ASOCA-031.h5', 0], ['/home/marco/data/ASOCA_Philips/images/ASOCA-032.h5', 0], ['/home/marco/data/ASOCA_Philips/images/ASOCA-034.h5', -1], ['/home/marco/data/ASOCA_Philips/images/ASOCA-035.h5', 0], ['/home/marco/data/ASOCA_Philips/images/ASOCA-036.h5', 1], ['/home/marco/data/ASOCA_Philips/images/ASOCA-037.h5', 0], ['/home/marco/data/ASOCA_Philips/images/ASOCA-039.h5', 0], ['/home/marco/data/ASOCA_Philips/images/ASOCA-042.h5', 0], ['/home/marco/data/ASOCA_Philips/images/ASOCA-043.h5', 1], ['/home/marco/data/ASOCA_Philips/images/ASOCA-044.h5', 1], ['/home/marco/data/ASOCA_Philips/images/ASOCA-045.h5', 1], ['/home/marco/data/ASOCA_Philips/images/ASOCA-046.h5', 1], ['/home/marco/data/ASOCA_Philips/images/ASOCA-047.h5', -1], ['/home/marco/data/ASOCA_Philips/images/ASOCA-048.h5', 1], ['/home/marco/data/ASOCA_Philips/images/ASOCA-049.h5', 1], ['/home/marco/data/ASOCA_Philips/images/ASOCA-051.h5', 1], ['/home/marco/data/ASOCA_Philips/images/ASOCA-052.h5', -1], ['/home/marco/data/ASOCA_Philips/images/ASOCA-054.h5', 0], ['/home/marco/data/ASOCA_Philips/images/ASOCA-056.h5', 0], ['/home/marco/data/ASOCA_Philips/images/ASOCA-057.h5', 0], ['/home/marco/data/ASOCA_Philips/images/ASOCA-058.h5', 0], ['/home/marco/data/ASOCA_Philips/images/ASOCA-059.h5', -1], ['/home/marco/data/MMWHS/ct_test/ct_test_2001_image.h5', 0], ['/home/marco/data/MMWHS/ct_test/ct_test_2002_image.h5', 1], ['/home/marco/data/MMWHS/ct_test/ct_test_2004_image.h5', 0], ['/home/marco/data/MMWHS/ct_test/ct_test_2005_image.h5', 0], ['/home/marco/data/MMWHS/ct_test/ct_test_2007_image.h5', 1], ['/home/marco/data/MMWHS/ct_test/ct_test_2008_image.h5', 0], ['/home/marco/data/MMWHS/ct_test/ct_test_2009_image.h5', 0], ['/home/marco/data/MMWHS/ct_test/ct_test_2010_image.h5', 0], ['/home/marco/data/MMWHS/ct_test/ct_test_2011_image.h5', 0], ['/home/marco/data/MMWHS/ct_test/ct_test_2012_image.h5', 0], ['/home/marco/data/MMWHS/ct_test/ct_test_2013_image.h5', 1], ['/home/marco/data/MMWHS/ct_test/ct_test_2015_image.h5', 1], ['/home/marco/data/MMWHS/ct_test/ct_test_2016_image.h5', 1], ['/home/marco/data/MMWHS/ct_test/ct_test_2017_image.h5', 0], ['/home/marco/data/MMWHS/ct_test/ct_test_2019_image.h5', -1], ['/home/marco/data/MMWHS/ct_test/ct_test_2020_image.h5', 0], ['/home/marco/data/MMWHS/ct_test/ct_test_2022_image.h5', 1], ['/home/marco/data/MMWHS/ct_test/ct_test_2024_image.h5', -1], ['/home/marco/data/MMWHS/ct_test/ct_test_2026_image.h5', 0], ['/home/marco/data/MMWHS/ct_test/ct_test_2027_image.h5', 1], ['/home/marco/data/MMWHS/ct_test/ct_test_2028_image.h5', 0], ['/home/marco/data/MMWHS/ct_test/ct_test_2029_image.h5', 0], ['/home/marco/data/MMWHS/ct_test/ct_test_2030_image.h5', 0], ['/home/marco/data/MMWHS/ct_test/ct_test_2031_image.h5', 0], ['/home/marco/data/MMWHS/ct_test/ct_test_2032_image.h5', 0], ['/home/marco/data/MMWHS/ct_test/ct_test_2033_image.h5', 1], ['/home/marco/data/MMWHS/ct_test/ct_test_2034_image.h5', 0], ['/home/marco/data/MMWHS/ct_test/ct_test_2035_image.h5', 0], ['/home/marco/data/MMWHS/ct_test/ct_test_2036_image.h5', 1], ['/home/marco/data/MMWHS/ct_test/ct_test_2039_image.h5', 1], ['/home/marco/data/MMWHS/ct_test/ct_test_2040_image.h5', 0], ['/home/marco/data/MMWHS/ct_train/ct_train_1001_image.h5', 1], ['/home/marco/data/MMWHS/ct_train/ct_train_1002_image.h5', 1], ['/home/marco/data/MMWHS/ct_train/ct_train_1003_image.h5', 0], ['/home/marco/data/MMWHS/ct_train/ct_train_1004_image.h5', 1], ['/home/marco/data/MMWHS/ct_train/ct_train_1005_image.h5', 0], ['/home/marco/data/MMWHS/ct_train/ct_train_1008_image.h5', 1], ['/home/marco/data/MMWHS/ct_train/ct_train_1009_image.h5', 0], ['/home/marco/data/MMWHS/ct_train/ct_train_1010_image.h5', 0], ['/home/marco/data/MMWHS/ct_train/ct_train_1011_image.h5', 1], ['/home/marco/data/MMWHS/ct_train/ct_train_1012_image.h5', 0], ['/home/marco/data/MMWHS/ct_train/ct_train_1013_image.h5', 0], ['/home/marco/data/MMWHS/ct_train/ct_train_1014_image.h5', 0], ['/home/marco/data/MMWHS/ct_train/ct_train_1016_image.h5', 0], ['/home/marco/data/MMWHS/ct_train/ct_train_1017_image.h5', 0], ['/home/marco/data/MMWHS/ct_train/ct_train_1018_image.h5', 1], ['/home/marco/data/MMWHS/ct_train/ct_train_1019_image.h5', -1], ['/home/marco/data/MMWHS/ct_train/ct_train_1020_image.h5', 1]], [['/home/marco/data/ASOCA_Philips/images/ASOCA-000.h5', 0], ['/home/marco/data/ASOCA_Philips/images/ASOCA-001.h5', 0], ['/home/marco/data/ASOCA_Philips/images/ASOCA-002.h5', 1], ['/home/marco/data/ASOCA_Philips/images/ASOCA-003.h5', 1], ['/home/marco/data/ASOCA_Philips/images/ASOCA-004.h5', 1], ['/home/marco/data/ASOCA_Philips/images/ASOCA-006.h5', 1], ['/home/marco/data/ASOCA_Philips/images/ASOCA-007.h5', 0], ['/home/marco/data/ASOCA_Philips/images/ASOCA-008.h5', 0], ['/home/marco/data/ASOCA_Philips/images/ASOCA-009.h5', 0], ['/home/marco/data/ASOCA_Philips/images/ASOCA-011.h5', 1], ['/home/marco/data/ASOCA_Philips/images/ASOCA-012.h5', 1], ['/home/marco/data/ASOCA_Philips/images/ASOCA-013.h5', 1], ['/home/marco/data/ASOCA_Philips/images/ASOCA-014.h5', 0], ['/home/marco/data/ASOCA_Philips/images/ASOCA-015.h5', 1], ['/home/marco/data/ASOCA_Philips/images/ASOCA-016.h5', 1], ['/home/marco/data/ASOCA_Philips/images/ASOCA-017.h5', 1], ['/home/marco/data/ASOCA_Philips/images/ASOCA-019.h5', 0], ['/home/marco/data/ASOCA_Philips/images/ASOCA-020.h5', 0], ['/home/marco/data/ASOCA_Philips/images/ASOCA-021.h5', 0], ['/home/marco/data/ASOCA_Philips/images/ASOCA-022.h5', 0], ['/home/marco/data/ASOCA_Philips/images/ASOCA-023.h5', 1], ['/home/marco/data/ASOCA_Philips/images/ASOCA-024.h5', 0], ['/home/marco/data/ASOCA_Philips/images/ASOCA-025.h5', 0], ['/home/marco/data/ASOCA_Philips/images/ASOCA-027.h5', 0], ['/home/marco/data/ASOCA_Philips/images/ASOCA-028.h5', 0], ['/home/marco/data/ASOCA_Philips/images/ASOCA-030.h5', -1], ['/home/marco/data/ASOCA_Philips/images/ASOCA-031.h5', 0], ['/home/marco/data/ASOCA_Philips/images/ASOCA-033.h5', 0], ['/home/marco/data/ASOCA_Philips/images/ASOCA-034.h5', -1], ['/home/marco/data/ASOCA_Philips/images/ASOCA-035.h5', 0], ['/home/marco/data/ASOCA_Philips/images/ASOCA-036.h5', 1], ['/home/marco/data/ASOCA_Philips/images/ASOCA-037.h5', 0], ['/home/marco/data/ASOCA_Philips/images/ASOCA-038.h5', 0], ['/home/marco/data/ASOCA_Philips/images/ASOCA-039.h5', 0], ['/home/marco/data/ASOCA_Philips/images/ASOCA-040.h5', 1], ['/home/marco/data/ASOCA_Philips/images/ASOCA-041.h5', 1], ['/home/marco/data/ASOCA_Philips/images/ASOCA-042.h5', 0], ['/home/marco/data/ASOCA_Philips/images/ASOCA-044.h5', 1], ['/home/marco/data/ASOCA_Philips/images/ASOCA-046.h5', 1], ['/home/marco/data/ASOCA_Philips/images/ASOCA-047.h5', -1], ['/home/marco/data/ASOCA_Philips/images/ASOCA-048.h5', 1], ['/home/marco/data/ASOCA_Philips/images/ASOCA-049.h5', 1], ['/home/marco/data/ASOCA_Philips/images/ASOCA-050.h5', 1], ['/home/marco/data/ASOCA_Philips/images/ASOCA-051.h5', 1], ['/home/marco/data/ASOCA_Philips/images/ASOCA-052.h5', -1], ['/home/marco/data/ASOCA_Philips/images/ASOCA-053.h5', 0], ['/home/marco/data/ASOCA_Philips/images/ASOCA-054.h5', 0], ['/home/marco/data/ASOCA_Philips/images/ASOCA-055.h5', 0], ['/home/marco/data/ASOCA_Philips/images/ASOCA-056.h5', 0], ['/home/marco/data/ASOCA_Philips/images/ASOCA-057.h5', 0], ['/home/marco/data/ASOCA_Philips/images/ASOCA-059.h5', -1], ['/home/marco/data/MMWHS/ct_test/ct_test_2001_image.h5', 0], ['/home/marco/data/MMWHS/ct_test/ct_test_2002_image.h5', 1], ['/home/marco/data/MMWHS/ct_test/ct_test_2003_image.h5', -1], ['/home/marco/data/MMWHS/ct_test/ct_test_2004_image.h5', 0], ['/home/marco/data/MMWHS/ct_test/ct_test_2006_image.h5', 0], ['/home/marco/data/MMWHS/ct_test/ct_test_2007_image.h5', 1], ['/home/marco/data/MMWHS/ct_test/ct_test_2014_image.h5', 0], ['/home/marco/data/MMWHS/ct_test/ct_test_2015_image.h5', 1], ['/home/marco/data/MMWHS/ct_test/ct_test_2016_image.h5', 1], ['/home/marco/data/MMWHS/ct_test/ct_test_2017_image.h5', 0], ['/home/marco/data/MMWHS/ct_test/ct_test_2018_image.h5', 0], ['/home/marco/data/MMWHS/ct_test/ct_test_2019_image.h5', -1], ['/home/marco/data/MMWHS/ct_test/ct_test_2020_image.h5', 0], ['/home/marco/data/MMWHS/ct_test/ct_test_2021_image.h5', 1], ['/home/marco/data/MMWHS/ct_test/ct_test_2022_image.h5', 1], ['/home/marco/data/MMWHS/ct_test/ct_test_2023_image.h5', 1], ['/home/marco/data/MMWHS/ct_test/ct_test_2024_image.h5', -1], ['/home/marco/data/MMWHS/ct_test/ct_test_2025_image.h5', 0], ['/home/marco/data/MMWHS/ct_test/ct_test_2026_image.h5', 0], ['/home/marco/data/MMWHS/ct_test/ct_test_2027_image.h5', 1], ['/home/marco/data/MMWHS/ct_test/ct_test_2028_image.h5', 0], ['/home/marco/data/MMWHS/ct_test/ct_test_2029_image.h5', 0], ['/home/marco/data/MMWHS/ct_test/ct_test_2031_image.h5', 0], ['/home/marco/data/MMWHS/ct_test/ct_test_2032_image.h5', 0], ['/home/marco/data/MMWHS/ct_test/ct_test_2034_image.h5', 0], ['/home/marco/data/MMWHS/ct_test/ct_test_2035_image.h5', 0], ['/home/marco/data/MMWHS/ct_test/ct_test_2036_image.h5', 1], ['/home/marco/data/MMWHS/ct_test/ct_test_2037_image.h5', 0], ['/home/marco/data/MMWHS/ct_test/ct_test_2038_image.h5', 0], ['/home/marco/data/MMWHS/ct_train/ct_train_1001_image.h5', 1], ['/home/marco/data/MMWHS/ct_train/ct_train_1002_image.h5', 1], ['/home/marco/data/MMWHS/ct_train/ct_train_1003_image.h5', 0], ['/home/marco/data/MMWHS/ct_train/ct_train_1006_image.h5', 0], ['/home/marco/data/MMWHS/ct_train/ct_train_1007_image.h5', 0], ['/home/marco/data/MMWHS/ct_train/ct_train_1008_image.h5', 1], ['/home/marco/data/MMWHS/ct_train/ct_train_1009_image.h5', 0], ['/home/marco/data/MMWHS/ct_train/ct_train_1010_image.h5', 0], ['/home/marco/data/MMWHS/ct_train/ct_train_1011_image.h5', 1], ['/home/marco/data/MMWHS/ct_train/ct_train_1012_image.h5', 0], ['/home/marco/data/MMWHS/ct_train/ct_train_1013_image.h5', 0], ['/home/marco/data/MMWHS/ct_train/ct_train_1014_image.h5', 0], ['/home/marco/data/MMWHS/ct_train/ct_train_1015_image.h5', 0], ['/home/marco/data/MMWHS/ct_train/ct_train_1016_image.h5', 0], ['/home/marco/data/MMWHS/ct_train/ct_train_1017_image.h5', 0], ['/home/marco/data/MMWHS/ct_train/ct_train_1018_image.h5', 1]], [['/home/marco/data/ASOCA_Philips/images/ASOCA-001.h5', 0], ['/home/marco/data/ASOCA_Philips/images/ASOCA-002.h5', 1], ['/home/marco/data/ASOCA_Philips/images/ASOCA-003.h5', 1], ['/home/marco/data/ASOCA_Philips/images/ASOCA-004.h5', 1], ['/home/marco/data/ASOCA_Philips/images/ASOCA-005.h5', 0], ['/home/marco/data/ASOCA_Philips/images/ASOCA-006.h5', 1], ['/home/marco/data/ASOCA_Philips/images/ASOCA-007.h5', 0], ['/home/marco/data/ASOCA_Philips/images/ASOCA-008.h5', 0], ['/home/marco/data/ASOCA_Philips/images/ASOCA-009.h5', 0], ['/home/marco/data/ASOCA_Philips/images/ASOCA-010.h5', 1], ['/home/marco/data/ASOCA_Philips/images/ASOCA-012.h5', 1], ['/home/marco/data/ASOCA_Philips/images/ASOCA-013.h5', 1], ['/home/marco/data/ASOCA_Philips/images/ASOCA-014.h5', 0], ['/home/marco/data/ASOCA_Philips/images/ASOCA-016.h5', 1], ['/home/marco/data/ASOCA_Philips/images/ASOCA-017.h5', 1], ['/home/marco/data/ASOCA_Philips/images/ASOCA-018.h5', 0], ['/home/marco/data/ASOCA_Philips/images/ASOCA-019.h5', 0], ['/home/marco/data/ASOCA_Philips/images/ASOCA-020.h5', 0], ['/home/marco/data/ASOCA_Philips/images/ASOCA-021.h5', 0], ['/home/marco/data/ASOCA_Philips/images/ASOCA-022.h5', 0], ['/home/marco/data/ASOCA_Philips/images/ASOCA-023.h5', 1], ['/home/marco/data/ASOCA_Philips/images/ASOCA-024.h5', 0], ['/home/marco/data/ASOCA_Philips/images/ASOCA-025.h5', 0], ['/home/marco/data/ASOCA_Philips/images/ASOCA-026.h5', 0], ['/home/marco/data/ASOCA_Philips/images/ASOCA-027.h5', 0], ['/home/marco/data/ASOCA_Philips/images/ASOCA-029.h5', -1], ['/home/marco/data/ASOCA_Philips/images/ASOCA-030.h5', -1], ['/home/marco/data/ASOCA_Philips/images/ASOCA-031.h5', 0], ['/home/marco/data/ASOCA_Philips/images/ASOCA-032.h5', 0], ['/home/marco/data/ASOCA_Philips/images/ASOCA-033.h5', 0], ['/home/marco/data/ASOCA_Philips/images/ASOCA-036.h5', 1], ['/home/marco/data/ASOCA_Philips/images/ASOCA-037.h5', 0], ['/home/marco/data/ASOCA_Philips/images/ASOCA-038.h5', 0], ['/home/marco/data/ASOCA_Philips/images/ASOCA-040.h5', 1], ['/home/marco/data/ASOCA_Philips/images/ASOCA-041.h5', 1], ['/home/marco/data/ASOCA_Philips/images/ASOCA-043.h5', 1], ['/home/marco/data/ASOCA_Philips/images/ASOCA-044.h5', 1], ['/home/marco/data/ASOCA_Philips/images/ASOCA-045.h5', 1], ['/home/marco/data/ASOCA_Philips/images/ASOCA-046.h5', 1], ['/home/marco/data/ASOCA_Philips/images/ASOCA-048.h5', 1], ['/home/marco/data/ASOCA_Philips/images/ASOCA-049.h5', 1], ['/home/marco/data/ASOCA_Philips/images/ASOCA-050.h5', 1], ['/home/marco/data/ASOCA_Philips/images/ASOCA-052.h5', -1], ['/home/marco/data/ASOCA_Philips/images/ASOCA-053.h5', 0], ['/home/marco/data/ASOCA_Philips/images/ASOCA-055.h5', 0], ['/home/marco/data/ASOCA_Philips/images/ASOCA-057.h5', 0], ['/home/marco/data/ASOCA_Philips/images/ASOCA-058.h5', 0], ['/home/marco/data/ASOCA_Philips/images/ASOCA-059.h5', -1], ['/home/marco/data/MMWHS/ct_test/ct_test_2001_image.h5', 0], ['/home/marco/data/MMWHS/ct_test/ct_test_2003_image.h5', -1], ['/home/marco/data/MMWHS/ct_test/ct_test_2004_image.h5', 0], ['/home/marco/data/MMWHS/ct_test/ct_test_2005_image.h5', 0], ['/home/marco/data/MMWHS/ct_test/ct_test_2006_image.h5', 0], ['/home/marco/data/MMWHS/ct_test/ct_test_2007_image.h5', 1], ['/home/marco/data/MMWHS/ct_test/ct_test_2008_image.h5', 0], ['/home/marco/data/MMWHS/ct_test/ct_test_2009_image.h5', 0], ['/home/marco/data/MMWHS/ct_test/ct_test_2010_image.h5', 0], ['/home/marco/data/MMWHS/ct_test/ct_test_2011_image.h5', 0], ['/home/marco/data/MMWHS/ct_test/ct_test_2012_image.h5', 0], ['/home/marco/data/MMWHS/ct_test/ct_test_2013_image.h5', 1], ['/home/marco/data/MMWHS/ct_test/ct_test_2014_image.h5', 0], ['/home/marco/data/MMWHS/ct_test/ct_test_2017_image.h5', 0], ['/home/marco/data/MMWHS/ct_test/ct_test_2018_image.h5', 0], ['/home/marco/data/MMWHS/ct_test/ct_test_2019_image.h5', -1], ['/home/marco/data/MMWHS/ct_test/ct_test_2020_image.h5', 0], ['/home/marco/data/MMWHS/ct_test/ct_test_2021_image.h5', 1], ['/home/marco/data/MMWHS/ct_test/ct_test_2023_image.h5', 1], ['/home/marco/data/MMWHS/ct_test/ct_test_2024_image.h5', -1], ['/home/marco/data/MMWHS/ct_test/ct_test_2025_image.h5', 0], ['/home/marco/data/MMWHS/ct_test/ct_test_2027_image.h5', 1], ['/home/marco/data/MMWHS/ct_test/ct_test_2029_image.h5', 0], ['/home/marco/data/MMWHS/ct_test/ct_test_2030_image.h5', 0], ['/home/marco/data/MMWHS/ct_test/ct_test_2032_image.h5', 0], ['/home/marco/data/MMWHS/ct_test/ct_test_2033_image.h5', 1], ['/home/marco/data/MMWHS/ct_test/ct_test_2036_image.h5', 1], ['/home/marco/data/MMWHS/ct_test/ct_test_2037_image.h5', 0], ['/home/marco/data/MMWHS/ct_test/ct_test_2038_image.h5', 0], ['/home/marco/data/MMWHS/ct_test/ct_test_2039_image.h5', 1], ['/home/marco/data/MMWHS/ct_test/ct_test_2040_image.h5', 0], ['/home/marco/data/MMWHS/ct_train/ct_train_1001_image.h5', 1], ['/home/marco/data/MMWHS/ct_train/ct_train_1002_image.h5', 1], ['/home/marco/data/MMWHS/ct_train/ct_train_1003_image.h5', 0], ['/home/marco/data/MMWHS/ct_train/ct_train_1004_image.h5', 1], ['/home/marco/data/MMWHS/ct_train/ct_train_1005_image.h5', 0], ['/home/marco/data/MMWHS/ct_train/ct_train_1006_image.h5', 0], ['/home/marco/data/MMWHS/ct_train/ct_train_1007_image.h5', 0], ['/home/marco/data/MMWHS/ct_train/ct_train_1008_image.h5', 1], ['/home/marco/data/MMWHS/ct_train/ct_train_1009_image.h5', 0], ['/home/marco/data/MMWHS/ct_train/ct_train_1010_image.h5', 0], ['/home/marco/data/MMWHS/ct_train/ct_train_1013_image.h5', 0], ['/home/marco/data/MMWHS/ct_train/ct_train_1014_image.h5', 0], ['/home/marco/data/MMWHS/ct_train/ct_train_1015_image.h5', 0], ['/home/marco/data/MMWHS/ct_train/ct_train_1016_image.h5', 0], ['/home/marco/data/MMWHS/ct_train/ct_train_1018_image.h5', 1], ['/home/marco/data/MMWHS/ct_train/ct_train_1019_image.h5', -1], ['/home/marco/data/MMWHS/ct_train/ct_train_1020_image.h5', 1]], [['/home/marco/data/ASOCA_Philips/images/ASOCA-000.h5', 0], ['/home/marco/data/ASOCA_Philips/images/ASOCA-001.h5', 0], ['/home/marco/data/ASOCA_Philips/images/ASOCA-003.h5', 1], ['/home/marco/data/ASOCA_Philips/images/ASOCA-004.h5', 1], ['/home/marco/data/ASOCA_Philips/images/ASOCA-005.h5', 0], ['/home/marco/data/ASOCA_Philips/images/ASOCA-008.h5', 0], ['/home/marco/data/ASOCA_Philips/images/ASOCA-010.h5', 1], ['/home/marco/data/ASOCA_Philips/images/ASOCA-011.h5', 1], ['/home/marco/data/ASOCA_Philips/images/ASOCA-012.h5', 1], ['/home/marco/data/ASOCA_Philips/images/ASOCA-013.h5', 1], ['/home/marco/data/ASOCA_Philips/images/ASOCA-014.h5', 0], ['/home/marco/data/ASOCA_Philips/images/ASOCA-015.h5', 1], ['/home/marco/data/ASOCA_Philips/images/ASOCA-017.h5', 1], ['/home/marco/data/ASOCA_Philips/images/ASOCA-018.h5', 0], ['/home/marco/data/ASOCA_Philips/images/ASOCA-020.h5', 0], ['/home/marco/data/ASOCA_Philips/images/ASOCA-023.h5', 1], ['/home/marco/data/ASOCA_Philips/images/ASOCA-024.h5', 0], ['/home/marco/data/ASOCA_Philips/images/ASOCA-025.h5', 0], ['/home/marco/data/ASOCA_Philips/images/ASOCA-026.h5', 0], ['/home/marco/data/ASOCA_Philips/images/ASOCA-027.h5', 0], ['/home/marco/data/ASOCA_Philips/images/ASOCA-028.h5', 0], ['/home/marco/data/ASOCA_Philips/images/ASOCA-029.h5', -1], ['/home/marco/data/ASOCA_Philips/images/ASOCA-030.h5', -1], ['/home/marco/data/ASOCA_Philips/images/ASOCA-031.h5', 0], ['/home/marco/data/ASOCA_Philips/images/ASOCA-032.h5', 0], ['/home/marco/data/ASOCA_Philips/images/ASOCA-033.h5', 0], ['/home/marco/data/ASOCA_Philips/images/ASOCA-034.h5', -1], ['/home/marco/data/ASOCA_Philips/images/ASOCA-035.h5', 0], ['/home/marco/data/ASOCA_Philips/images/ASOCA-037.h5', 0], ['/home/marco/data/ASOCA_Philips/images/ASOCA-038.h5', 0], ['/home/marco/data/ASOCA_Philips/images/ASOCA-039.h5', 0], ['/home/marco/data/ASOCA_Philips/images/ASOCA-040.h5', 1], ['/home/marco/data/ASOCA_Philips/images/ASOCA-041.h5', 1], ['/home/marco/data/ASOCA_Philips/images/ASOCA-042.h5', 0], ['/home/marco/data/ASOCA_Philips/images/ASOCA-043.h5', 1], ['/home/marco/data/ASOCA_Philips/images/ASOCA-045.h5', 1], ['/home/marco/data/ASOCA_Philips/images/ASOCA-047.h5', -1], ['/home/marco/data/ASOCA_Philips/images/ASOCA-049.h5', 1], ['/home/marco/data/ASOCA_Philips/images/ASOCA-050.h5', 1], ['/home/marco/data/ASOCA_Philips/images/ASOCA-051.h5', 1], ['/home/marco/data/ASOCA_Philips/images/ASOCA-052.h5', -1], ['/home/marco/data/ASOCA_Philips/images/ASOCA-053.h5', 0], ['/home/marco/data/ASOCA_Philips/images/ASOCA-054.h5', 0], ['/home/marco/data/ASOCA_Philips/images/ASOCA-055.h5', 0], ['/home/marco/data/ASOCA_Philips/images/ASOCA-056.h5', 0], ['/home/marco/data/ASOCA_Philips/images/ASOCA-058.h5', 0], ['/home/marco/data/MMWHS/ct_test/ct_test_2001_image.h5', 0], ['/home/marco/data/MMWHS/ct_test/ct_test_2002_image.h5', 1], ['/home/marco/data/MMWHS/ct_test/ct_test_2003_image.h5', -1], ['/home/marco/data/MMWHS/ct_test/ct_test_2005_image.h5', 0], ['/home/marco/data/MMWHS/ct_test/ct_test_2006_image.h5', 0], ['/home/marco/data/MMWHS/ct_test/ct_test_2007_image.h5', 1], ['/home/marco/data/MMWHS/ct_test/ct_test_2008_image.h5', 0], ['/home/marco/data/MMWHS/ct_test/ct_test_2009_image.h5', 0], ['/home/marco/data/MMWHS/ct_test/ct_test_2010_image.h5', 0], ['/home/marco/data/MMWHS/ct_test/ct_test_2011_image.h5', 0], ['/home/marco/data/MMWHS/ct_test/ct_test_2012_image.h5', 0], ['/home/marco/data/MMWHS/ct_test/ct_test_2013_image.h5', 1], ['/home/marco/data/MMWHS/ct_test/ct_test_2014_image.h5', 0], ['/home/marco/data/MMWHS/ct_test/ct_test_2015_image.h5', 1], ['/home/marco/data/MMWHS/ct_test/ct_test_2016_image.h5', 1], ['/home/marco/data/MMWHS/ct_test/ct_test_2018_image.h5', 0], ['/home/marco/data/MMWHS/ct_test/ct_test_2020_image.h5', 0], ['/home/marco/data/MMWHS/ct_test/ct_test_2021_image.h5', 1], ['/home/marco/data/MMWHS/ct_test/ct_test_2022_image.h5', 1], ['/home/marco/data/MMWHS/ct_test/ct_test_2023_image.h5', 1], ['/home/marco/data/MMWHS/ct_test/ct_test_2024_image.h5', -1], ['/home/marco/data/MMWHS/ct_test/ct_test_2025_image.h5', 0], ['/home/marco/data/MMWHS/ct_test/ct_test_2026_image.h5', 0], ['/home/marco/data/MMWHS/ct_test/ct_test_2027_image.h5', 1], ['/home/marco/data/MMWHS/ct_test/ct_test_2028_image.h5', 0], ['/home/marco/data/MMWHS/ct_test/ct_test_2030_image.h5', 0], ['/home/marco/data/MMWHS/ct_test/ct_test_2031_image.h5', 0], ['/home/marco/data/MMWHS/ct_test/ct_test_2033_image.h5', 1], ['/home/marco/data/MMWHS/ct_test/ct_test_2034_image.h5', 0], ['/home/marco/data/MMWHS/ct_test/ct_test_2035_image.h5', 0], ['/home/marco/data/MMWHS/ct_test/ct_test_2036_image.h5', 1], ['/home/marco/data/MMWHS/ct_test/ct_test_2037_image.h5', 0], ['/home/marco/data/MMWHS/ct_test/ct_test_2038_image.h5', 0], ['/home/marco/data/MMWHS/ct_test/ct_test_2039_image.h5', 1], ['/home/marco/data/MMWHS/ct_test/ct_test_2040_image.h5', 0], ['/home/marco/data/MMWHS/ct_train/ct_train_1001_image.h5', 1], ['/home/marco/data/MMWHS/ct_train/ct_train_1003_image.h5', 0], ['/home/marco/data/MMWHS/ct_train/ct_train_1004_image.h5', 1], ['/home/marco/data/MMWHS/ct_train/ct_train_1005_image.h5', 0], ['/home/marco/data/MMWHS/ct_train/ct_train_1006_image.h5', 0], ['/home/marco/data/MMWHS/ct_train/ct_train_1007_image.h5', 0], ['/home/marco/data/MMWHS/ct_train/ct_train_1008_image.h5', 1], ['/home/marco/data/MMWHS/ct_train/ct_train_1009_image.h5', 0], ['/home/marco/data/MMWHS/ct_train/ct_train_1011_image.h5', 1], ['/home/marco/data/MMWHS/ct_train/ct_train_1012_image.h5', 0], ['/home/marco/data/MMWHS/ct_train/ct_train_1013_image.h5', 0], ['/home/marco/data/MMWHS/ct_train/ct_train_1015_image.h5', 0], ['/home/marco/data/MMWHS/ct_train/ct_train_1017_image.h5', 0], ['/home/marco/data/MMWHS/ct_train/ct_train_1019_image.h5', -1], ['/home/marco/data/MMWHS/ct_train/ct_train_1020_image.h5', 1]], [['/home/marco/data/ASOCA_Philips/images/ASOCA-000.h5', 0], ['/home/marco/data/ASOCA_Philips/images/ASOCA-001.h5', 0], ['/home/marco/data/ASOCA_Philips/images/ASOCA-002.h5', 1], ['/home/marco/data/ASOCA_Philips/images/ASOCA-004.h5', 1], ['/home/marco/data/ASOCA_Philips/images/ASOCA-005.h5', 0], ['/home/marco/data/ASOCA_Philips/images/ASOCA-006.h5', 1], ['/home/marco/data/ASOCA_Philips/images/ASOCA-007.h5', 0], ['/home/marco/data/ASOCA_Philips/images/ASOCA-009.h5', 0], ['/home/marco/data/ASOCA_Philips/images/ASOCA-010.h5', 1], ['/home/marco/data/ASOCA_Philips/images/ASOCA-011.h5', 1], ['/home/marco/data/ASOCA_Philips/images/ASOCA-015.h5', 1], ['/home/marco/data/ASOCA_Philips/images/ASOCA-016.h5', 1], ['/home/marco/data/ASOCA_Philips/images/ASOCA-017.h5', 1], ['/home/marco/data/ASOCA_Philips/images/ASOCA-018.h5', 0], ['/home/marco/data/ASOCA_Philips/images/ASOCA-019.h5', 0], ['/home/marco/data/ASOCA_Philips/images/ASOCA-021.h5', 0], ['/home/marco/data/ASOCA_Philips/images/ASOCA-022.h5', 0], ['/home/marco/data/ASOCA_Philips/images/ASOCA-023.h5', 1], ['/home/marco/data/ASOCA_Philips/images/ASOCA-026.h5', 0], ['/home/marco/data/ASOCA_Philips/images/ASOCA-028.h5', 0], ['/home/marco/data/ASOCA_Philips/images/ASOCA-029.h5', -1], ['/home/marco/data/ASOCA_Philips/images/ASOCA-030.h5', -1], ['/home/marco/data/ASOCA_Philips/images/ASOCA-032.h5', 0], ['/home/marco/data/ASOCA_Philips/images/ASOCA-033.h5', 0], ['/home/marco/data/ASOCA_Philips/images/ASOCA-034.h5', -1], ['/home/marco/data/ASOCA_Philips/images/ASOCA-035.h5', 0], ['/home/marco/data/ASOCA_Philips/images/ASOCA-036.h5', 1], ['/home/marco/data/ASOCA_Philips/images/ASOCA-038.h5', 0], ['/home/marco/data/ASOCA_Philips/images/ASOCA-039.h5', 0], ['/home/marco/data/ASOCA_Philips/images/ASOCA-040.h5', 1], ['/home/marco/data/ASOCA_Philips/images/ASOCA-041.h5', 1], ['/home/marco/data/ASOCA_Philips/images/ASOCA-042.h5', 0], ['/home/marco/data/ASOCA_Philips/images/ASOCA-043.h5', 1], ['/home/marco/data/ASOCA_Philips/images/ASOCA-044.h5', 1], ['/home/marco/data/ASOCA_Philips/images/ASOCA-045.h5', 1], ['/home/marco/data/ASOCA_Philips/images/ASOCA-046.h5', 1], ['/home/marco/data/ASOCA_Philips/images/ASOCA-047.h5', -1], ['/home/marco/data/ASOCA_Philips/images/ASOCA-048.h5', 1], ['/home/marco/data/ASOCA_Philips/images/ASOCA-050.h5', 1], ['/home/marco/data/ASOCA_Philips/images/ASOCA-051.h5', 1], ['/home/marco/data/ASOCA_Philips/images/ASOCA-053.h5', 0], ['/home/marco/data/ASOCA_Philips/images/ASOCA-054.h5', 0], ['/home/marco/data/ASOCA_Philips/images/ASOCA-055.h5', 0], ['/home/marco/data/ASOCA_Philips/images/ASOCA-056.h5', 0], ['/home/marco/data/ASOCA_Philips/images/ASOCA-057.h5', 0], ['/home/marco/data/ASOCA_Philips/images/ASOCA-058.h5', 0], ['/home/marco/data/ASOCA_Philips/images/ASOCA-059.h5', -1], ['/home/marco/data/MMWHS/ct_test/ct_test_2002_image.h5', 1], ['/home/marco/data/MMWHS/ct_test/ct_test_2003_image.h5', -1], ['/home/marco/data/MMWHS/ct_test/ct_test_2004_image.h5', 0], ['/home/marco/data/MMWHS/ct_test/ct_test_2005_image.h5', 0], ['/home/marco/data/MMWHS/ct_test/ct_test_2006_image.h5', 0], ['/home/marco/data/MMWHS/ct_test/ct_test_2008_image.h5', 0], ['/home/marco/data/MMWHS/ct_test/ct_test_2009_image.h5', 0], ['/home/marco/data/MMWHS/ct_test/ct_test_2010_image.h5', 0], ['/home/marco/data/MMWHS/ct_test/ct_test_2011_image.h5', 0], ['/home/marco/data/MMWHS/ct_test/ct_test_2012_image.h5', 0], ['/home/marco/data/MMWHS/ct_test/ct_test_2013_image.h5', 1], ['/home/marco/data/MMWHS/ct_test/ct_test_2014_image.h5', 0], ['/home/marco/data/MMWHS/ct_test/ct_test_2015_image.h5', 1], ['/home/marco/data/MMWHS/ct_test/ct_test_2016_image.h5', 1], ['/home/marco/data/MMWHS/ct_test/ct_test_2017_image.h5', 0], ['/home/marco/data/MMWHS/ct_test/ct_test_2018_image.h5', 0], ['/home/marco/data/MMWHS/ct_test/ct_test_2019_image.h5', -1], ['/home/marco/data/MMWHS/ct_test/ct_test_2021_image.h5', 1], ['/home/marco/data/MMWHS/ct_test/ct_test_2022_image.h5', 1], ['/home/marco/data/MMWHS/ct_test/ct_test_2023_image.h5', 1], ['/home/marco/data/MMWHS/ct_test/ct_test_2025_image.h5', 0], ['/home/marco/data/MMWHS/ct_test/ct_test_2026_image.h5', 0], ['/home/marco/data/MMWHS/ct_test/ct_test_2028_image.h5', 0], ['/home/marco/data/MMWHS/ct_test/ct_test_2029_image.h5', 0], ['/home/marco/data/MMWHS/ct_test/ct_test_2030_image.h5', 0], ['/home/marco/data/MMWHS/ct_test/ct_test_2031_image.h5', 0], ['/home/marco/data/MMWHS/ct_test/ct_test_2032_image.h5', 0], ['/home/marco/data/MMWHS/ct_test/ct_test_2033_image.h5', 1], ['/home/marco/data/MMWHS/ct_test/ct_test_2034_image.h5', 0], ['/home/marco/data/MMWHS/ct_test/ct_test_2035_image.h5', 0], ['/home/marco/data/MMWHS/ct_test/ct_test_2037_image.h5', 0], ['/home/marco/data/MMWHS/ct_test/ct_test_2038_image.h5', 0], ['/home/marco/data/MMWHS/ct_test/ct_test_2039_image.h5', 1], ['/home/marco/data/MMWHS/ct_test/ct_test_2040_image.h5', 0], ['/home/marco/data/MMWHS/ct_train/ct_train_1002_image.h5', 1], ['/home/marco/data/MMWHS/ct_train/ct_train_1004_image.h5', 1], ['/home/marco/data/MMWHS/ct_train/ct_train_1005_image.h5', 0], ['/home/marco/data/MMWHS/ct_train/ct_train_1006_image.h5', 0], ['/home/marco/data/MMWHS/ct_train/ct_train_1007_image.h5', 0], ['/home/marco/data/MMWHS/ct_train/ct_train_1010_image.h5', 0], ['/home/marco/data/MMWHS/ct_train/ct_train_1011_image.h5', 1], ['/home/marco/data/MMWHS/ct_train/ct_train_1012_image.h5', 0], ['/home/marco/data/MMWHS/ct_train/ct_train_1014_image.h5', 0], ['/home/marco/data/MMWHS/ct_train/ct_train_1015_image.h5', 0], ['/home/marco/data/MMWHS/ct_train/ct_train_1016_image.h5', 0], ['/home/marco/data/MMWHS/ct_train/ct_train_1017_image.h5', 0], ['/home/marco/data/MMWHS/ct_train/ct_train_1018_image.h5', 1], ['/home/marco/data/MMWHS/ct_train/ct_train_1019_image.h5', -1], ['/home/marco/data/MMWHS/ct_train/ct_train_1020_image.h5', 1]]]}\n"
     ]
    },
    {
     "data": {
      "application/vnd.jupyter.widget-view+json": {
       "model_id": "f144e6e41d7f43a09c492647a8f1e477",
       "version_major": 2,
       "version_minor": 0
      },
      "text/plain": [
       "VBox(children=(Label(value='0.000 MB of 0.000 MB uploaded\\r'), FloatProgress(value=1.0, max=1.0)))"
      ]
     },
     "metadata": {},
     "output_type": "display_data"
    },
    {
     "data": {
      "text/html": [
       " View run <strong style=\"color:#cdcd00\">dazzling-resonance-196</strong> at: <a href='https://wandb.ai/xqz-u/test_project/runs/iskcscpk/workspace' target=\"_blank\">https://wandb.ai/xqz-u/test_project/runs/iskcscpk/workspace</a><br/>Synced 4 W&B file(s), 0 media file(s), 0 artifact file(s) and 1 other file(s)"
      ],
      "text/plain": [
       "<IPython.core.display.HTML object>"
      ]
     },
     "metadata": {},
     "output_type": "display_data"
    },
    {
     "data": {
      "text/html": [
       "Find logs at: <code>./wandb/run-20240416_163152-iskcscpk/logs</code>"
      ],
      "text/plain": [
       "<IPython.core.display.HTML object>"
      ]
     },
     "metadata": {},
     "output_type": "display_data"
    }
   ],
   "source": [
    "with  wandb.init(project='test_project', id=\"iskcscpk\", resume=\"allow\") as run:\n",
    "    print(run.config)"
   ]
  },
  {
   "cell_type": "code",
   "execution_count": null,
   "metadata": {},
   "outputs": [],
   "source": [
    "from matplotlib import pyplot as plt\n",
    "\n",
    "from contrast_gan_3D.alias import ScanType\n",
    "from contrast_gan_3D.data.HD5Scan import HD5Scan\n",
    "\n",
    "centerlines_pixels = {k: np.array([]) for k in ScanType}\n",
    "for sc in centerlines_pixels:\n",
    "    print(sc)\n",
    "    arr = centerlines_pixels[sc]\n",
    "    val_load = val_loaders[sc.value]\n",
    "    for p in val_load.generator._data:\n",
    "        print(p)\n",
    "        with HD5Scan(p) as scan:\n",
    "            arr = np.append(arr, scan.ccta[scan.labelmap[::].astype(bool)])\n",
    "    centerlines_pixels[sc] = arr\n",
    "\n",
    "\n",
    "[len(c) for c in centerlines_pixels.values()]"
   ]
  },
  {
   "cell_type": "code",
   "execution_count": null,
   "metadata": {},
   "outputs": [],
   "source": [
    "fig, ax = plt.subplots()\n",
    "\n",
    "for sc, v in centerlines_pixels.items():\n",
    "    ax.hist(v, bins=80, alpha=0.5, density=True, label=sc.name)\n",
    "plt.legend()\n",
    "plt.tight_layout()\n",
    "plt.show()\n",
    "plt.close(fig)"
   ]
  },
  {
   "cell_type": "code",
   "execution_count": null,
   "metadata": {},
   "outputs": [],
   "source": [
    "from pathlib import Path\n",
    "from typing import List\n",
    "\n",
    "\n",
    "# NOTE need some form of patch aggregation\n",
    "def compute_histograms(paths: List[Path]):\n",
    "    ...\n",
    "\n",
    "def plot_histograms():\n",
    "    ..."
   ]
  },
  {
   "cell_type": "code",
   "execution_count": null,
   "metadata": {},
   "outputs": [],
   "source": [
    "from contrast_gan_3D.trainer.logger.LoggerInterface import SingleThreadedLogger\n",
    "\n",
    "logger_interface = SingleThreadedLogger(logger_interface.logger)\n",
    "\n",
    "device = set_GPU(3)\n",
    "\n",
    "trainer = Trainer(\n",
    "    train_iterations,\n",
    "    val_iterations,\n",
    "    validate_every,\n",
    "    train_generator_every,\n",
    "    log_every,\n",
    "    log_images_every,\n",
    "    generator_class,\n",
    "    critic_class,\n",
    "    generator_optim_class,\n",
    "    critic_optim_class,\n",
    "    HULoss(*scaled_HU_bounds, (val_batch_size, 1, *val_patch_size)),\n",
    "    # HULoss(*scaled_HU_bounds, (train_batch_size * 2, 1, *train_patch_size)),\n",
    "    logger_interface,\n",
    "    CHECKPOINTS_DIR / f\"{run_id}.pt\",\n",
    "    weight_clip=weight_clip,\n",
    "    generator_lr_scheduler_class=generator_lr_scheduler_class,\n",
    "    critic_lr_scheduler_class=critic_lr_scheduler_class,\n",
    "    device=device,\n",
    "    checkpoint_every=checkpoint_every,\n",
    ")\n",
    "# trainer.load_checkpoint(\n",
    "#     # \"/home/marco/contrast-gan-3D/logs/model_checkpoints/9hnh7gto.pt\"\n",
    "#     \"/home/marco/contrast-gan-3D/logs/model_checkpoints/07qiygyk.pt\"\n",
    "# )"
   ]
  },
  {
   "cell_type": "code",
   "execution_count": null,
   "metadata": {},
   "outputs": [],
   "source": [
    "from contrast_gan_3D.model import utils as model_utils\n",
    "\n",
    "print(model_utils.count_parameters(trainer.critic))\n",
    "print(model_utils.count_parameters(trainer.generator))"
   ]
  },
  {
   "cell_type": "code",
   "execution_count": null,
   "metadata": {},
   "outputs": [],
   "source": [
    "print(trainer.critic)\n",
    "print(\"-----------\")\n",
    "print(trainer.generator)"
   ]
  },
  {
   "cell_type": "code",
   "execution_count": null,
   "metadata": {},
   "outputs": [],
   "source": [
    "patches = [next(train_loaders[scan_type.value]) for scan_type in ScanType]\n",
    "opt, low, high = patches\n",
    "opt = opt[\"data\"].to(trainer.device, non_blocking=True)\n",
    "subopt = torch.cat([low[\"data\"], high[\"data\"]])\n",
    "subopt = subopt.to(trainer.device, non_blocking=True)"
   ]
  },
  {
   "cell_type": "code",
   "execution_count": null,
   "metadata": {},
   "outputs": [],
   "source": [
    "model_utils.print_convolution_filters_shape(trainer.critic, opt.shape[1:])\n",
    "print(\"----\")\n",
    "model_utils.print_convolution_filters_shape(trainer.generator, opt.shape[1:])"
   ]
  },
  {
   "cell_type": "code",
   "execution_count": null,
   "metadata": {},
   "outputs": [],
   "source": [
    "from torch import nn\n",
    "\n",
    "# idea of 1D convolution: bottleneck!\n",
    "inp_shape = (256, 128, 128, 128)\n",
    "model_utils.print_convolution_filters_shape(nn.Conv3d(256, 64, 1, 1, 0), inp_shape)\n",
    "model_utils.print_convolution_filters_shape(nn.Conv3d(64, 64, 3, 1, 1), inp_shape)\n",
    "model_utils.print_convolution_filters_shape(nn.Conv3d(64, 256, 1, 1, 0), inp_shape)\n",
    "print('------')\n",
    "model_utils.print_convolution_filters_shape(nn.Conv3d(256, 256, 3, 1, 1), inp_shape)"
   ]
  },
  {
   "cell_type": "code",
   "execution_count": null,
   "metadata": {},
   "outputs": [],
   "source": [
    "attenuations = trainer.generator(subopt)\n",
    "recon = subopt - attenuations\n",
    "\n",
    "print(attenuations[1].min(), attenuations[1].max())\n",
    "\n",
    "D_real  = trainer.critic(opt)\n",
    "D_fake = trainer.critic(recon.detach())"
   ]
  },
  {
   "cell_type": "code",
   "execution_count": null,
   "metadata": {},
   "outputs": [],
   "source": [
    "from torchviz import make_dot\n",
    "\n",
    "from contrast_gan_3D.model.utils import wgan_gradient_penalty\n",
    "\n",
    "loss_D = trainer.loss_GAN(D_fake, D_real)\n",
    "gp = wgan_gradient_penalty(\n",
    "    opt.repeat((2,) + (1,) * len(opt.shape[1:])),\n",
    "    recon,\n",
    "    trainer.critic,\n",
    "    trainer.device,\n",
    ")\n",
    "if False:\n",
    "    loss_D += gp\n",
    "\n",
    "\n",
    "# loss_D.backward()\n",
    "\n",
    "loss_G = -trainer.loss_GAN(trainer.critic(recon))\n",
    "# loss_G.backward()"
   ]
  },
  {
   "cell_type": "code",
   "execution_count": null,
   "metadata": {},
   "outputs": [],
   "source": [
    "make_dot(gp)"
   ]
  },
  {
   "cell_type": "code",
   "execution_count": null,
   "metadata": {},
   "outputs": [],
   "source": [
    "# trainer.logger_interface([sample], [recon], [attenuations], 0, \"train\")"
   ]
  },
  {
   "cell_type": "code",
   "execution_count": null,
   "metadata": {},
   "outputs": [],
   "source": [
    "# EXAMPLE TO CREATE SITK IMAGES TO IMPORT INTO ITK-SNAP\n",
    "from pathlib import Path\n",
    "\n",
    "from contrast_gan_3D.data.HD5Scan import HD5Scan\n",
    "from contrast_gan_3D.utils import io_utils\n",
    "\n",
    "test_folder = Path(\"/home/marco/data/after_preproc\")\n",
    "test_folder.mkdir(exist_ok=True)\n",
    "\n",
    "p = Path(\"/home/marco/data/MMWHS/ct_test/ct_test_2035_image.h5\")\n",
    "print(p)\n",
    "\n",
    "if False:\n",
    "    with HD5Scan(p) as scan:\n",
    "        pprint(scan.meta)\n",
    "        print(scan.ccta.shape)\n",
    "\n",
    "        # HWD -> DHW (xyz->zyx, numpy to sitk convention)\n",
    "        ccta = scan.ccta[::].transpose(2, 0, 1)\n",
    "        io_utils.to_itksnap_volume(\n",
    "            ccta,\n",
    "            scan.meta[\"offset\"],\n",
    "            scan.meta[\"spacing\"],\n",
    "            test_folder / f\"{p.stem}.mhd\",\n",
    "        )"
   ]
  }
 ],
 "metadata": {
  "kernelspec": {
   "display_name": "Python 3",
   "language": "python",
   "name": "python3"
  },
  "language_info": {
   "codemirror_mode": {
    "name": "ipython",
    "version": 3
   },
   "file_extension": ".py",
   "mimetype": "text/x-python",
   "name": "python",
   "nbconvert_exporter": "python",
   "pygments_lexer": "ipython3",
   "version": "3.11.7"
  }
 },
 "nbformat": 4,
 "nbformat_minor": 2
}
