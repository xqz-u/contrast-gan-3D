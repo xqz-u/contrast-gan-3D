{
 "cells": [
  {
   "cell_type": "code",
   "execution_count": 1,
   "metadata": {},
   "outputs": [
    {
     "name": "stdout",
     "output_type": "stream",
     "text": [
      "/home/marco/contrast-gan-3D\n"
     ]
    }
   ],
   "source": [
    "%cd .."
   ]
  },
  {
   "cell_type": "code",
   "execution_count": 2,
   "metadata": {},
   "outputs": [
    {
     "name": "stdout",
     "output_type": "stream",
     "text": [
      "/home/marco/data/MMWHS/ct_test/ct_test_2027_image.h5\n",
      "/home/marco/contrast-gan-3D/logs/model_checkpoints/blwlllmf/7000.pt True\n",
      "/home/marco/contrast-gan-3D/logs/model_checkpoints/g5gqrbqo/10000.pt True\n"
     ]
    }
   ],
   "source": [
    "from pathlib import Path\n",
    "\n",
    "from contrast_gan_3D.config import CHECKPOINTS_DIR\n",
    "from contrast_gan_3D.eval.CCTAContrastCorrector import CCTAContrastCorrector\n",
    "from contrast_gan_3D.experiments.basic_conf import (\n",
    "    generator_class,\n",
    "    scaler,\n",
    "    train_patch_size,\n",
    ")\n",
    "from contrast_gan_3D.utils import set_GPU\n",
    "\n",
    "test_folder = Path(\"/home/marco/data/test_inference\")\n",
    "test_folder.mkdir(exist_ok=True)\n",
    "\n",
    "p = Path(\"/home/marco/data/MMWHS/ct_test/ct_test_2027_image.h5\")\n",
    "print(p)\n",
    "\n",
    "model_checkpoint_3D = CHECKPOINTS_DIR / \"blwlllmf\" / \"7000.pt\"\n",
    "model_checkpoint_2D = CHECKPOINTS_DIR / \"g5gqrbqo\" / \"10000.pt\"\n",
    "print(model_checkpoint_3D, model_checkpoint_3D.is_file())\n",
    "print(model_checkpoint_2D, model_checkpoint_2D.is_file())\n",
    "\n",
    "device = set_GPU(3)"
   ]
  },
  {
   "cell_type": "code",
   "execution_count": 3,
   "metadata": {},
   "outputs": [
    {
     "name": "stdout",
     "output_type": "stream",
     "text": [
      "[2024-04-25 18:41:05,152: INFO] Loaded model checkpoint '/home/marco/contrast-gan-3D/logs/model_checkpoints/blwlllmf/7000.pt' (contrast_gan_3D.eval.CCTAContrastCorrector:58)\n"
     ]
    },
    {
     "data": {
      "text/plain": [
       "CCTAContrastCorrector(model=ResnetGenerator(\n",
       "  (model): Sequential(\n",
       "    (first): ConvBlock(\n",
       "      (conv): Conv3d(1, 16, kernel_size=(7, 7, 7), stride=(1, 1, 1), padding=(3, 3, 3), bias=False, padding_mode=reflect)\n",
       "      (normalization): BatchNorm3d(16, eps=1e-05, momentum=0.1, affine=True, track_running_stats=True)\n",
       "      (activation_fn): ReLU(inplace=True)\n",
       "    )\n",
       "    (downsampling): Sequential(\n",
       "      (0): ConvBlock(\n",
       "        (conv): Conv3d(16, 32, kernel_size=(3, 3, 3), stride=(2, 2, 2), padding=(1, 1, 1), bias=False)\n",
       "        (normalization): BatchNorm3d(32, eps=1e-05, momentum=0.1, affine=True, track_running_stats=True)\n",
       "        (activation_fn): ReLU(inplace=True)\n",
       "      )\n",
       "      (1): ConvBlock(\n",
       "        (conv): Conv3d(32, 64, kernel_size=(3, 3, 3), stride=(2, 2, 2), padding=(1, 1, 1), bias=False)\n",
       "        (normalization): BatchNorm3d(64, eps=1e-05, momentum=0.1, affine=True, track_running_stats=True)\n",
       "        (activation_fn): ReLU(inplace=True)\n",
       "      )\n",
       "    )\n",
       "    (resnet_backbone): Sequential(\n",
       "      (0): ResNetBlock(\n",
       "        (block0): ConvBlock(\n",
       "          (conv): Conv3d(64, 64, kernel_size=(3, 3, 3), stride=(1, 1, 1), padding=(1, 1, 1), bias=False)\n",
       "          (normalization): BatchNorm3d(64, eps=1e-05, momentum=0.1, affine=True, track_running_stats=True)\n",
       "          (activation_fn): Identity()\n",
       "        )\n",
       "        (dropout): Identity()\n",
       "        (block1): ConvBlock(\n",
       "          (conv): Conv3d(64, 64, kernel_size=(3, 3, 3), stride=(1, 1, 1), padding=(1, 1, 1), bias=False)\n",
       "          (normalization): BatchNorm3d(64, eps=1e-05, momentum=0.1, affine=True, track_running_stats=True)\n",
       "          (activation_fn): ReLU(inplace=True)\n",
       "        )\n",
       "      )\n",
       "      (1): ResNetBlock(\n",
       "        (block0): ConvBlock(\n",
       "          (conv): Conv3d(64, 64, kernel_size=(3, 3, 3), stride=(1, 1, 1), padding=(1, 1, 1), bias=False)\n",
       "          (normalization): BatchNorm3d(64, eps=1e-05, momentum=0.1, affine=True, track_running_stats=True)\n",
       "          (activation_fn): Identity()\n",
       "        )\n",
       "        (dropout): Identity()\n",
       "        (block1): ConvBlock(\n",
       "          (conv): Conv3d(64, 64, kernel_size=(3, 3, 3), stride=(1, 1, 1), padding=(1, 1, 1), bias=False)\n",
       "          (normalization): BatchNorm3d(64, eps=1e-05, momentum=0.1, affine=True, track_running_stats=True)\n",
       "          (activation_fn): ReLU(inplace=True)\n",
       "        )\n",
       "      )\n",
       "      (2): ResNetBlock(\n",
       "        (block0): ConvBlock(\n",
       "          (conv): Conv3d(64, 64, kernel_size=(3, 3, 3), stride=(1, 1, 1), padding=(1, 1, 1), bias=False)\n",
       "          (normalization): BatchNorm3d(64, eps=1e-05, momentum=0.1, affine=True, track_running_stats=True)\n",
       "          (activation_fn): Identity()\n",
       "        )\n",
       "        (dropout): Identity()\n",
       "        (block1): ConvBlock(\n",
       "          (conv): Conv3d(64, 64, kernel_size=(3, 3, 3), stride=(1, 1, 1), padding=(1, 1, 1), bias=False)\n",
       "          (normalization): BatchNorm3d(64, eps=1e-05, momentum=0.1, affine=True, track_running_stats=True)\n",
       "          (activation_fn): ReLU(inplace=True)\n",
       "        )\n",
       "      )\n",
       "      (3): ResNetBlock(\n",
       "        (block0): ConvBlock(\n",
       "          (conv): Conv3d(64, 64, kernel_size=(3, 3, 3), stride=(1, 1, 1), padding=(1, 1, 1), bias=False)\n",
       "          (normalization): BatchNorm3d(64, eps=1e-05, momentum=0.1, affine=True, track_running_stats=True)\n",
       "          (activation_fn): Identity()\n",
       "        )\n",
       "        (dropout): Identity()\n",
       "        (block1): ConvBlock(\n",
       "          (conv): Conv3d(64, 64, kernel_size=(3, 3, 3), stride=(1, 1, 1), padding=(1, 1, 1), bias=False)\n",
       "          (normalization): BatchNorm3d(64, eps=1e-05, momentum=0.1, affine=True, track_running_stats=True)\n",
       "          (activation_fn): ReLU(inplace=True)\n",
       "        )\n",
       "      )\n",
       "    )\n",
       "    (upsampling): Sequential(\n",
       "      (0): ConvBlock(\n",
       "        (conv): ConvTranspose3d(64, 32, kernel_size=(3, 3, 3), stride=(2, 2, 2), padding=(1, 1, 1), output_padding=(1, 1, 1), bias=False)\n",
       "        (normalization): BatchNorm3d(32, eps=1e-05, momentum=0.1, affine=True, track_running_stats=True)\n",
       "        (activation_fn): ReLU(inplace=True)\n",
       "      )\n",
       "      (1): ConvBlock(\n",
       "        (conv): ConvTranspose3d(32, 16, kernel_size=(3, 3, 3), stride=(2, 2, 2), padding=(1, 1, 1), output_padding=(1, 1, 1), bias=False)\n",
       "        (normalization): BatchNorm3d(16, eps=1e-05, momentum=0.1, affine=True, track_running_stats=True)\n",
       "        (activation_fn): ReLU(inplace=True)\n",
       "      )\n",
       "    )\n",
       "    (last_conv): Conv3d(16, 1, kernel_size=(7, 7, 7), stride=(1, 1, 1), padding=(3, 3, 3), padding_mode=reflect)\n",
       "    (tanh): Tanh()\n",
       "  )\n",
       "), scaler=FactorZeroCenterScaler(low=-1024, high=1500, shift=238, factor=600), device=device(type='cuda', index=3), inference_patch_size=(128, 128, 128), checkpoint_path=PosixPath('/home/marco/contrast-gan-3D/logs/model_checkpoints/blwlllmf/7000.pt'), upsampler=<bound method CCTAContrastCorrector.<lambda> of ...>)"
      ]
     },
     "execution_count": 3,
     "metadata": {},
     "output_type": "execute_result"
    }
   ],
   "source": [
    "inference_patch_size = train_patch_size\n",
    "# inference_patch_size = (100, 100, 101)\n",
    "# inference_patch_size = None\n",
    "# checkpoint_path = model_checkpoint_2D\n",
    "checkpoint_path = model_checkpoint_3D\n",
    "\n",
    "corrector = CCTAContrastCorrector(\n",
    "    generator_class,\n",
    "    scaler,\n",
    "    device,\n",
    "    inference_patch_size=inference_patch_size,\n",
    "    checkpoint_path=checkpoint_path,\n",
    ")\n",
    "corrector"
   ]
  },
  {
   "cell_type": "code",
   "execution_count": 4,
   "metadata": {},
   "outputs": [
    {
     "name": "stderr",
     "output_type": "stream",
     "text": [
      "/home/marco/micromamba/envs/contrast-gan-3D/lib/python3.11/site-packages/patchly/array_like.py:23: UserWarning: To copy construct from a tensor, it is recommended to use sourceTensor.clone().detach() or sourceTensor.clone().detach().requires_grad_(True), rather than torch.tensor(sourceTensor).\n",
      "  data = torch.tensor(data)\n"
     ]
    },
    {
     "data": {
      "application/vnd.jupyter.widget-view+json": {
       "model_id": "f7bcd64e4bd740d68ebb2d42b6a46f23",
       "version_major": 2,
       "version_minor": 0
      },
      "text/plain": [
       "/home/marco/data/MMWHS/ct_test/ct_test_2027_image.h5:   0%|          | 0/2 [00:00<?, ?it/s]"
      ]
     },
     "metadata": {},
     "output_type": "display_data"
    },
    {
     "name": "stdout",
     "output_type": "stream",
     "text": [
      "[2024-04-25 18:41:10,683: INFO] Saving scan to '/home/marco/data/test_inference/ct_test_2027_image.mhd'... (contrast_gan_3D.eval.CCTAContrastCorrector:114)\n",
      "[2024-04-25 18:41:23,466: INFO] DONE saved '/home/marco/data/test_inference/ct_test_2027_image.mhd' (contrast_gan_3D.eval.CCTAContrastCorrector:116)\n"
     ]
    }
   ],
   "source": [
    "out, *rest = corrector(p)\n",
    "corrector.save_scan(out, *rest, test_folder / f\"{p.stem}.mhd\")"
   ]
  }
 ],
 "metadata": {
  "kernelspec": {
   "display_name": "Python 3",
   "language": "python",
   "name": "python3"
  },
  "language_info": {
   "codemirror_mode": {
    "name": "ipython",
    "version": 3
   },
   "file_extension": ".py",
   "mimetype": "text/x-python",
   "name": "python",
   "nbconvert_exporter": "python",
   "pygments_lexer": "ipython3",
   "version": "3.11.7"
  }
 },
 "nbformat": 4,
 "nbformat_minor": 2
}
